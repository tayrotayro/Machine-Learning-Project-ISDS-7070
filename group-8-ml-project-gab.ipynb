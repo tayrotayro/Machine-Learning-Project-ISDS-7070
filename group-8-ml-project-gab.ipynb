{
 "cells": [
  {
   "cell_type": "markdown",
   "metadata": {},
   "source": [
    "## Import Packages"
   ]
  },
  {
   "cell_type": "code",
   "execution_count": 1,
   "metadata": {
    "_cell_guid": "b1076dfc-b9ad-4769-8c92-a6c4dae69d19",
    "_uuid": "8f2839f25d086af736a60e9eeb907d3b93b6e0e5"
   },
   "outputs": [],
   "source": [
    "import numpy as np \n",
    "import pandas as pd \n",
    "import matplotlib.pyplot as plt\n",
    "import seaborn as sns\n",
    "%matplotlib inline\n",
    "import scipy.stats as stats\n",
    "import math\n",
    "from bioinfokit.analys import get_data, stat\n",
    "from scipy.stats import chi2\n",
    "from sklearn.model_selection import train_test_split\n",
    "from sklearn.linear_model import LinearRegression\n",
    "from sklearn.metrics import mean_squared_error, r2_score\n",
    "from sklearn.metrics import confusion_matrix,classification_report\n",
    "from sklearn.neighbors import KNeighborsClassifier\n",
    "sns.set()\n",
    "from sklearn.metrics import roc_curve\n",
    "from sklearn.metrics import roc_auc_score\n",
    "from sklearn import datasets, linear_model\n",
    "from sklearn.metrics import accuracy_score\n",
    "from sklearn.linear_model import LogisticRegression\n",
    "from sklearn import metrics\n",
    "from sklearn.ensemble import RandomForestClassifier\n",
    "\n",
    "import os\n",
    "for dirname, _, filenames in os.walk('/kaggle/input'):\n",
    "    for filename in filenames:\n",
    "        print(os.path.join(dirname, filename))"
   ]
  },
  {
   "cell_type": "markdown",
   "metadata": {},
   "source": [
    "## Load and Inspect Data"
   ]
  },
  {
   "cell_type": "markdown",
   "metadata": {},
   "source": [
    "Please update the file location"
   ]
  },
  {
   "cell_type": "code",
   "execution_count": 2,
   "metadata": {},
   "outputs": [],
   "source": [
    "df_ckd = pd.read_excel('ML_project_kidney_disease.xlsx')"
   ]
  },
  {
   "cell_type": "code",
   "execution_count": 3,
   "metadata": {},
   "outputs": [
    {
     "data": {
      "text/html": [
       "<div>\n",
       "<style scoped>\n",
       "    .dataframe tbody tr th:only-of-type {\n",
       "        vertical-align: middle;\n",
       "    }\n",
       "\n",
       "    .dataframe tbody tr th {\n",
       "        vertical-align: top;\n",
       "    }\n",
       "\n",
       "    .dataframe thead th {\n",
       "        text-align: right;\n",
       "    }\n",
       "</style>\n",
       "<table border=\"1\" class=\"dataframe\">\n",
       "  <thead>\n",
       "    <tr style=\"text-align: right;\">\n",
       "      <th></th>\n",
       "      <th>id</th>\n",
       "      <th>age</th>\n",
       "      <th>bp</th>\n",
       "      <th>sg</th>\n",
       "      <th>al</th>\n",
       "      <th>su</th>\n",
       "      <th>rbc</th>\n",
       "      <th>pc</th>\n",
       "      <th>pcc</th>\n",
       "      <th>ba</th>\n",
       "      <th>...</th>\n",
       "      <th>Unnamed: 28</th>\n",
       "      <th>Unnamed: 29</th>\n",
       "      <th>Unnamed: 30</th>\n",
       "      <th>Unnamed: 31</th>\n",
       "      <th>Unnamed: 32</th>\n",
       "      <th>Unnamed: 33</th>\n",
       "      <th>LEGEND</th>\n",
       "      <th>Unnamed: 35</th>\n",
       "      <th>Unnamed: 36</th>\n",
       "      <th>Unnamed: 37</th>\n",
       "    </tr>\n",
       "  </thead>\n",
       "  <tbody>\n",
       "    <tr>\n",
       "      <th>0</th>\n",
       "      <td>0</td>\n",
       "      <td>48.0</td>\n",
       "      <td>80.0</td>\n",
       "      <td>1.020</td>\n",
       "      <td>1.0</td>\n",
       "      <td>0.0</td>\n",
       "      <td>NaN</td>\n",
       "      <td>normal</td>\n",
       "      <td>notpresent</td>\n",
       "      <td>notpresent</td>\n",
       "      <td>...</td>\n",
       "      <td>NaN</td>\n",
       "      <td>NaN</td>\n",
       "      <td>NaN</td>\n",
       "      <td>NaN</td>\n",
       "      <td>NaN</td>\n",
       "      <td>NaN</td>\n",
       "      <td>Julian</td>\n",
       "      <td>NaN</td>\n",
       "      <td>NaN</td>\n",
       "      <td>NaN</td>\n",
       "    </tr>\n",
       "    <tr>\n",
       "      <th>1</th>\n",
       "      <td>1</td>\n",
       "      <td>7.0</td>\n",
       "      <td>50.0</td>\n",
       "      <td>1.020</td>\n",
       "      <td>4.0</td>\n",
       "      <td>0.0</td>\n",
       "      <td>NaN</td>\n",
       "      <td>normal</td>\n",
       "      <td>notpresent</td>\n",
       "      <td>notpresent</td>\n",
       "      <td>...</td>\n",
       "      <td>NaN</td>\n",
       "      <td>NaN</td>\n",
       "      <td>NaN</td>\n",
       "      <td>NaN</td>\n",
       "      <td>NaN</td>\n",
       "      <td>NaN</td>\n",
       "      <td>Peter</td>\n",
       "      <td>NaN</td>\n",
       "      <td>NaN</td>\n",
       "      <td>NaN</td>\n",
       "    </tr>\n",
       "    <tr>\n",
       "      <th>2</th>\n",
       "      <td>2</td>\n",
       "      <td>62.0</td>\n",
       "      <td>80.0</td>\n",
       "      <td>1.010</td>\n",
       "      <td>2.0</td>\n",
       "      <td>3.0</td>\n",
       "      <td>normal</td>\n",
       "      <td>normal</td>\n",
       "      <td>notpresent</td>\n",
       "      <td>notpresent</td>\n",
       "      <td>...</td>\n",
       "      <td>NaN</td>\n",
       "      <td>NaN</td>\n",
       "      <td>NaN</td>\n",
       "      <td>NaN</td>\n",
       "      <td>NaN</td>\n",
       "      <td>NaN</td>\n",
       "      <td>Rachel</td>\n",
       "      <td>NaN</td>\n",
       "      <td>NaN</td>\n",
       "      <td>NaN</td>\n",
       "    </tr>\n",
       "    <tr>\n",
       "      <th>3</th>\n",
       "      <td>3</td>\n",
       "      <td>48.0</td>\n",
       "      <td>70.0</td>\n",
       "      <td>1.005</td>\n",
       "      <td>4.0</td>\n",
       "      <td>0.0</td>\n",
       "      <td>normal</td>\n",
       "      <td>abnormal</td>\n",
       "      <td>present</td>\n",
       "      <td>notpresent</td>\n",
       "      <td>...</td>\n",
       "      <td>NaN</td>\n",
       "      <td>NaN</td>\n",
       "      <td>NaN</td>\n",
       "      <td>NaN</td>\n",
       "      <td>NaN</td>\n",
       "      <td>NaN</td>\n",
       "      <td>Taylor</td>\n",
       "      <td>NaN</td>\n",
       "      <td>NaN</td>\n",
       "      <td>NaN</td>\n",
       "    </tr>\n",
       "    <tr>\n",
       "      <th>4</th>\n",
       "      <td>4</td>\n",
       "      <td>51.0</td>\n",
       "      <td>80.0</td>\n",
       "      <td>1.010</td>\n",
       "      <td>2.0</td>\n",
       "      <td>0.0</td>\n",
       "      <td>normal</td>\n",
       "      <td>normal</td>\n",
       "      <td>notpresent</td>\n",
       "      <td>notpresent</td>\n",
       "      <td>...</td>\n",
       "      <td>NaN</td>\n",
       "      <td>NaN</td>\n",
       "      <td>NaN</td>\n",
       "      <td>NaN</td>\n",
       "      <td>NaN</td>\n",
       "      <td>NaN</td>\n",
       "      <td>NaN</td>\n",
       "      <td>NaN</td>\n",
       "      <td>NaN</td>\n",
       "      <td>NaN</td>\n",
       "    </tr>\n",
       "  </tbody>\n",
       "</table>\n",
       "<p>5 rows × 38 columns</p>\n",
       "</div>"
      ],
      "text/plain": [
       "   id   age    bp     sg   al   su     rbc        pc         pcc          ba  \\\n",
       "0   0  48.0  80.0  1.020  1.0  0.0     NaN    normal  notpresent  notpresent   \n",
       "1   1   7.0  50.0  1.020  4.0  0.0     NaN    normal  notpresent  notpresent   \n",
       "2   2  62.0  80.0  1.010  2.0  3.0  normal    normal  notpresent  notpresent   \n",
       "3   3  48.0  70.0  1.005  4.0  0.0  normal  abnormal     present  notpresent   \n",
       "4   4  51.0  80.0  1.010  2.0  0.0  normal    normal  notpresent  notpresent   \n",
       "\n",
       "   ...  Unnamed: 28  Unnamed: 29  Unnamed: 30  Unnamed: 31  Unnamed: 32  \\\n",
       "0  ...          NaN          NaN          NaN          NaN          NaN   \n",
       "1  ...          NaN          NaN          NaN          NaN          NaN   \n",
       "2  ...          NaN          NaN          NaN          NaN          NaN   \n",
       "3  ...          NaN          NaN          NaN          NaN          NaN   \n",
       "4  ...          NaN          NaN          NaN          NaN          NaN   \n",
       "\n",
       "   Unnamed: 33   LEGEND Unnamed: 35 Unnamed: 36 Unnamed: 37  \n",
       "0          NaN   Julian         NaN         NaN         NaN  \n",
       "1          NaN    Peter         NaN         NaN         NaN  \n",
       "2          NaN   Rachel         NaN         NaN         NaN  \n",
       "3          NaN  Taylor          NaN         NaN         NaN  \n",
       "4          NaN      NaN         NaN         NaN         NaN  \n",
       "\n",
       "[5 rows x 38 columns]"
      ]
     },
     "execution_count": 3,
     "metadata": {},
     "output_type": "execute_result"
    }
   ],
   "source": [
    "# Checking to see if it loaded successfully\n",
    "df_ckd.head()"
   ]
  },
  {
   "cell_type": "code",
   "execution_count": 4,
   "metadata": {},
   "outputs": [
    {
     "name": "stdout",
     "output_type": "stream",
     "text": [
      "<class 'pandas.core.frame.DataFrame'>\n",
      "RangeIndex: 400 entries, 0 to 399\n",
      "Data columns (total 38 columns):\n",
      " #   Column          Non-Null Count  Dtype  \n",
      "---  ------          --------------  -----  \n",
      " 0   id              400 non-null    int64  \n",
      " 1   age             391 non-null    float64\n",
      " 2   bp              388 non-null    float64\n",
      " 3   sg              353 non-null    float64\n",
      " 4   al              354 non-null    float64\n",
      " 5   su              351 non-null    float64\n",
      " 6   rbc             248 non-null    object \n",
      " 7   pc              335 non-null    object \n",
      " 8   pcc             396 non-null    object \n",
      " 9   ba              396 non-null    object \n",
      " 10  bgr             356 non-null    float64\n",
      " 11  bu              381 non-null    float64\n",
      " 12  sc              383 non-null    float64\n",
      " 13  sod             313 non-null    float64\n",
      " 14  pot             312 non-null    float64\n",
      " 15  hemo            348 non-null    float64\n",
      " 16  pcv             330 non-null    object \n",
      " 17  wc              295 non-null    object \n",
      " 18  rc              270 non-null    object \n",
      " 19  htn             398 non-null    object \n",
      " 20  dm              398 non-null    object \n",
      " 21  cad             398 non-null    object \n",
      " 22  appet           399 non-null    object \n",
      " 23  pe              399 non-null    object \n",
      " 24  ane             399 non-null    object \n",
      " 25  classification  400 non-null    object \n",
      " 26  CKD_class       400 non-null    int64  \n",
      " 27  Unnamed: 27     0 non-null      float64\n",
      " 28  Unnamed: 28     0 non-null      float64\n",
      " 29  Unnamed: 29     0 non-null      float64\n",
      " 30  Unnamed: 30     0 non-null      float64\n",
      " 31  Unnamed: 31     0 non-null      float64\n",
      " 32  Unnamed: 32     0 non-null      float64\n",
      " 33  Unnamed: 33     0 non-null      float64\n",
      " 34  LEGEND          4 non-null      object \n",
      " 35  Unnamed: 35     0 non-null      float64\n",
      " 36  Unnamed: 36     0 non-null      float64\n",
      " 37  Unnamed: 37     0 non-null      float64\n",
      "dtypes: float64(21), int64(2), object(15)\n",
      "memory usage: 118.9+ KB\n"
     ]
    }
   ],
   "source": [
    "# looking at the datastructure\n",
    "# looking for any undesired columns\n",
    "df_ckd.info()"
   ]
  },
  {
   "cell_type": "code",
   "execution_count": 5,
   "metadata": {},
   "outputs": [],
   "source": [
    "# Keep the desired columns: \n",
    "df_ckd = df_ckd[[\"id\",\"age\",\"bp\",\"sg\",\"al\",\"su\",\"rbc\",\"pc\",\"pcc\",\"ba\",\"bgr\",\"bu\",\"sc\",\"sod\",\"pot\",\"hemo\",\"pcv\",\"wc\",\"rc\",\"htn\",\"dm\",\"cad\",\"appet\",\"pe\",\"ane\",\"classification\"]]"
   ]
  },
  {
   "cell_type": "code",
   "execution_count": 6,
   "metadata": {},
   "outputs": [
    {
     "name": "stdout",
     "output_type": "stream",
     "text": [
      "<class 'pandas.core.frame.DataFrame'>\n",
      "RangeIndex: 400 entries, 0 to 399\n",
      "Data columns (total 26 columns):\n",
      " #   Column          Non-Null Count  Dtype  \n",
      "---  ------          --------------  -----  \n",
      " 0   id              400 non-null    int64  \n",
      " 1   age             391 non-null    float64\n",
      " 2   bp              388 non-null    float64\n",
      " 3   sg              353 non-null    float64\n",
      " 4   al              354 non-null    float64\n",
      " 5   su              351 non-null    float64\n",
      " 6   rbc             248 non-null    object \n",
      " 7   pc              335 non-null    object \n",
      " 8   pcc             396 non-null    object \n",
      " 9   ba              396 non-null    object \n",
      " 10  bgr             356 non-null    float64\n",
      " 11  bu              381 non-null    float64\n",
      " 12  sc              383 non-null    float64\n",
      " 13  sod             313 non-null    float64\n",
      " 14  pot             312 non-null    float64\n",
      " 15  hemo            348 non-null    float64\n",
      " 16  pcv             330 non-null    object \n",
      " 17  wc              295 non-null    object \n",
      " 18  rc              270 non-null    object \n",
      " 19  htn             398 non-null    object \n",
      " 20  dm              398 non-null    object \n",
      " 21  cad             398 non-null    object \n",
      " 22  appet           399 non-null    object \n",
      " 23  pe              399 non-null    object \n",
      " 24  ane             399 non-null    object \n",
      " 25  classification  400 non-null    object \n",
      "dtypes: float64(11), int64(1), object(14)\n",
      "memory usage: 81.4+ KB\n"
     ]
    },
    {
     "data": {
      "text/plain": [
       "id                  0\n",
       "age                 9\n",
       "bp                 12\n",
       "sg                 47\n",
       "al                 46\n",
       "su                 49\n",
       "rbc               152\n",
       "pc                 65\n",
       "pcc                 4\n",
       "ba                  4\n",
       "bgr                44\n",
       "bu                 19\n",
       "sc                 17\n",
       "sod                87\n",
       "pot                88\n",
       "hemo               52\n",
       "pcv                70\n",
       "wc                105\n",
       "rc                130\n",
       "htn                 2\n",
       "dm                  2\n",
       "cad                 2\n",
       "appet               1\n",
       "pe                  1\n",
       "ane                 1\n",
       "classification      0\n",
       "dtype: int64"
      ]
     },
     "execution_count": 6,
     "metadata": {},
     "output_type": "execute_result"
    }
   ],
   "source": [
    "# Looking at the datastructure and keep the desired columns\n",
    "df_ckd.info()\n",
    "# Check for missing data\n",
    "df_ckd.isnull().sum()"
   ]
  },
  {
   "cell_type": "code",
   "execution_count": 7,
   "metadata": {},
   "outputs": [
    {
     "data": {
      "image/png": "[encoded data removed]",
      "text/plain": [
       "<Figure size 432x288 with 1 Axes>"
      ]
     },
     "metadata": {},
     "output_type": "display_data"
    }
   ],
   "source": [
    "#vizualising the categorical variable ANE\n",
    "df_ckd['ane'].value_counts().plot(kind='bar')\n",
    "plt.legend()\n",
    "plt.xlabel(\"Ane\")\n",
    "plt.ylabel(\"Count\")\n",
    "plt.xticks(rotation=0)\n",
    "plt.show()"
   ]
  },
  {
   "cell_type": "code",
   "execution_count": 8,
   "metadata": {},
   "outputs": [
    {
     "name": "stderr",
     "output_type": "stream",
     "text": [
      "C:\\Users\\iting\\anaconda3\\lib\\site-packages\\matplotlib\\backends\\backend_agg.py:211: RuntimeWarning: Glyph 9 missing from current font.\n",
      "  font.set_text(s, 0.0, flags=flags)\n",
      "C:\\Users\\iting\\anaconda3\\lib\\site-packages\\matplotlib\\backends\\backend_agg.py:180: RuntimeWarning: Glyph 9 missing from current font.\n",
      "  font.set_text(s, 0, flags=flags)\n"
     ]
    },
    {
     "data": {
      "image/png": "[encoded data removed]",
      "text/plain": [
       "<Figure size 432x288 with 1 Axes>"
      ]
     },
     "metadata": {},
     "output_type": "display_data"
    }
   ],
   "source": [
    "#Identify the target variable\n",
    "df_ckd['classification'].value_counts().plot(kind='bar')\n",
    "plt.legend()\n",
    "plt.xlabel(\"classification\")\n",
    "plt.ylabel(\"Count\")\n",
    "plt.xticks(rotation=0)\n",
    "plt.show()\n"
   ]
  },
  {
   "cell_type": "code",
   "execution_count": 9,
   "metadata": {},
   "outputs": [
    {
     "name": "stdout",
     "output_type": "stream",
     "text": [
      "count     400\n",
      "unique      2\n",
      "top       ckd\n",
      "freq      250\n",
      "Name: classification, dtype: object\n",
      "missing class:  0.0 %\n",
      "ckd       250\n",
      "notckd    150\n",
      "Name: classification, dtype: int64\n"
     ]
    }
   ],
   "source": [
    "# Analyze classification target variable \n",
    "df_ckd[\"classification\"] = df_ckd[\"classification\"].astype(str)\n",
    "clas = df_ckd['classification']\n",
    "df_ckd[\"classification\"].replace(\"ckd\\t\",\"ckd\", inplace=True)\n",
    "print(clas.describe())\n",
    "# calculate the amount of missing data\n",
    "missing_clas = (clas.isnull().sum()/len(clas)) * 100\n",
    "print(\"missing class: \", missing_clas, \"%\" )\n",
    "\n",
    "print(df_ckd['classification'].value_counts())\n"
   ]
  },
  {
   "cell_type": "markdown",
   "metadata": {},
   "source": []
  },
  {
   "cell_type": "markdown",
   "metadata": {},
   "source": [
    "## Missing Data"
   ]
  },
  {
   "cell_type": "code",
   "execution_count": 10,
   "metadata": {},
   "outputs": [
    {
     "data": {
      "text/plain": [
       "242"
      ]
     },
     "execution_count": 10,
     "metadata": {},
     "output_type": "execute_result"
    }
   ],
   "source": [
    "# Determine the number of rows has at least one missing values \n",
    "sum(df_ckd.apply(lambda x: sum(x.isnull().values), axis = 1)>0)"
   ]
  },
  {
   "cell_type": "markdown",
   "metadata": {},
   "source": [
    "Removing the row entry that has more than 30% missing. 31 entries were removed, 7% of the data"
   ]
  },
  {
   "cell_type": "code",
   "execution_count": 11,
   "metadata": {},
   "outputs": [
    {
     "name": "stdout",
     "output_type": "stream",
     "text": [
      "<class 'pandas.core.frame.DataFrame'>\n",
      "Int64Index: 369 entries, 0 to 399\n",
      "Data columns (total 27 columns):\n",
      " #   Column           Non-Null Count  Dtype  \n",
      "---  ------           --------------  -----  \n",
      " 0   id               369 non-null    int64  \n",
      " 1   age              362 non-null    float64\n",
      " 2   bp               359 non-null    float64\n",
      " 3   sg               342 non-null    float64\n",
      " 4   al               342 non-null    float64\n",
      " 5   su               341 non-null    float64\n",
      " 6   rbc              245 non-null    object \n",
      " 7   pc               325 non-null    object \n",
      " 8   pcc              365 non-null    object \n",
      " 9   ba               365 non-null    object \n",
      " 10  bgr              336 non-null    float64\n",
      " 11  bu               358 non-null    float64\n",
      " 12  sc               360 non-null    float64\n",
      " 13  sod              302 non-null    float64\n",
      " 14  pot              301 non-null    float64\n",
      " 15  hemo             337 non-null    float64\n",
      " 16  pcv              328 non-null    object \n",
      " 17  wc               293 non-null    object \n",
      " 18  rc               270 non-null    object \n",
      " 19  htn              367 non-null    object \n",
      " 20  dm               367 non-null    object \n",
      " 21  cad              367 non-null    object \n",
      " 22  appet            368 non-null    object \n",
      " 23  pe               368 non-null    object \n",
      " 24  ane              368 non-null    object \n",
      " 25  classification   369 non-null    object \n",
      " 26  percent_missing  369 non-null    float64\n",
      "dtypes: float64(12), int64(1), object(14)\n",
      "memory usage: 80.7+ KB\n"
     ]
    },
    {
     "data": {
      "text/plain": [
       "id                   0\n",
       "age                  7\n",
       "bp                  10\n",
       "sg                  27\n",
       "al                  27\n",
       "su                  28\n",
       "rbc                124\n",
       "pc                  44\n",
       "pcc                  4\n",
       "ba                   4\n",
       "bgr                 33\n",
       "bu                  11\n",
       "sc                   9\n",
       "sod                 67\n",
       "pot                 68\n",
       "hemo                32\n",
       "pcv                 41\n",
       "wc                  76\n",
       "rc                  99\n",
       "htn                  2\n",
       "dm                   2\n",
       "cad                  2\n",
       "appet                1\n",
       "pe                   1\n",
       "ane                  1\n",
       "classification       0\n",
       "percent_missing      0\n",
       "dtype: int64"
      ]
     },
     "execution_count": 11,
     "metadata": {},
     "output_type": "execute_result"
    }
   ],
   "source": [
    "# Calcualting the percentage of missing data in each row\n",
    "percent_missing = df_ckd.apply(lambda x: sum(x.isnull().values), axis = 1) / len(df_ckd.columns) * 100\n",
    "df_ckd['percent_missing']=percent_missing\n",
    "df_ckd.head()\n",
    "#df_ckd.head()\n",
    "# Removing the column that has more than 30\n",
    "\n",
    "percent_cutoff = 30\n",
    "df_ckd_1 = df_ckd[df_ckd.percent_missing < percent_cutoff]\n",
    "\n",
    "\n",
    "df_ckd_1.info()\n",
    "df_ckd_1.isnull().sum()"
   ]
  },
  {
   "cell_type": "code",
   "execution_count": 12,
   "metadata": {},
   "outputs": [],
   "source": [
    "#creating a missing values dataframe to show counts and percentages missing from each variable\n",
    "missing_values = pd.DataFrame()"
   ]
  },
  {
   "cell_type": "code",
   "execution_count": 13,
   "metadata": {},
   "outputs": [],
   "source": [
    "missing_values['count']=df_ckd_1.isnull().sum()\n",
    "missing_values['percentage']=df_ckd_1.isnull().sum()/len(df_ckd_1.classification)*100"
   ]
  },
  {
   "cell_type": "code",
   "execution_count": 14,
   "metadata": {},
   "outputs": [
    {
     "data": {
      "text/plain": [
       "Index(['count', 'percentage'], dtype='object')"
      ]
     },
     "execution_count": 14,
     "metadata": {},
     "output_type": "execute_result"
    }
   ],
   "source": [
    "missing_values.columns"
   ]
  },
  {
   "cell_type": "code",
   "execution_count": 15,
   "metadata": {},
   "outputs": [
    {
     "data": {
      "text/html": [
       "<div>\n",
       "<style scoped>\n",
       "    .dataframe tbody tr th:only-of-type {\n",
       "        vertical-align: middle;\n",
       "    }\n",
       "\n",
       "    .dataframe tbody tr th {\n",
       "        vertical-align: top;\n",
       "    }\n",
       "\n",
       "    .dataframe thead th {\n",
       "        text-align: right;\n",
       "    }\n",
       "</style>\n",
       "<table border=\"1\" class=\"dataframe\">\n",
       "  <thead>\n",
       "    <tr style=\"text-align: right;\">\n",
       "      <th></th>\n",
       "      <th>count</th>\n",
       "      <th>percentage</th>\n",
       "    </tr>\n",
       "  </thead>\n",
       "  <tbody>\n",
       "    <tr>\n",
       "      <th>id</th>\n",
       "      <td>0</td>\n",
       "      <td>0.00</td>\n",
       "    </tr>\n",
       "    <tr>\n",
       "      <th>classification</th>\n",
       "      <td>0</td>\n",
       "      <td>0.00</td>\n",
       "    </tr>\n",
       "    <tr>\n",
       "      <th>percent_missing</th>\n",
       "      <td>0</td>\n",
       "      <td>0.00</td>\n",
       "    </tr>\n",
       "    <tr>\n",
       "      <th>appet</th>\n",
       "      <td>1</td>\n",
       "      <td>0.27</td>\n",
       "    </tr>\n",
       "    <tr>\n",
       "      <th>ane</th>\n",
       "      <td>1</td>\n",
       "      <td>0.27</td>\n",
       "    </tr>\n",
       "    <tr>\n",
       "      <th>pe</th>\n",
       "      <td>1</td>\n",
       "      <td>0.27</td>\n",
       "    </tr>\n",
       "    <tr>\n",
       "      <th>cad</th>\n",
       "      <td>2</td>\n",
       "      <td>0.54</td>\n",
       "    </tr>\n",
       "    <tr>\n",
       "      <th>htn</th>\n",
       "      <td>2</td>\n",
       "      <td>0.54</td>\n",
       "    </tr>\n",
       "    <tr>\n",
       "      <th>dm</th>\n",
       "      <td>2</td>\n",
       "      <td>0.54</td>\n",
       "    </tr>\n",
       "    <tr>\n",
       "      <th>pcc</th>\n",
       "      <td>4</td>\n",
       "      <td>1.08</td>\n",
       "    </tr>\n",
       "    <tr>\n",
       "      <th>ba</th>\n",
       "      <td>4</td>\n",
       "      <td>1.08</td>\n",
       "    </tr>\n",
       "    <tr>\n",
       "      <th>age</th>\n",
       "      <td>7</td>\n",
       "      <td>1.90</td>\n",
       "    </tr>\n",
       "    <tr>\n",
       "      <th>sc</th>\n",
       "      <td>9</td>\n",
       "      <td>2.44</td>\n",
       "    </tr>\n",
       "    <tr>\n",
       "      <th>bp</th>\n",
       "      <td>10</td>\n",
       "      <td>2.71</td>\n",
       "    </tr>\n",
       "    <tr>\n",
       "      <th>bu</th>\n",
       "      <td>11</td>\n",
       "      <td>2.98</td>\n",
       "    </tr>\n",
       "    <tr>\n",
       "      <th>al</th>\n",
       "      <td>27</td>\n",
       "      <td>7.32</td>\n",
       "    </tr>\n",
       "    <tr>\n",
       "      <th>sg</th>\n",
       "      <td>27</td>\n",
       "      <td>7.32</td>\n",
       "    </tr>\n",
       "    <tr>\n",
       "      <th>su</th>\n",
       "      <td>28</td>\n",
       "      <td>7.59</td>\n",
       "    </tr>\n",
       "    <tr>\n",
       "      <th>hemo</th>\n",
       "      <td>32</td>\n",
       "      <td>8.67</td>\n",
       "    </tr>\n",
       "    <tr>\n",
       "      <th>bgr</th>\n",
       "      <td>33</td>\n",
       "      <td>8.94</td>\n",
       "    </tr>\n",
       "    <tr>\n",
       "      <th>pcv</th>\n",
       "      <td>41</td>\n",
       "      <td>11.11</td>\n",
       "    </tr>\n",
       "    <tr>\n",
       "      <th>pc</th>\n",
       "      <td>44</td>\n",
       "      <td>11.92</td>\n",
       "    </tr>\n",
       "    <tr>\n",
       "      <th>sod</th>\n",
       "      <td>67</td>\n",
       "      <td>18.16</td>\n",
       "    </tr>\n",
       "    <tr>\n",
       "      <th>pot</th>\n",
       "      <td>68</td>\n",
       "      <td>18.43</td>\n",
       "    </tr>\n",
       "    <tr>\n",
       "      <th>wc</th>\n",
       "      <td>76</td>\n",
       "      <td>20.60</td>\n",
       "    </tr>\n",
       "    <tr>\n",
       "      <th>rc</th>\n",
       "      <td>99</td>\n",
       "      <td>26.83</td>\n",
       "    </tr>\n",
       "    <tr>\n",
       "      <th>rbc</th>\n",
       "      <td>124</td>\n",
       "      <td>33.60</td>\n",
       "    </tr>\n",
       "  </tbody>\n",
       "</table>\n",
       "</div>"
      ],
      "text/plain": [
       "                 count  percentage\n",
       "id                   0        0.00\n",
       "classification       0        0.00\n",
       "percent_missing      0        0.00\n",
       "appet                1        0.27\n",
       "ane                  1        0.27\n",
       "pe                   1        0.27\n",
       "cad                  2        0.54\n",
       "htn                  2        0.54\n",
       "dm                   2        0.54\n",
       "pcc                  4        1.08\n",
       "ba                   4        1.08\n",
       "age                  7        1.90\n",
       "sc                   9        2.44\n",
       "bp                  10        2.71\n",
       "bu                  11        2.98\n",
       "al                  27        7.32\n",
       "sg                  27        7.32\n",
       "su                  28        7.59\n",
       "hemo                32        8.67\n",
       "bgr                 33        8.94\n",
       "pcv                 41       11.11\n",
       "pc                  44       11.92\n",
       "sod                 67       18.16\n",
       "pot                 68       18.43\n",
       "wc                  76       20.60\n",
       "rc                  99       26.83\n",
       "rbc                124       33.60"
      ]
     },
     "execution_count": 15,
     "metadata": {},
     "output_type": "execute_result"
    }
   ],
   "source": [
    "missing_values.drop('percent_missing',axis = 0)\n",
    "missing_values.sort_values(by=\"percentage\",axis = 0, ascending = True).round(2)"
   ]
  },
  {
   "cell_type": "code",
   "execution_count": 16,
   "metadata": {},
   "outputs": [],
   "source": [
    "#reset the indices for better analysis\n",
    "df_ckd_1.reset_index(drop=True, inplace=True)"
   ]
  },
  {
   "cell_type": "markdown",
   "metadata": {},
   "source": [
    "## Variable Significance: T Test"
   ]
  },
  {
   "cell_type": "code",
   "execution_count": 17,
   "metadata": {},
   "outputs": [],
   "source": [
    "#T-test"
   ]
  },
  {
   "cell_type": "code",
   "execution_count": 18,
   "metadata": {},
   "outputs": [
    {
     "name": "stdout",
     "output_type": "stream",
     "text": [
      "Requirement already satisfied: bioinfokit in c:\\users\\iting\\anaconda3\\lib\\site-packages (0.8.8)\n",
      "Requirement already satisfied: matplotlib in c:\\users\\iting\\anaconda3\\lib\\site-packages (from bioinfokit) (3.1.3)\n",
      "Requirement already satisfied: seaborn in c:\\users\\iting\\anaconda3\\lib\\site-packages (from bioinfokit) (0.10.0)\n",
      "Requirement already satisfied: pandas in c:\\users\\iting\\anaconda3\\lib\\site-packages (from bioinfokit) (1.0.1)\n",
      "Requirement already satisfied: textwrap3 in c:\\users\\iting\\anaconda3\\lib\\site-packages (from bioinfokit) (0.9.2)\n",
      "Requirement already satisfied: matplotlib-venn in c:\\users\\iting\\anaconda3\\lib\\site-packages (from bioinfokit) (0.11.5)\n",
      "Requirement already satisfied: numpy in c:\\users\\iting\\anaconda3\\lib\\site-packages (from bioinfokit) (1.18.1)\n",
      "Requirement already satisfied: scikit-learn in c:\\users\\iting\\anaconda3\\lib\\site-packages (from bioinfokit) (0.22.1)\n",
      "Requirement already satisfied: statsmodels in c:\\users\\iting\\anaconda3\\lib\\site-packages (from bioinfokit) (0.11.0)\n",
      "Requirement already satisfied: tabulate in c:\\users\\iting\\anaconda3\\lib\\site-packages (from bioinfokit) (0.8.7)\n",
      "Requirement already satisfied: scipy in c:\\users\\iting\\anaconda3\\lib\\site-packages (from bioinfokit) (1.4.1)\n",
      "Requirement already satisfied: cycler>=0.10 in c:\\users\\iting\\anaconda3\\lib\\site-packages (from matplotlib->bioinfokit) (0.10.0)\n",
      "Requirement already satisfied: kiwisolver>=1.0.1 in c:\\users\\iting\\anaconda3\\lib\\site-packages (from matplotlib->bioinfokit) (1.1.0)\n",
      "Requirement already satisfied: pyparsing!=2.0.4,!=2.1.2,!=2.1.6,>=2.0.1 in c:\\users\\iting\\anaconda3\\lib\\site-packages (from matplotlib->bioinfokit) (2.4.6)\n",
      "Requirement already satisfied: python-dateutil>=2.1 in c:\\users\\iting\\anaconda3\\lib\\site-packages (from matplotlib->bioinfokit) (2.8.1)\n",
      "Requirement already satisfied: pytz>=2017.2 in c:\\users\\iting\\anaconda3\\lib\\site-packages (from pandas->bioinfokit) (2019.3)\n",
      "Requirement already satisfied: joblib>=0.11 in c:\\users\\iting\\anaconda3\\lib\\site-packages (from scikit-learn->bioinfokit) (0.14.1)\n",
      "Requirement already satisfied: patsy>=0.5 in c:\\users\\iting\\anaconda3\\lib\\site-packages (from statsmodels->bioinfokit) (0.5.1)\n",
      "Requirement already satisfied: six in c:\\users\\iting\\anaconda3\\lib\\site-packages (from cycler>=0.10->matplotlib->bioinfokit) (1.14.0)\n",
      "Requirement already satisfied: setuptools in c:\\users\\iting\\anaconda3\\lib\\site-packages (from kiwisolver>=1.0.1->matplotlib->bioinfokit) (45.2.0.post20200210)\n"
     ]
    }
   ],
   "source": [
    "!pip install bioinfokit"
   ]
  },
  {
   "cell_type": "code",
   "execution_count": 19,
   "metadata": {},
   "outputs": [
    {
     "name": "stdout",
     "output_type": "stream",
     "text": [
      "\u001b[1m \u001b[91m \u001b[4mAge T Test:\u001b[0m\n",
      "Warning: the two group variance are not equal. Rerun the test with evar=False\n",
      "\n",
      "Two sample ['ckd' 'notckd'] t-test with unequal variance \n",
      "\n",
      "------------------  ------------\n",
      "Mean diff           10.6008\n",
      "t                    4.24103\n",
      "Std Error            2.49959\n",
      "df                  84.9932\n",
      "P-value (one-tail)   2.81826e-05\n",
      "P-value (two-tail)   5.63651e-05\n",
      "Lower 95.0%          5.63096\n",
      "Upper 95.0%         15.5707\n",
      "------------------  ------------ \n",
      "\n",
      "Parameter estimates\n",
      "\n",
      "Level      Number     Mean    Std Dev    Std Error    Lower 95.0%    Upper 95.0%\n",
      "-------  --------  -------  ---------  -----------  -------------  -------------\n",
      "ckd            43  57.2791    13.463       2.0531         53.1358        61.4224\n",
      "notckd        115  46.6783    15.2893      1.42574        43.8539        49.5026 \n",
      "\n",
      "\u001b[1m \u001b[91m \u001b[4mBlood Pressure T Test:\u001b[0m\n",
      "Warning: the two group variance are not equal. Rerun the test with evar=False\n",
      "\n",
      "Two sample ['ckd' 'notckd'] t-test with unequal variance \n",
      "\n",
      "------------------  ------------\n",
      "Mean diff            8.17391\n",
      "t                    3.47354\n",
      "Std Error            2.35319\n",
      "df                  53.8743\n",
      "P-value (one-tail)   0.000510664\n",
      "P-value (two-tail)   0.00102133\n",
      "Lower 95.0%          3.45579\n",
      "Upper 95.0%         12.892\n",
      "------------------  ------------ \n",
      "\n",
      "Parameter estimates\n",
      "\n",
      "Level      Number     Mean    Std Dev    Std Error    Lower 95.0%    Upper 95.0%\n",
      "-------  --------  -------  ---------  -----------  -------------  -------------\n",
      "ckd            43  80        14.4749      2.20741         75.5453        84.4547\n",
      "notckd        115  71.8261    8.74418     0.815399        70.2108        73.4414 \n",
      "\n",
      "\u001b[1m \u001b[91m \u001b[4mBlood Glucose Random T Test:\u001b[0m\n",
      "Warning: the two group variance are not equal. Rerun the test with evar=False\n",
      "\n",
      "Two sample ['ckd' 'notckd'] t-test with unequal variance \n",
      "\n",
      "------------------  -------------\n",
      "Mean diff            85.9911\n",
      "t                     5.80515\n",
      "Std Error            14.8129\n",
      "df                   43.1863\n",
      "P-value (one-tail)    3.46044e-07\n",
      "P-value (two-tail)    6.92088e-07\n",
      "Lower 95.0%          56.1218\n",
      "Upper 95.0%         115.86\n",
      "------------------  ------------- \n",
      "\n",
      "Parameter estimates\n",
      "\n",
      "Level      Number     Mean    Std Dev    Std Error    Lower 95.0%    Upper 95.0%\n",
      "-------  --------  -------  ---------  -----------  -------------  -------------\n",
      "ckd            43  193.93     96.4588     14.7098         164.245        223.616\n",
      "notckd        115  107.939    18.7056      1.74431        104.484        111.395 \n",
      "\n",
      "\u001b[1m \u001b[91m \u001b[4mBlood Urea T Test:\u001b[0m\n",
      "Warning: the two group variance are not equal. Rerun the test with evar=False\n",
      "\n",
      "Two sample ['ckd' 'notckd'] t-test with unequal variance \n",
      "\n",
      "------------------  -----------\n",
      "Mean diff           71.9302\n",
      "t                    7.26311\n",
      "Std Error            9.9035\n",
      "df                  43.048\n",
      "P-value (one-tail)   2.6646e-09\n",
      "P-value (two-tail)   5.3292e-09\n",
      "Lower 95.0%         51.9586\n",
      "Upper 95.0%         91.9019\n",
      "------------------  ----------- \n",
      "\n",
      "Parameter estimates\n",
      "\n",
      "Level      Number    Mean    Std Dev    Std Error    Lower 95.0%    Upper 95.0%\n",
      "-------  --------  ------  ---------  -----------  -------------  -------------\n",
      "ckd            43  104.93    64.5418      9.84253        85.0672       124.793\n",
      "notckd        115   33       11.7667      1.09725        30.8263        35.1737 \n",
      "\n",
      "\u001b[1m \u001b[91m \u001b[4mSerum Creatinine T Test:\u001b[0m\n",
      "Warning: the two group variance are not equal. Rerun the test with evar=False\n",
      "\n",
      "Two sample ['ckd' 'notckd'] t-test with unequal variance \n",
      "\n",
      "------------------  ------------\n",
      "Mean diff            4.84032\n",
      "t                    7.52498\n",
      "Std Error            0.643234\n",
      "df                  42.1181\n",
      "P-value (one-tail)   1.27974e-09\n",
      "P-value (two-tail)   2.55947e-09\n",
      "Lower 95.0%          3.54233\n",
      "Upper 95.0%          6.13832\n",
      "------------------  ------------ \n",
      "\n",
      "Parameter estimates\n",
      "\n",
      "Level      Number      Mean    Std Dev    Std Error    Lower 95.0%    Upper 95.0%\n",
      "-------  --------  --------  ---------  -----------  -------------  -------------\n",
      "ckd            43  5.71163    4.21501     0.642783         4.41444       7.00882\n",
      "notckd        115  0.871304   0.258459    0.0241014        0.82356       0.919049 \n",
      "\n",
      "\u001b[1m \u001b[91m \u001b[4mSodium T Test:\u001b[0m\n",
      "Warning: the two group variance are not equal. Rerun the test with evar=False\n",
      "\n",
      "Two sample ['ckd' 'notckd'] t-test with unequal variance \n",
      "\n",
      "------------------  -------------\n",
      "Mean diff           -10.7507\n",
      "t                    -8.36208\n",
      "Std Error             1.28564\n",
      "df                   53.6316\n",
      "P-value (one-tail)    1.35765e-11\n",
      "P-value (two-tail)    2.71531e-11\n",
      "Lower 95.0%         -13.3286\n",
      "Upper 95.0%          -8.17269\n",
      "------------------  ------------- \n",
      "\n",
      "Parameter estimates\n",
      "\n",
      "Level      Number     Mean    Std Dev    Std Error    Lower 95.0%    Upper 95.0%\n",
      "-------  --------  -------  ---------  -----------  -------------  -------------\n",
      "ckd            43  131.023     7.9177      1.20744        128.587        133.46\n",
      "notckd        115  141.774     4.7352      0.44156        140.899        142.649 \n",
      "\n",
      "\u001b[1m \u001b[91m \u001b[4mPotassium T Test:\u001b[0m\n",
      "Warning: the two group variance are not equal. Rerun the test with evar=False\n",
      "\n",
      "Two sample ['ckd' 'notckd'] t-test with unequal variance \n",
      "\n",
      "------------------  ---------\n",
      "Mean diff            1.19567\n",
      "t                    1.19189\n",
      "Std Error            1.00317\n",
      "df                  42.2604\n",
      "P-value (one-tail)   0.119977\n",
      "P-value (two-tail)   0.239955\n",
      "Lower 95.0%         -0.828443\n",
      "Upper 95.0%          3.21979\n",
      "------------------  --------- \n",
      "\n",
      "Parameter estimates\n",
      "\n",
      "Level      Number     Mean    Std Dev    Std Error    Lower 95.0%    Upper 95.0%\n",
      "-------  --------  -------  ---------  -----------  -------------  -------------\n",
      "ckd            43  5.50698   6.56808     1.00162          3.48562        7.52833\n",
      "notckd        115  4.3113    0.597769    0.0557422        4.20088        4.42173 \n",
      "\n",
      "\u001b[1m \u001b[91m \u001b[4mHemoglobin T Test:\u001b[0m\n",
      "Warning: the two group variance are not equal. Rerun the test with evar=False\n",
      "\n",
      "Two sample ['ckd' 'notckd'] t-test with unequal variance \n",
      "\n",
      "------------------  -------------\n",
      "Mean diff            -5.38241\n",
      "t                   -15.2283\n",
      "Std Error             0.353448\n",
      "df                   54.0668\n",
      "P-value (one-tail)    1.66169e-21\n",
      "P-value (two-tail)    3.32337e-21\n",
      "Lower 95.0%          -6.09101\n",
      "Upper 95.0%          -4.67381\n",
      "------------------  ------------- \n",
      "\n",
      "Parameter estimates\n",
      "\n",
      "Level      Number      Mean    Std Dev    Std Error    Lower 95.0%    Upper 95.0%\n",
      "-------  --------  --------  ---------  -----------  -------------  -------------\n",
      "ckd            43   9.76977    2.17207     0.331237         9.1013        10.4382\n",
      "notckd        115  15.1522     1.32243     0.123318        14.9079        15.3965 \n",
      "\n",
      "\u001b[1m \u001b[91m \u001b[4mPacked Cell Volume T Test:\u001b[0m\n",
      "Warning: the two group variance are not equal. Rerun the test with evar=False\n",
      "\n",
      "Two sample ['ckd' 'notckd'] t-test with unequal variance \n",
      "\n",
      "------------------  -------------\n",
      "Mean diff           -16.8851\n",
      "t                   -14.5729\n",
      "Std Error             1.15867\n",
      "df                   52.7186\n",
      "P-value (one-tail)    1.97228e-20\n",
      "P-value (two-tail)    3.94456e-20\n",
      "Lower 95.0%         -19.2094\n",
      "Upper 95.0%         -14.5609\n",
      "------------------  ------------- \n",
      "\n",
      "Parameter estimates\n",
      "\n",
      "Level      Number     Mean    Std Dev    Std Error    Lower 95.0%    Upper 95.0%\n",
      "-------  --------  -------  ---------  -----------  -------------  -------------\n",
      "ckd            43  29.6279    7.16813     1.09313         27.4219        31.8339\n",
      "notckd        115  46.513     4.11963     0.384157        45.752         47.2741 \n",
      "\n"
     ]
    },
    {
     "data": {
      "text/plain": [
       "<Figure size 432x288 with 0 Axes>"
      ]
     },
     "metadata": {},
     "output_type": "display_data"
    },
    {
     "data": {
      "image/png": "[encoded data removed]",
      "text/plain": [
       "<Figure size 432x288 with 1 Axes>"
      ]
     },
     "metadata": {},
     "output_type": "display_data"
    },
    {
     "data": {
      "text/plain": [
       "<Figure size 432x288 with 0 Axes>"
      ]
     },
     "metadata": {},
     "output_type": "display_data"
    },
    {
     "data": {
      "image/png": "[encoded data removed]",
      "text/plain": [
       "<Figure size 432x288 with 1 Axes>"
      ]
     },
     "metadata": {},
     "output_type": "display_data"
    },
    {
     "data": {
      "text/plain": [
       "<Figure size 432x288 with 0 Axes>"
      ]
     },
     "metadata": {},
     "output_type": "display_data"
    },
    {
     "data": {
      "image/png": "[encoded data removed]",
      "text/plain": [
       "<Figure size 432x288 with 1 Axes>"
      ]
     },
     "metadata": {},
     "output_type": "display_data"
    },
    {
     "data": {
      "text/plain": [
       "<Figure size 432x288 with 0 Axes>"
      ]
     },
     "metadata": {},
     "output_type": "display_data"
    },
    {
     "data": {
      "image/png": "[encoded data removed]",
      "text/plain": [
       "<Figure size 432x288 with 1 Axes>"
      ]
     },
     "metadata": {},
     "output_type": "display_data"
    },
    {
     "data": {
      "text/plain": [
       "<Figure size 432x288 with 0 Axes>"
      ]
     },
     "metadata": {},
     "output_type": "display_data"
    },
    {
     "data": {
      "image/png": "[encoded data removed]",
      "text/plain": [
       "<Figure size 432x288 with 1 Axes>"
      ]
     },
     "metadata": {},
     "output_type": "display_data"
    },
    {
     "data": {
      "text/plain": [
       "<Figure size 432x288 with 0 Axes>"
      ]
     },
     "metadata": {},
     "output_type": "display_data"
    },
    {
     "data": {
      "image/png": "[encoded data removed]",
      "text/plain": [
       "<Figure size 432x288 with 1 Axes>"
      ]
     },
     "metadata": {},
     "output_type": "display_data"
    },
    {
     "data": {
      "text/plain": [
       "<Figure size 432x288 with 0 Axes>"
      ]
     },
     "metadata": {},
     "output_type": "display_data"
    },
    {
     "data": {
      "image/png": "[encoded data removed]",
      "text/plain": [
       "<Figure size 432x288 with 1 Axes>"
      ]
     },
     "metadata": {},
     "output_type": "display_data"
    },
    {
     "data": {
      "text/plain": [
       "<Figure size 432x288 with 0 Axes>"
      ]
     },
     "metadata": {},
     "output_type": "display_data"
    },
    {
     "data": {
      "image/png": "[encoded data removed]",
      "text/plain": [
       "<Figure size 432x288 with 1 Axes>"
      ]
     },
     "metadata": {},
     "output_type": "display_data"
    },
    {
     "data": {
      "text/plain": [
       "<Figure size 432x288 with 0 Axes>"
      ]
     },
     "metadata": {},
     "output_type": "display_data"
    },
    {
     "data": {
      "image/png": "[encoded data removed]",
      "text/plain": [
       "<Figure size 432x288 with 1 Axes>"
      ]
     },
     "metadata": {},
     "output_type": "display_data"
    }
   ],
   "source": [
    "print('\\033[1m \\033[91m \\033[4m' + 'Age T Test:' + '\\033[0m')\n",
    "stat.ttsam(df=df_ckd_1, xfac=\"classification\", res=\"age\", evar=False)\n",
    "print('\\033[1m \\033[91m \\033[4m' + 'Blood Pressure T Test:' + '\\033[0m')\n",
    "stat.ttsam(df=df_ckd_1, xfac=\"classification\", res=\"bp\", evar=False)\n",
    "print('\\033[1m \\033[91m \\033[4m' + 'Blood Glucose Random T Test:' + '\\033[0m')\n",
    "stat.ttsam(df=df_ckd_1, xfac=\"classification\", res=\"bgr\", evar=False)\n",
    "print('\\033[1m \\033[91m \\033[4m' + 'Blood Urea T Test:' + '\\033[0m')\n",
    "stat.ttsam(df=df_ckd_1, xfac=\"classification\", res=\"bu\", evar=False)\n",
    "print('\\033[1m \\033[91m \\033[4m' + 'Serum Creatinine T Test:' + '\\033[0m')\n",
    "stat.ttsam(df=df_ckd_1, xfac=\"classification\", res=\"sc\", evar=False)\n",
    "print('\\033[1m \\033[91m \\033[4m' + 'Sodium T Test:' + '\\033[0m')\n",
    "stat.ttsam(df=df_ckd_1, xfac=\"classification\", res=\"sod\", evar=False)\n",
    "print('\\033[1m \\033[91m \\033[4m' + 'Potassium T Test:' + '\\033[0m')\n",
    "stat.ttsam(df=df_ckd_1, xfac=\"classification\", res=\"pot\", evar=False)\n",
    "print('\\033[1m \\033[91m \\033[4m' + 'Hemoglobin T Test:' + '\\033[0m')\n",
    "stat.ttsam(df=df_ckd_1, xfac=\"classification\", res=\"hemo\", evar=False)\n",
    "print('\\033[1m \\033[91m \\033[4m' + 'Packed Cell Volume T Test:' + '\\033[0m')\n",
    "stat.ttsam(df=df_ckd_1, xfac=\"classification\", res=\"pcv\", evar=False)"
   ]
  },
  {
   "cell_type": "code",
   "execution_count": 20,
   "metadata": {},
   "outputs": [
    {
     "name": "stderr",
     "output_type": "stream",
     "text": [
      "C:\\Users\\iting\\anaconda3\\lib\\site-packages\\pandas\\core\\generic.py:6746: SettingWithCopyWarning: \n",
      "A value is trying to be set on a copy of a slice from a DataFrame\n",
      "\n",
      "See the caveats in the documentation: https://pandas.pydata.org/pandas-docs/stable/user_guide/indexing.html#returning-a-view-versus-a-copy\n",
      "  self._update_inplace(new_data)\n",
      "C:\\Users\\iting\\anaconda3\\lib\\site-packages\\pandas\\core\\frame.py:2963: SettingWithCopyWarning: \n",
      "A value is trying to be set on a copy of a slice from a DataFrame.\n",
      "Try using .loc[row_indexer,col_indexer] = value instead\n",
      "\n",
      "See the caveats in the documentation: https://pandas.pydata.org/pandas-docs/stable/user_guide/indexing.html#returning-a-view-versus-a-copy\n",
      "  self[k1] = value[k2]\n"
     ]
    },
    {
     "name": "stdout",
     "output_type": "stream",
     "text": [
      "\u001b[1m \u001b[91m \u001b[4mWhite Blood Cell Count T Test:\u001b[0m\n",
      "Warning: the two group variance are not equal. Rerun the test with evar=False\n",
      "\n",
      "Two sample ['ckd' 'notckd'] t-test with unequal variance \n",
      "\n",
      "------------------  --------------\n",
      "Mean diff           2854.36\n",
      "t                      3.90156\n",
      "Std Error            731.593\n",
      "df                    46.6635\n",
      "P-value (one-tail)     0.000152676\n",
      "P-value (two-tail)     0.000305352\n",
      "Lower 95.0%         1382.3\n",
      "Upper 95.0%         4326.41\n",
      "------------------  -------------- \n",
      "\n",
      "Parameter estimates\n",
      "\n",
      "Level      Number      Mean    Std Dev    Std Error    Lower 95.0%    Upper 95.0%\n",
      "-------  --------  --------  ---------  -----------  -------------  -------------\n",
      "ckd            43  10553.5     4671.46      712.391        9115.82        11991.2\n",
      "notckd        115   7699.13    1785.69      166.516        7369.26         8029 \n",
      "\n",
      "\u001b[1m \u001b[91m \u001b[4mRed Blood Cell Count T Test:\u001b[0m\n",
      "\n",
      "Two sample ['ckd' 'notckd'] t-test with unequal variance \n",
      "\n",
      "------------------  -------------\n",
      "Mean diff            -1.64378\n",
      "t                   -10.5371\n",
      "Std Error             0.156\n",
      "df                   54.5482\n",
      "P-value (one-tail)    4.58566e-15\n",
      "P-value (two-tail)    9.17132e-15\n",
      "Lower 95.0%          -1.95647\n",
      "Upper 95.0%          -1.33109\n",
      "------------------  ------------- \n",
      "\n",
      "Parameter estimates\n",
      "\n",
      "Level      Number     Mean    Std Dev    Std Error    Lower 95.0%    Upper 95.0%\n",
      "-------  --------  -------  ---------  -----------  -------------  -------------\n",
      "ckd            43  3.69535   0.95642      0.145853        3.40101        3.98969\n",
      "notckd        115  5.33913   0.593487     0.055343        5.2295         5.44876 \n",
      "\n"
     ]
    },
    {
     "data": {
      "text/plain": [
       "<Figure size 432x288 with 0 Axes>"
      ]
     },
     "metadata": {},
     "output_type": "display_data"
    },
    {
     "data": {
      "image/png": "[encoded data removed]",
      "text/plain": [
       "<Figure size 432x288 with 1 Axes>"
      ]
     },
     "metadata": {},
     "output_type": "display_data"
    },
    {
     "data": {
      "text/plain": [
       "<Figure size 432x288 with 0 Axes>"
      ]
     },
     "metadata": {},
     "output_type": "display_data"
    },
    {
     "data": {
      "image/png": "[encoded data removed]",
      "text/plain": [
       "<Figure size 432x288 with 1 Axes>"
      ]
     },
     "metadata": {},
     "output_type": "display_data"
    }
   ],
   "source": [
    "df_ckd_2 = df_ckd_1\n",
    "df_ckd_2[\"wc\"].replace(\"\\t?\",np.nan, inplace=True)\n",
    "df_ckd_2[\"rc\"].replace(\"\\t?\",np.nan, inplace=True)\n",
    "df_ckd_2[['wc']]=df_ckd_2[['wc']].astype(float)\n",
    "df_ckd_2[['rc']]=df_ckd_2[['rc']].astype(float)\n",
    "\n",
    "\n",
    "print('\\033[1m \\033[91m \\033[4m' + 'White Blood Cell Count T Test:' + '\\033[0m')\n",
    "stat.ttsam(df=df_ckd_2, xfac=\"classification\", res=\"wc\", evar=False)\n",
    "print('\\033[1m \\033[91m \\033[4m' + 'Red Blood Cell Count T Test:' + '\\033[0m')\n",
    "stat.ttsam(df=df_ckd_2, xfac=\"classification\", res=\"rc\", evar=False)"
   ]
  },
  {
   "cell_type": "code",
   "execution_count": 21,
   "metadata": {},
   "outputs": [
    {
     "name": "stdout",
     "output_type": "stream",
     "text": [
      "\u001b[1m \u001b[91m \u001b[4mPotassium T Test:\u001b[0m\n",
      "Warning: the two group variance are not equal. Rerun the test with evar=False\n",
      "\n",
      "Two sample ['ckd' 'notckd'] t-test with unequal variance \n",
      "\n",
      "------------------  ---------\n",
      "Mean diff            1.19567\n",
      "t                    1.19189\n",
      "Std Error            1.00317\n",
      "df                  42.2604\n",
      "P-value (one-tail)   0.119977\n",
      "P-value (two-tail)   0.239955\n",
      "Lower 95.0%         -0.828443\n",
      "Upper 95.0%          3.21979\n",
      "------------------  --------- \n",
      "\n",
      "Parameter estimates\n",
      "\n",
      "Level      Number     Mean    Std Dev    Std Error    Lower 95.0%    Upper 95.0%\n",
      "-------  --------  -------  ---------  -----------  -------------  -------------\n",
      "ckd            43  5.50698   6.56808     1.00162          3.48562        7.52833\n",
      "notckd        115  4.3113    0.597769    0.0557422        4.20088        4.42173 \n",
      "\n"
     ]
    },
    {
     "data": {
      "text/plain": [
       "<Figure size 432x288 with 0 Axes>"
      ]
     },
     "metadata": {},
     "output_type": "display_data"
    },
    {
     "data": {
      "image/png": "[encoded data removed]",
      "text/plain": [
       "<Figure size 432x288 with 1 Axes>"
      ]
     },
     "metadata": {},
     "output_type": "display_data"
    }
   ],
   "source": [
    "print('\\033[1m \\033[91m \\033[4m' + 'Potassium T Test:' + '\\033[0m')\n",
    "stat.ttsam(df=df_ckd_1, xfac=\"classification\", res=\"pot\", evar=False)"
   ]
  },
  {
   "cell_type": "code",
   "execution_count": 22,
   "metadata": {},
   "outputs": [
    {
     "data": {
      "image/png": "[encoded data removed]",
      "text/plain": [
       "<Figure size 720x288 with 1 Axes>"
      ]
     },
     "metadata": {},
     "output_type": "display_data"
    }
   ],
   "source": [
    "#vizualize potassium with classification\n",
    "y1 = df_ckd_1.pot[df_ckd_1['classification'] == 'ckd']\n",
    "y1 = y1.dropna()\n",
    "y2 = df_ckd_1.pot[df_ckd_1['classification'] == 'notckd']\n",
    "y2 = y2.dropna()\n",
    "plt.figure(figsize=(10, 4))\n",
    "plt.hist(y1, bins=np.arange(1, 10, 1), alpha=0.5, label=\"y1\")\n",
    "plt.hist(y2, bins=np.arange(1, 10, 1), alpha=0.5, label=\"y2\")\n",
    "plt.legend()\n",
    "plt.xlabel(\"Pot\")\n",
    "plt.ylabel(\"Cases\")\n",
    "plt.show()"
   ]
  },
  {
   "cell_type": "code",
   "execution_count": 23,
   "metadata": {},
   "outputs": [],
   "source": [
    "#delete potassium due to insigificance\n",
    "del df_ckd_1['pot']"
   ]
  },
  {
   "cell_type": "markdown",
   "metadata": {},
   "source": [
    "## Variable Significance: Chi Square"
   ]
  },
  {
   "cell_type": "code",
   "execution_count": 24,
   "metadata": {},
   "outputs": [
    {
     "name": "stderr",
     "output_type": "stream",
     "text": [
      "C:\\Users\\iting\\anaconda3\\lib\\site-packages\\pandas\\core\\frame.py:4172: SettingWithCopyWarning: \n",
      "A value is trying to be set on a copy of a slice from a DataFrame\n",
      "\n",
      "See the caveats in the documentation: https://pandas.pydata.org/pandas-docs/stable/user_guide/indexing.html#returning-a-view-versus-a-copy\n",
      "  method=method,\n"
     ]
    }
   ],
   "source": [
    "#remove space after some ckd observations\n",
    "df_ckd_1.replace(\"ckd\\t\",\"ckd\",inplace=True)"
   ]
  },
  {
   "cell_type": "code",
   "execution_count": 25,
   "metadata": {},
   "outputs": [
    {
     "name": "stdout",
     "output_type": "stream",
     "text": [
      "wc\n",
      "Degree of Freedom:- 1\n",
      "p-value: 0.165915861354751\n",
      "Significance level:  0.05\n",
      "Degree of Freedom:  1\n",
      "p-value: 0.165915861354751\n"
     ]
    }
   ],
   "source": [
    "# wc\n",
    "print(\"wc\")\n",
    "df_table=pd.crosstab(df_ckd_1['classification'],df_ckd_1['wc'])\n",
    "# print(df_table)\n",
    "\n",
    "df_table.values\n",
    "Observed_values = df_table.values\n",
    "#print(\"Observed Values :-\\n\",Observed_values)\n",
    "\n",
    "val=stats.chi2_contingency(df_table)\n",
    "val\n",
    "\n",
    "expected_values=val[3]\n",
    "\n",
    "no_of_rows=len(df_table.iloc[0:2,0])\n",
    "no_of_columns=len(df_table.iloc[0,0:2])\n",
    "ddof=(no_of_rows-1)*(no_of_columns-1)\n",
    "print(\"Degree of Freedom:-\",ddof)\n",
    "alpha = 0.05\n",
    "\n",
    "chi_square=sum([(o-e)**2./e for o,e in zip(Observed_values,expected_values)])\n",
    "chi_square_statistic=chi_square[0]+chi_square[1]\n",
    "# print(\"chi-square statistic:-\",chi_square_statistic)\n",
    "\n",
    "\n",
    "#p-value\n",
    "p_value=1-chi2.cdf(x=chi_square_statistic,df=ddof)\n",
    "print('p-value:',p_value)\n",
    "print('Significance level: ',alpha)\n",
    "print('Degree of Freedom: ',ddof)\n",
    "print('p-value:',p_value)"
   ]
  },
  {
   "cell_type": "code",
   "execution_count": 26,
   "metadata": {},
   "outputs": [
    {
     "name": "stdout",
     "output_type": "stream",
     "text": [
      "rbc\n",
      "Degree of Freedom:- 1\n",
      "p-value: 0.165915861354751\n",
      "Significance level:  0.05\n",
      "Degree of Freedom:  1\n",
      "p-value: 0.165915861354751\n"
     ]
    }
   ],
   "source": [
    "print(\"rbc\")\n",
    "df_table_rbc = pd.crosstab(df_ckd_1['classification'],df_ckd_1['rbc'])\n",
    "#print(df_table_rbc)\n",
    "df_table_rbc.values\n",
    "Observed_values_rbc = df_table_rbc.values\n",
    "#print(\"Observed Values :-\\n\",Observed_values_rbc)\n",
    "val_rbc=stats.chi2_contingency(df_table_rbc)\n",
    "val_rbc\n",
    "expected_values_rbc=val_rbc[3]\n",
    "no_of_rows_rbc=len(df_table_rbc.iloc[0:2,0])\n",
    "no_of_columns_rbc=len(df_table_rbc.iloc[0,0:2])\n",
    "ddof_rbc=(no_of_rows-1)*(no_of_columns-1)\n",
    "print(\"Degree of Freedom:-\",ddof)\n",
    "alpha = 0.05\n",
    "\n",
    "chi_square=sum([(o-e)**2./e for o,e in zip(Observed_values,expected_values)])\n",
    "chi_square_statistic=chi_square[0]+chi_square[1]\n",
    "#print(\"chi-square statistic:-\",chi_square_statistic)\n",
    "p_value_rbc=1-chi2.cdf(x=chi_square_statistic,df=ddof)\n",
    "print('p-value:',p_value_rbc)\n",
    "print('Significance level: ',alpha)\n",
    "print('Degree of Freedom: ',ddof)\n",
    "print('p-value:',p_value_rbc)\n",
    "\n"
   ]
  },
  {
   "cell_type": "code",
   "execution_count": 27,
   "metadata": {},
   "outputs": [
    {
     "name": "stdout",
     "output_type": "stream",
     "text": [
      "pcc\n",
      "Degree of Freedom:- 1\n",
      "p-value: 1.8548487190628293e-08\n",
      "Significance level:  0.05\n",
      "Degree of Freedom:  1\n",
      "p-value: 1.8548487190628293e-08\n"
     ]
    }
   ],
   "source": [
    "# pcc\n",
    "print(\"pcc\")\n",
    "df_table=pd.crosstab(df_ckd_1['classification'],df_ckd_1['pcc'])\n",
    "# print(df_table)\n",
    "\n",
    "df_table.values\n",
    "Observed_values = df_table.values\n",
    "#print(\"Observed Values :-\\n\",Observed_values)\n",
    "\n",
    "val=stats.chi2_contingency(df_table)\n",
    "val\n",
    "\n",
    "expected_values=val[3]\n",
    "\n",
    "no_of_rows=len(df_table.iloc[0:2,0])\n",
    "no_of_columns=len(df_table.iloc[0,0:2])\n",
    "ddof=(no_of_rows-1)*(no_of_columns-1)\n",
    "print(\"Degree of Freedom:-\",ddof)\n",
    "alpha = 0.05\n",
    "\n",
    "chi_square=sum([(o-e)**2./e for o,e in zip(Observed_values,expected_values)])\n",
    "chi_square_statistic=chi_square[0]+chi_square[1]\n",
    "# print(\"chi-square statistic:-\",chi_square_statistic)\n",
    "\n",
    "\n",
    "#p-value\n",
    "p_value=1-chi2.cdf(x=chi_square_statistic,df=ddof)\n",
    "print('p-value:',p_value)\n",
    "print('Significance level: ',alpha)\n",
    "print('Degree of Freedom: ',ddof)\n",
    "print('p-value:',p_value)"
   ]
  },
  {
   "cell_type": "code",
   "execution_count": 28,
   "metadata": {},
   "outputs": [
    {
     "name": "stdout",
     "output_type": "stream",
     "text": [
      "PC\n",
      "Degree of Freedom:- 1\n",
      "p-value: 0.0\n",
      "Significance level:  0.05\n",
      "Degree of Freedom:  1\n",
      "p-value: 0.0\n"
     ]
    }
   ],
   "source": [
    "# PC\n",
    "print(\"PC\")\n",
    "df_table=pd.crosstab(df_ckd_1['classification'],df_ckd_1['pc'])\n",
    "# print(df_table)\n",
    "\n",
    "df_table.values\n",
    "Observed_values = df_table.values\n",
    "#print(\"Observed Values :-\\n\",Observed_values)\n",
    "\n",
    "val=stats.chi2_contingency(df_table)\n",
    "val\n",
    "\n",
    "expected_values=val[3]\n",
    "\n",
    "no_of_rows=len(df_table.iloc[0:2,0])\n",
    "no_of_columns=len(df_table.iloc[0,0:2])\n",
    "ddof=(no_of_rows-1)*(no_of_columns-1)\n",
    "print(\"Degree of Freedom:-\",ddof)\n",
    "alpha = 0.05\n",
    "\n",
    "chi_square=sum([(o-e)**2./e for o,e in zip(Observed_values,expected_values)])\n",
    "chi_square_statistic=chi_square[0]+chi_square[1]\n",
    "# print(\"chi-square statistic:-\",chi_square_statistic)\n",
    "\n",
    "\n",
    "#p-value\n",
    "p_value=1-chi2.cdf(x=chi_square_statistic,df=ddof)\n",
    "print('p-value:',p_value)\n",
    "print('Significance level: ',alpha)\n",
    "print('Degree of Freedom: ',ddof)\n",
    "print('p-value:',p_value)"
   ]
  },
  {
   "cell_type": "code",
   "execution_count": 29,
   "metadata": {},
   "outputs": [
    {
     "name": "stdout",
     "output_type": "stream",
     "text": [
      "HTN\n",
      "Degree of Freedom:- 1\n",
      "p-value: 0.0\n",
      "Significance level:  0.05\n",
      "Degree of Freedom:  1\n",
      "p-value: 0.0\n"
     ]
    }
   ],
   "source": [
    "#HTN\n",
    "print(\"HTN\")\n",
    "df_table=pd.crosstab(df_ckd_1['classification'],df_ckd_1['pc'])\n",
    "# print(df_table)\n",
    "\n",
    "df_table.values\n",
    "Observed_values = df_table.values\n",
    "#print(\"Observed Values :-\\n\",Observed_values)\n",
    "\n",
    "val=stats.chi2_contingency(df_table)\n",
    "val\n",
    "\n",
    "expected_values=val[3]\n",
    "\n",
    "no_of_rows=len(df_table.iloc[0:2,0])\n",
    "no_of_columns=len(df_table.iloc[0,0:2])\n",
    "ddof=(no_of_rows-1)*(no_of_columns-1)\n",
    "print(\"Degree of Freedom:-\",ddof)\n",
    "alpha = 0.05\n",
    "\n",
    "chi_square=sum([(o-e)**2./e for o,e in zip(Observed_values,expected_values)])\n",
    "chi_square_statistic=chi_square[0]+chi_square[1]\n",
    "# print(\"chi-square statistic:-\",chi_square_statistic)\n",
    "\n",
    "\n",
    "#p-value\n",
    "p_value=1-chi2.cdf(x=chi_square_statistic,df=ddof)\n",
    "print('p-value:',p_value)\n",
    "print('Significance level: ',alpha)\n",
    "print('Degree of Freedom: ',ddof)\n",
    "print('p-value:',p_value)\n"
   ]
  },
  {
   "cell_type": "code",
   "execution_count": 30,
   "metadata": {},
   "outputs": [
    {
     "name": "stdout",
     "output_type": "stream",
     "text": [
      "cad\n",
      "Degree of Freedom:- 1\n",
      "p-value: 0.0\n",
      "Significance level:  0.05\n",
      "Degree of Freedom:  1\n",
      "p-value: 0.0\n"
     ]
    }
   ],
   "source": [
    "#cad\n",
    "print(\"cad\")\n",
    "df_table=pd.crosstab(df_ckd_1['classification'],df_ckd_1['pc'])\n",
    "# print(df_table)\n",
    "\n",
    "df_table.values\n",
    "Observed_values = df_table.values\n",
    "#print(\"Observed Values :-\\n\",Observed_values)\n",
    "\n",
    "val=stats.chi2_contingency(df_table)\n",
    "val\n",
    "\n",
    "expected_values=val[3]\n",
    "\n",
    "no_of_rows=len(df_table.iloc[0:2,0])\n",
    "no_of_columns=len(df_table.iloc[0,0:2])\n",
    "ddof=(no_of_rows-1)*(no_of_columns-1)\n",
    "print(\"Degree of Freedom:-\",ddof)\n",
    "alpha = 0.05\n",
    "\n",
    "chi_square=sum([(o-e)**2./e for o,e in zip(Observed_values,expected_values)])\n",
    "chi_square_statistic=chi_square[0]+chi_square[1]\n",
    "# print(\"chi-square statistic:-\",chi_square_statistic)\n",
    "\n",
    "\n",
    "#p-value\n",
    "p_value=1-chi2.cdf(x=chi_square_statistic,df=ddof)\n",
    "print('p-value:',p_value)\n",
    "print('Significance level: ',alpha)\n",
    "print('Degree of Freedom: ',ddof)\n",
    "print('p-value:',p_value)\n"
   ]
  },
  {
   "cell_type": "code",
   "execution_count": 31,
   "metadata": {},
   "outputs": [
    {
     "name": "stdout",
     "output_type": "stream",
     "text": [
      "DM\n",
      "Degree of Freedom:- 1\n",
      "p-value: 0.0\n",
      "Significance level:  0.05\n",
      "Degree of Freedom:  1\n",
      "p-value: 0.0\n"
     ]
    }
   ],
   "source": [
    "#DM\n",
    "print(\"DM\")\n",
    "df_table=pd.crosstab(df_ckd_1['classification'],df_ckd_1['pc'])\n",
    "# print(df_table)\n",
    "\n",
    "df_table.values\n",
    "Observed_values = df_table.values\n",
    "#print(\"Observed Values :-\\n\",Observed_values)\n",
    "\n",
    "val=stats.chi2_contingency(df_table)\n",
    "val\n",
    "\n",
    "expected_values=val[3]\n",
    "\n",
    "no_of_rows=len(df_table.iloc[0:2,0])\n",
    "no_of_columns=len(df_table.iloc[0,0:2])\n",
    "ddof=(no_of_rows-1)*(no_of_columns-1)\n",
    "print(\"Degree of Freedom:-\",ddof)\n",
    "alpha = 0.05\n",
    "\n",
    "chi_square=sum([(o-e)**2./e for o,e in zip(Observed_values,expected_values)])\n",
    "chi_square_statistic=chi_square[0]+chi_square[1]\n",
    "# print(\"chi-square statistic:-\",chi_square_statistic)\n",
    "\n",
    "\n",
    "#p-value\n",
    "p_value=1-chi2.cdf(x=chi_square_statistic,df=ddof)\n",
    "print('p-value:',p_value)\n",
    "print('Significance level: ',alpha)\n",
    "print('Degree of Freedom: ',ddof)\n",
    "print('p-value:',p_value)"
   ]
  },
  {
   "cell_type": "code",
   "execution_count": 32,
   "metadata": {},
   "outputs": [
    {
     "name": "stdout",
     "output_type": "stream",
     "text": [
      "APPET\n",
      "Degree of Freedom:- 1\n",
      "p-value: 0.0\n",
      "Significance level:  0.05\n",
      "Degree of Freedom:  1\n",
      "p-value: 0.0\n"
     ]
    }
   ],
   "source": [
    "#APPET\n",
    "print(\"APPET\")\n",
    "df_table=pd.crosstab(df_ckd_1['classification'],df_ckd_1['pc'])\n",
    "# print(df_table)\n",
    "\n",
    "df_table.values\n",
    "Observed_values = df_table.values\n",
    "#print(\"Observed Values :-\\n\",Observed_values)\n",
    "\n",
    "val=stats.chi2_contingency(df_table)\n",
    "val\n",
    "\n",
    "expected_values=val[3]\n",
    "\n",
    "no_of_rows=len(df_table.iloc[0:2,0])\n",
    "no_of_columns=len(df_table.iloc[0,0:2])\n",
    "ddof=(no_of_rows-1)*(no_of_columns-1)\n",
    "print(\"Degree of Freedom:-\",ddof)\n",
    "alpha = 0.05\n",
    "\n",
    "chi_square=sum([(o-e)**2./e for o,e in zip(Observed_values,expected_values)])\n",
    "chi_square_statistic=chi_square[0]+chi_square[1]\n",
    "# print(\"chi-square statistic:-\",chi_square_statistic)\n",
    "\n",
    "\n",
    "#p-value\n",
    "p_value=1-chi2.cdf(x=chi_square_statistic,df=ddof)\n",
    "print('p-value:',p_value)\n",
    "print('Significance level: ',alpha)\n",
    "print('Degree of Freedom: ',ddof)\n",
    "print('p-value:',p_value)"
   ]
  },
  {
   "cell_type": "code",
   "execution_count": 33,
   "metadata": {},
   "outputs": [
    {
     "name": "stdout",
     "output_type": "stream",
     "text": [
      "PE\n",
      "Degree of Freedom:- 1\n",
      "p-value: 0.0\n",
      "Significance level:  0.05\n",
      "Degree of Freedom:  1\n",
      "p-value: 0.0\n"
     ]
    }
   ],
   "source": [
    "#PE\n",
    "print(\"PE\")\n",
    "df_table=pd.crosstab(df_ckd_1['classification'],df_ckd_1['pc'])\n",
    "# print(df_table)\n",
    "\n",
    "df_table.values\n",
    "Observed_values = df_table.values\n",
    "#print(\"Observed Values :-\\n\",Observed_values)\n",
    "\n",
    "val=stats.chi2_contingency(df_table)\n",
    "val\n",
    "\n",
    "expected_values=val[3]\n",
    "\n",
    "no_of_rows=len(df_table.iloc[0:2,0])\n",
    "no_of_columns=len(df_table.iloc[0,0:2])\n",
    "ddof=(no_of_rows-1)*(no_of_columns-1)\n",
    "print(\"Degree of Freedom:-\",ddof)\n",
    "alpha = 0.05\n",
    "\n",
    "chi_square=sum([(o-e)**2./e for o,e in zip(Observed_values,expected_values)])\n",
    "chi_square_statistic=chi_square[0]+chi_square[1]\n",
    "# print(\"chi-square statistic:-\",chi_square_statistic)\n",
    "\n",
    "\n",
    "#p-value\n",
    "p_value=1-chi2.cdf(x=chi_square_statistic,df=ddof)\n",
    "print('p-value:',p_value)\n",
    "print('Significance level: ',alpha)\n",
    "print('Degree of Freedom: ',ddof)\n",
    "print('p-value:',p_value)"
   ]
  },
  {
   "cell_type": "code",
   "execution_count": 34,
   "metadata": {},
   "outputs": [
    {
     "name": "stdout",
     "output_type": "stream",
     "text": [
      "ANE\n",
      "Degree of Freedom:- 1\n",
      "p-value: 0.0\n",
      "Significance level:  0.05\n",
      "Degree of Freedom:  1\n",
      "p-value: 0.0\n"
     ]
    }
   ],
   "source": [
    "#ANE\n",
    "print(\"ANE\")\n",
    "df_table=pd.crosstab(df_ckd_1['classification'],df_ckd_1['pc'])\n",
    "# print(df_table)\n",
    "\n",
    "df_table.values\n",
    "Observed_values = df_table.values\n",
    "#print(\"Observed Values :-\\n\",Observed_values)\n",
    "\n",
    "val=stats.chi2_contingency(df_table)\n",
    "val\n",
    "\n",
    "expected_values=val[3]\n",
    "\n",
    "no_of_rows=len(df_table.iloc[0:2,0])\n",
    "no_of_columns=len(df_table.iloc[0,0:2])\n",
    "ddof=(no_of_rows-1)*(no_of_columns-1)\n",
    "print(\"Degree of Freedom:-\",ddof)\n",
    "alpha = 0.05\n",
    "\n",
    "chi_square=sum([(o-e)**2./e for o,e in zip(Observed_values,expected_values)])\n",
    "chi_square_statistic=chi_square[0]+chi_square[1]\n",
    "# print(\"chi-square statistic:-\",chi_square_statistic)\n",
    "\n",
    "\n",
    "#p-value\n",
    "p_value=1-chi2.cdf(x=chi_square_statistic,df=ddof)\n",
    "print('p-value:',p_value)\n",
    "print('Significance level: ',alpha)\n",
    "print('Degree of Freedom: ',ddof)\n",
    "print('p-value:',p_value)"
   ]
  },
  {
   "cell_type": "code",
   "execution_count": 35,
   "metadata": {},
   "outputs": [
    {
     "name": "stdout",
     "output_type": "stream",
     "text": [
      "BA\n",
      "Degree of Freedom:- 1\n",
      "p-value: 0.0\n",
      "Significance level:  0.05\n",
      "Degree of Freedom:  1\n",
      "p-value: 0.0\n"
     ]
    }
   ],
   "source": [
    "#BA\n",
    "\n",
    "print(\"BA\")\n",
    "df_table=pd.crosstab(df_ckd_1['classification'],df_ckd_1['pc'])\n",
    "# print(df_table)\n",
    "\n",
    "df_table.values\n",
    "Observed_values = df_table.values\n",
    "#print(\"Observed Values :-\\n\",Observed_values)\n",
    "\n",
    "val=stats.chi2_contingency(df_table)\n",
    "val\n",
    "\n",
    "expected_values=val[3]\n",
    "\n",
    "no_of_rows=len(df_table.iloc[0:2,0])\n",
    "no_of_columns=len(df_table.iloc[0,0:2])\n",
    "ddof=(no_of_rows-1)*(no_of_columns-1)\n",
    "print(\"Degree of Freedom:-\",ddof)\n",
    "alpha = 0.05\n",
    "\n",
    "chi_square=sum([(o-e)**2./e for o,e in zip(Observed_values,expected_values)])\n",
    "chi_square_statistic=chi_square[0]+chi_square[1]\n",
    "# print(\"chi-square statistic:-\",chi_square_statistic)\n",
    "\n",
    "\n",
    "#p-value\n",
    "p_value=1-chi2.cdf(x=chi_square_statistic,df=ddof)\n",
    "print('p-value:',p_value)\n",
    "print('Significance level: ',alpha)\n",
    "print('Degree of Freedom: ',ddof)\n",
    "print('p-value:',p_value)"
   ]
  },
  {
   "cell_type": "markdown",
   "metadata": {},
   "source": [
    "## Addressing missing values for variables with <12% missing"
   ]
  },
  {
   "cell_type": "code",
   "execution_count": 36,
   "metadata": {},
   "outputs": [
    {
     "name": "stdout",
     "output_type": "stream",
     "text": [
      "missing appet:  0.27100271002710025 %\n",
      "good    298\n",
      "poor     70\n",
      "Name: appet, dtype: int64\n"
     ]
    },
    {
     "name": "stderr",
     "output_type": "stream",
     "text": [
      "C:\\Users\\iting\\anaconda3\\lib\\site-packages\\pandas\\core\\generic.py:6746: SettingWithCopyWarning: \n",
      "A value is trying to be set on a copy of a slice from a DataFrame\n",
      "\n",
      "See the caveats in the documentation: https://pandas.pydata.org/pandas-docs/stable/user_guide/indexing.html#returning-a-view-versus-a-copy\n",
      "  self._update_inplace(new_data)\n"
     ]
    }
   ],
   "source": [
    "#appet\n",
    "\n",
    "#calculate the amount of missing data\n",
    "appet = df_ckd_1['appet']\n",
    "missing_appet = (appet.isnull().sum()/len(appet)) * 100\n",
    "print(\"missing appet: \", missing_appet, \"%\" )\n",
    "\n",
    "\n",
    "\n",
    "print(df_ckd_1['appet'].value_counts())\n",
    "#Replace the \"cad\" with the most frequent density\n",
    "df_ckd_1[\"appet\"].replace(np.nan, \"good\", inplace=True)"
   ]
  },
  {
   "cell_type": "code",
   "execution_count": 37,
   "metadata": {},
   "outputs": [
    {
     "name": "stdout",
     "output_type": "stream",
     "text": [
      "missing ane:  0.27100271002710025 %\n",
      "no     314\n",
      "yes     54\n",
      "Name: ane, dtype: int64\n"
     ]
    }
   ],
   "source": [
    "#ane\n",
    "\n",
    "#calculate the amount of missing data\n",
    "ane = df_ckd_1['ane']\n",
    "ane.describe()\n",
    "missing_ane = (ane.isnull().sum()/len(ane)) * 100\n",
    "print(\"missing ane: \", missing_ane, \"%\" )\n",
    "\n",
    "#######################################\n",
    "\n",
    "print(df_ckd_1['ane'].value_counts())\n",
    "#Replace the \"cad\" with the most frequent density\n",
    "df_ckd_1[\"ane\"].replace(np.nan, \"no\", inplace=True)"
   ]
  },
  {
   "cell_type": "code",
   "execution_count": 38,
   "metadata": {},
   "outputs": [
    {
     "name": "stdout",
     "output_type": "stream",
     "text": [
      "missing pe:  0.27100271002710025 %\n",
      "no     300\n",
      "yes     68\n",
      "Name: pe, dtype: int64\n"
     ]
    }
   ],
   "source": [
    "#pe\n",
    "\n",
    "#calculate the amount of missing data\n",
    "pe = df_ckd_1['pe']\n",
    "missing_pe = (pe.isnull().sum()/len(pe)) * 100\n",
    "print(\"missing pe: \", missing_pe, \"%\" )\n",
    "\n",
    "\n",
    "\n",
    "print(df_ckd_1['pe'].value_counts())\n",
    "#Replace the \"cad\" with the most frequent density\n",
    "df_ckd_1[\"pe\"].replace(np.nan, \"no\", inplace=True)"
   ]
  },
  {
   "cell_type": "code",
   "execution_count": 39,
   "metadata": {},
   "outputs": [
    {
     "name": "stdout",
     "output_type": "stream",
     "text": [
      "missing cad:  0.5420054200542005 %\n",
      "no     335\n",
      "yes     32\n",
      "Name: cad, dtype: int64\n"
     ]
    }
   ],
   "source": [
    "#cad\n",
    "\n",
    "#calculate the amount of missing data\n",
    "cad = df_ckd_1['cad']\n",
    "missing_cad = (cad.isnull().sum()/len(cad)) * 100\n",
    "print(\"missing cad: \", missing_cad, \"%\" )\n",
    "\n",
    "\n",
    "df_ckd_1[\"cad\"].replace(\"\\tno\", \"no\", inplace=True)\n",
    "\n",
    "print(df_ckd_1['cad'].value_counts())\n",
    "#Replace the \"cad\" with the most frequent density\n",
    "df_ckd_1[\"cad\"].replace(np.nan, \"no\", inplace=True)"
   ]
  },
  {
   "cell_type": "code",
   "execution_count": 40,
   "metadata": {},
   "outputs": [
    {
     "name": "stdout",
     "output_type": "stream",
     "text": [
      "missing htn:  0.5420054200542005 %\n",
      "no     235\n",
      "yes    132\n",
      "Name: htn, dtype: int64\n"
     ]
    }
   ],
   "source": [
    "#htn\n",
    "\n",
    "#calculate the amount of missing data\n",
    "htn = df_ckd_1['htn']\n",
    "missing_htn = (htn.isnull().sum()/len(htn)) * 100\n",
    "print(\"missing htn: \", missing_htn, \"%\" )\n",
    "\n",
    "\n",
    "print(df_ckd_1['htn'].value_counts())\n",
    "\n",
    "#Replace the \"htn\" with the most frequent density\n",
    "df_ckd_1[\"htn\"].replace(np.nan, \"no\", inplace=True)"
   ]
  },
  {
   "cell_type": "code",
   "execution_count": 41,
   "metadata": {},
   "outputs": [
    {
     "name": "stdout",
     "output_type": "stream",
     "text": [
      "missing dm:  0.5420054200542005 %\n",
      "no     247\n",
      "yes    120\n",
      "Name: dm, dtype: int64\n"
     ]
    }
   ],
   "source": [
    "#dm\n",
    "\n",
    "#calculate the amount of missing data\n",
    "dm = df_ckd_1['dm']\n",
    "missing_dm = (dm.isnull().sum()/len(dm)) * 100\n",
    "print(\"missing dm: \", missing_dm, \"%\" )\n",
    "\n",
    "\n",
    "#Fixing the space issue in our dataframe\n",
    "df_ckd_1[\"dm\"].replace(\"\\tno\", \"no\", inplace=True)\n",
    "df_ckd_1[\"dm\"].replace(\"\\tyes\", \"yes\", inplace=True)\n",
    "\n",
    "print(df_ckd_1['dm'].value_counts())\n",
    "#Replace the \"pc\" with the most frequent density\n",
    "df_ckd_1[\"dm\"].replace(np.nan, \"no\", inplace=True)\n"
   ]
  },
  {
   "cell_type": "code",
   "execution_count": 42,
   "metadata": {},
   "outputs": [
    {
     "name": "stdout",
     "output_type": "stream",
     "text": [
      "missing pcc:  1.084010840108401 %\n",
      "notpresent    323\n",
      "present        42\n",
      "Name: pcc, dtype: int64\n"
     ]
    }
   ],
   "source": [
    "#pcc\n",
    "#calculate the amount of missing data\n",
    "pcc = df_ckd_1['pcc']\n",
    "missing_pcc = (pcc.isnull().sum()/len(pcc)) * 100\n",
    "print(\"missing pcc: \", missing_pcc, \"%\" )\n",
    "\n",
    "\n",
    "print(df_ckd_1['pcc'].value_counts())\n",
    "# Replace the \"pc\" with the most frequent density\n",
    "df_ckd_1[\"pcc\"].replace(np.nan, \"notpresent\", inplace=True)"
   ]
  },
  {
   "cell_type": "code",
   "execution_count": 43,
   "metadata": {},
   "outputs": [
    {
     "name": "stdout",
     "output_type": "stream",
     "text": [
      "missing ba:  1.084010840108401 %\n",
      "notpresent    343\n",
      "present        22\n",
      "Name: ba, dtype: int64\n"
     ]
    }
   ],
   "source": [
    "#ba\n",
    "ba = df_ckd_1['ba']\n",
    "missing_ba = (ba.isnull().sum()/len(ba)) * 100\n",
    "print(\"missing ba: \", missing_ba, \"%\" )\n",
    "\n",
    "print(df_ckd_1['ba'].value_counts())\n",
    "# Replace the \"pc\" with the most frequent density\n",
    "df_ckd_1[\"ba\"].replace(np.nan, \"notpresent\", inplace=True)"
   ]
  },
  {
   "cell_type": "code",
   "execution_count": 44,
   "metadata": {},
   "outputs": [
    {
     "name": "stdout",
     "output_type": "stream",
     "text": [
      "count    362.000000\n",
      "mean      51.428177\n",
      "std       16.873378\n",
      "min        3.000000\n",
      "25%       42.000000\n",
      "50%       54.000000\n",
      "75%       64.000000\n",
      "max       90.000000\n",
      "Name: age, dtype: float64\n",
      "Number of missing:  7\n",
      "missing age:  1.8970189701897018 %\n",
      "Average of age 51.42817679558011\n"
     ]
    },
    {
     "name": "stderr",
     "output_type": "stream",
     "text": [
      "C:\\Users\\iting\\anaconda3\\lib\\site-packages\\pandas\\core\\generic.py:6746: SettingWithCopyWarning: \n",
      "A value is trying to be set on a copy of a slice from a DataFrame\n",
      "\n",
      "See the caveats in the documentation: https://pandas.pydata.org/pandas-docs/stable/user_guide/indexing.html#returning-a-view-versus-a-copy\n",
      "  self._update_inplace(new_data)\n"
     ]
    },
    {
     "data": {
      "image/png": "[encoded data removed]",
      "text/plain": [
       "<Figure size 432x288 with 1 Axes>"
      ]
     },
     "metadata": {},
     "output_type": "display_data"
    }
   ],
   "source": [
    "# Age\n",
    "\n",
    "age = df_ckd_1['age']\n",
    "print(age.describe())\n",
    "\n",
    "#calculate the amount of missing data\n",
    "missing_age = (age.isnull().sum()/len(age)) * 100\n",
    "number_of_missing_data=age.isnull().sum()\n",
    "print(\"Number of missing: \", number_of_missing_data)\n",
    "print(\"missing age: \", missing_age, \"%\" )\n",
    "sns.distplot(age)\n",
    "\n",
    "# Adding in the missing values with average for age\n",
    "\n",
    "avg_age=df_ckd_1[\"age\"].mean(axis=0)\n",
    "print(\"Average of age\", avg_age)\n",
    "df_ckd_1[\"age\"].replace(np.nan, avg_age, inplace=True)"
   ]
  },
  {
   "cell_type": "code",
   "execution_count": 45,
   "metadata": {},
   "outputs": [
    {
     "name": "stdout",
     "output_type": "stream",
     "text": [
      "count    360.000000\n",
      "mean       2.899861\n",
      "std        5.372400\n",
      "min        0.400000\n",
      "25%        0.900000\n",
      "50%        1.200000\n",
      "75%        2.725000\n",
      "max       76.000000\n",
      "Name: sc, dtype: float64\n",
      "missing sc:  2.4390243902439024 %\n",
      "Average of sc 2.8998611111111137\n"
     ]
    },
    {
     "name": "stderr",
     "output_type": "stream",
     "text": [
      "C:\\Users\\iting\\anaconda3\\lib\\site-packages\\pandas\\core\\generic.py:6746: SettingWithCopyWarning: \n",
      "A value is trying to be set on a copy of a slice from a DataFrame\n",
      "\n",
      "See the caveats in the documentation: https://pandas.pydata.org/pandas-docs/stable/user_guide/indexing.html#returning-a-view-versus-a-copy\n",
      "  self._update_inplace(new_data)\n"
     ]
    },
    {
     "data": {
      "image/png": "[encoded data removed]",
      "text/plain": [
       "<Figure size 432x288 with 1 Axes>"
      ]
     },
     "metadata": {},
     "output_type": "display_data"
    }
   ],
   "source": [
    "# sc\n",
    "sc = df_ckd_1['sc']\n",
    "print(sc.describe()) #calculate the amount of missing data\n",
    "missing_sc = (sc.isnull().sum()/len(sc)) * 100\n",
    "print(\"missing sc: \", missing_sc, \"%\" )\n",
    "sns.distplot(sc)\n",
    "\n",
    "avg_sc=df_ckd_1[\"sc\"].mean(axis=0)\n",
    "print(\"Average of sc\", avg_sc)\n",
    "df_ckd_1[\"sc\"].replace(np.nan, avg_sc, inplace=True)"
   ]
  },
  {
   "cell_type": "code",
   "execution_count": 46,
   "metadata": {},
   "outputs": [
    {
     "name": "stdout",
     "output_type": "stream",
     "text": [
      "count    359.000000\n",
      "mean      76.462396\n",
      "std       13.903824\n",
      "min       50.000000\n",
      "25%       70.000000\n",
      "50%       80.000000\n",
      "75%       80.000000\n",
      "max      180.000000\n",
      "Name: bp, dtype: float64\n",
      "missing bp:  2.710027100271003 %\n",
      "Average of bp 76.46239554317549\n"
     ]
    },
    {
     "name": "stderr",
     "output_type": "stream",
     "text": [
      "C:\\Users\\iting\\anaconda3\\lib\\site-packages\\pandas\\core\\generic.py:6746: SettingWithCopyWarning: \n",
      "A value is trying to be set on a copy of a slice from a DataFrame\n",
      "\n",
      "See the caveats in the documentation: https://pandas.pydata.org/pandas-docs/stable/user_guide/indexing.html#returning-a-view-versus-a-copy\n",
      "  self._update_inplace(new_data)\n"
     ]
    },
    {
     "data": {
      "image/png": "[encoded data removed]",
      "text/plain": [
       "<Figure size 432x288 with 1 Axes>"
      ]
     },
     "metadata": {},
     "output_type": "display_data"
    }
   ],
   "source": [
    "# bp\n",
    "# it is a continous variable. May look categorical\n",
    "bp = df_ckd_1['bp']\n",
    "print(bp.describe())\n",
    "\n",
    "#calculate the amount of missing data\n",
    "missing_bp = (bp.isnull().sum()/len(bp)) * 100\n",
    "print(\"missing bp: \", missing_bp, \"%\" )\n",
    "sns.distplot(bp)\n",
    "\n",
    "# Updating the missing values\n",
    "avg_bp=df_ckd_1[\"bp\"].mean(axis=0)\n",
    "print(\"Average of bp\", avg_bp)\n",
    "df_ckd_1[\"bp\"].replace(np.nan, avg_bp, inplace=True)\n"
   ]
  },
  {
   "cell_type": "code",
   "execution_count": 47,
   "metadata": {},
   "outputs": [
    {
     "name": "stdout",
     "output_type": "stream",
     "text": [
      "count    358.000000\n",
      "mean      56.251676\n",
      "std       50.360447\n",
      "min        1.500000\n",
      "25%       26.000000\n",
      "50%       40.500000\n",
      "75%       60.000000\n",
      "max      391.000000\n",
      "Name: bu, dtype: float64\n",
      "missing bu:  2.9810298102981028 %\n",
      "Average of bu 56.251675977653626\n"
     ]
    },
    {
     "name": "stderr",
     "output_type": "stream",
     "text": [
      "C:\\Users\\iting\\anaconda3\\lib\\site-packages\\pandas\\core\\generic.py:6746: SettingWithCopyWarning: \n",
      "A value is trying to be set on a copy of a slice from a DataFrame\n",
      "\n",
      "See the caveats in the documentation: https://pandas.pydata.org/pandas-docs/stable/user_guide/indexing.html#returning-a-view-versus-a-copy\n",
      "  self._update_inplace(new_data)\n"
     ]
    },
    {
     "data": {
      "image/png": "[encoded data removed]",
      "text/plain": [
       "<Figure size 432x288 with 1 Axes>"
      ]
     },
     "metadata": {},
     "output_type": "display_data"
    }
   ],
   "source": [
    "# bu \n",
    "bu = df_ckd_1['bu']\n",
    "print(bu.describe()) #calculate the amount of missing data\n",
    "missing_bu = (bu.isnull().sum()/len(bu)) * 100\n",
    "print(\"missing bu: \", missing_bu, \"%\" )\n",
    "sns.distplot(bu)\n",
    "\n",
    "# Updating the bu\n",
    "avg_bu=df_ckd_1[\"bu\"].mean(axis=0)\n",
    "print(\"Average of bu\", avg_bu)\n",
    "df_ckd_1[\"bu\"].replace(np.nan, avg_bu, inplace=True)"
   ]
  },
  {
   "cell_type": "code",
   "execution_count": 48,
   "metadata": {},
   "outputs": [
    {
     "name": "stdout",
     "output_type": "stream",
     "text": [
      "count    342.000000\n",
      "mean       1.017544\n",
      "std        1.359117\n",
      "min        0.000000\n",
      "25%        0.000000\n",
      "50%        0.000000\n",
      "75%        2.000000\n",
      "max        5.000000\n",
      "Name: al, dtype: float64\n",
      "missing rbc:  7.317073170731707 %\n",
      "     count\n",
      "su        \n",
      "0.0    290\n",
      "1.0     13\n",
      "2.0     18\n",
      "3.0     14\n",
      "4.0     13\n",
      "5.0      3\n"
     ]
    },
    {
     "name": "stderr",
     "output_type": "stream",
     "text": [
      "C:\\Users\\iting\\anaconda3\\lib\\site-packages\\pandas\\core\\generic.py:6746: SettingWithCopyWarning: \n",
      "A value is trying to be set on a copy of a slice from a DataFrame\n",
      "\n",
      "See the caveats in the documentation: https://pandas.pydata.org/pandas-docs/stable/user_guide/indexing.html#returning-a-view-versus-a-copy\n",
      "  self._update_inplace(new_data)\n"
     ]
    }
   ],
   "source": [
    "# al\n",
    "al = df_ckd_1['al']\n",
    "print(al.describe())\n",
    "# calculate the amount of missing data\n",
    "missing_al = (al.isnull().sum()/len(al)) * 100\n",
    "print(\"missing rbc: \", missing_al, \"%\" )\n",
    "al_group = df_ckd.groupby('su').id.agg(['count'])\n",
    "print(al_group)\n",
    "\n",
    "# Replace the \"al\" with the most frequent density\n",
    "df_ckd_1[\"al\"].replace(np.nan, \"0.0\", inplace=True)"
   ]
  },
  {
   "cell_type": "code",
   "execution_count": 49,
   "metadata": {},
   "outputs": [
    {
     "name": "stdout",
     "output_type": "stream",
     "text": [
      "count    342.000000\n",
      "mean       1.017515\n",
      "std        0.005728\n",
      "min        1.005000\n",
      "25%        1.011250\n",
      "50%        1.020000\n",
      "75%        1.020000\n",
      "max        1.025000\n",
      "Name: sg, dtype: float64\n",
      "missing sg:  7.317073170731707 %\n",
      "1.020    103\n",
      "1.025     81\n",
      "1.010     79\n",
      "1.015     72\n",
      "1.005      7\n",
      "Name: sg, dtype: int64\n"
     ]
    }
   ],
   "source": [
    "# sg\n",
    "# Even though it should be continous. it is categorical\n",
    "sg = df_ckd_1['sg']\n",
    "print(sg.describe()) #calculate the amount of missing data\n",
    "missing_sg = (sg.isnull().sum()/len(sg)) * 100\n",
    "print(\"missing sg: \", missing_sg, \"%\" )\n",
    "print(df_ckd_1['sg'].value_counts())\n",
    "\n",
    "# Replace the \"sg\" with the most frequent density\n",
    "df_ckd_1[\"sg\"].replace(np.nan, \"1.020\", inplace=True)"
   ]
  },
  {
   "cell_type": "code",
   "execution_count": 50,
   "metadata": {},
   "outputs": [
    {
     "name": "stdout",
     "output_type": "stream",
     "text": [
      "count    341.000000\n",
      "mean       0.442815\n",
      "std        1.098307\n",
      "min        0.000000\n",
      "25%        0.000000\n",
      "50%        0.000000\n",
      "75%        0.000000\n",
      "max        5.000000\n",
      "Name: su, dtype: float64\n",
      "missing su:  7.317073170731707 %\n",
      "     count\n",
      "su        \n",
      "0.0    290\n",
      "1.0     13\n",
      "2.0     18\n",
      "3.0     14\n",
      "4.0     13\n",
      "5.0      3\n"
     ]
    },
    {
     "name": "stderr",
     "output_type": "stream",
     "text": [
      "C:\\Users\\iting\\anaconda3\\lib\\site-packages\\pandas\\core\\generic.py:6746: SettingWithCopyWarning: \n",
      "A value is trying to be set on a copy of a slice from a DataFrame\n",
      "\n",
      "See the caveats in the documentation: https://pandas.pydata.org/pandas-docs/stable/user_guide/indexing.html#returning-a-view-versus-a-copy\n",
      "  self._update_inplace(new_data)\n"
     ]
    }
   ],
   "source": [
    "# su variable \n",
    "# It is a categorical variable\n",
    "# Convert that into an object\n",
    "df_ckd_1[\"su\"].astype(object)\n",
    "\n",
    "su = df_ckd_1['su']\n",
    "print(su.describe())\n",
    "# calculate the amount of missing data\n",
    "missing_su = (su.isnull().sum()/len(su)) * 100\n",
    "print(\"missing su: \", missing_al, \"%\" )\n",
    "\n",
    "#Finding the most frequent\n",
    "su_group = df_ckd.groupby('su').id.agg(['count'])\n",
    "print(su_group)\n",
    "\n",
    "\n",
    "# Replace the \"al\" with the most frequent density\n",
    "df_ckd_1[\"su\"].replace(np.nan, \"0.0\", inplace=True)\n"
   ]
  },
  {
   "cell_type": "code",
   "execution_count": 51,
   "metadata": {},
   "outputs": [
    {
     "name": "stdout",
     "output_type": "stream",
     "text": [
      "count    337.000000\n",
      "mean      12.606825\n",
      "std        2.898971\n",
      "min        3.100000\n",
      "25%       10.400000\n",
      "50%       13.000000\n",
      "75%       15.000000\n",
      "max       17.800000\n",
      "Name: hemo, dtype: float64\n",
      "missing hemo:  8.672086720867208 %\n",
      "Number of missing:  32\n",
      "Average of hemo 12.606824925816031\n"
     ]
    },
    {
     "name": "stderr",
     "output_type": "stream",
     "text": [
      "C:\\Users\\iting\\anaconda3\\lib\\site-packages\\pandas\\core\\generic.py:6746: SettingWithCopyWarning: \n",
      "A value is trying to be set on a copy of a slice from a DataFrame\n",
      "\n",
      "See the caveats in the documentation: https://pandas.pydata.org/pandas-docs/stable/user_guide/indexing.html#returning-a-view-versus-a-copy\n",
      "  self._update_inplace(new_data)\n"
     ]
    },
    {
     "data": {
      "image/png": "[encoded data removed]",
      "text/plain": [
       "<Figure size 432x288 with 1 Axes>"
      ]
     },
     "metadata": {},
     "output_type": "display_data"
    }
   ],
   "source": [
    "# hemo\n",
    "hemo = df_ckd_1['hemo']\n",
    "print(hemo.describe()) #calculate the amount of missing data\n",
    "missing_hemo = (hemo.isnull().sum()/len(hemo)) * 100\n",
    "print(\"missing hemo: \", missing_hemo, \"%\" )\n",
    "number_of_missing_data=hemo.isnull().sum()\n",
    "print(\"Number of missing: \", number_of_missing_data)\n",
    "sns.distplot(hemo)\n",
    "\n",
    "avg_hemo=df_ckd_1[\"hemo\"].mean(axis=0)\n",
    "print(\"Average of hemo\", avg_hemo)\n",
    "df_ckd_1[\"hemo\"].replace(np.nan, avg_hemo, inplace=True)"
   ]
  },
  {
   "cell_type": "code",
   "execution_count": 52,
   "metadata": {},
   "outputs": [
    {
     "name": "stdout",
     "output_type": "stream",
     "text": [
      "count    336.000000\n",
      "mean     147.190476\n",
      "std       77.568108\n",
      "min       22.000000\n",
      "25%       99.750000\n",
      "50%      121.000000\n",
      "75%      162.250000\n",
      "max      490.000000\n",
      "Name: bgr, dtype: float64\n",
      "missing ba:  8.94308943089431 %\n",
      "Average of bgr 147.1904761904762\n"
     ]
    },
    {
     "name": "stderr",
     "output_type": "stream",
     "text": [
      "C:\\Users\\iting\\anaconda3\\lib\\site-packages\\pandas\\core\\generic.py:6746: SettingWithCopyWarning: \n",
      "A value is trying to be set on a copy of a slice from a DataFrame\n",
      "\n",
      "See the caveats in the documentation: https://pandas.pydata.org/pandas-docs/stable/user_guide/indexing.html#returning-a-view-versus-a-copy\n",
      "  self._update_inplace(new_data)\n"
     ]
    },
    {
     "data": {
      "image/png": "[encoded data removed]",
      "text/plain": [
       "<Figure size 432x288 with 1 Axes>"
      ]
     },
     "metadata": {},
     "output_type": "display_data"
    }
   ],
   "source": [
    "#bgr\n",
    "bgr = df_ckd_1['bgr']\n",
    "print(bgr.describe())\n",
    "\n",
    "#calculate the amount of missing data\n",
    "missing_bgr = (bgr.isnull().sum()/len(bgr)) * 100\n",
    "print(\"missing ba: \", missing_bgr, \"%\" )\n",
    "sns.distplot(bgr)\n",
    "avg_bgr=df_ckd_1[\"bgr\"].mean(axis=0)\n",
    "print(\"Average of bgr\", avg_bgr)\n",
    "df_ckd_1[\"bgr\"].replace(np.nan, avg_bgr, inplace=True)"
   ]
  },
  {
   "cell_type": "code",
   "execution_count": 53,
   "metadata": {},
   "outputs": [
    {
     "name": "stderr",
     "output_type": "stream",
     "text": [
      "C:\\Users\\iting\\anaconda3\\lib\\site-packages\\ipykernel_launcher.py:7: SettingWithCopyWarning: \n",
      "A value is trying to be set on a copy of a slice from a DataFrame.\n",
      "Try using .loc[row_indexer,col_indexer] = value instead\n",
      "\n",
      "See the caveats in the documentation: https://pandas.pydata.org/pandas-docs/stable/user_guide/indexing.html#returning-a-view-versus-a-copy\n",
      "  import sys\n",
      "C:\\Users\\iting\\anaconda3\\lib\\site-packages\\pandas\\core\\generic.py:6746: SettingWithCopyWarning: \n",
      "A value is trying to be set on a copy of a slice from a DataFrame\n",
      "\n",
      "See the caveats in the documentation: https://pandas.pydata.org/pandas-docs/stable/user_guide/indexing.html#returning-a-view-versus-a-copy\n",
      "  self._update_inplace(new_data)\n"
     ]
    },
    {
     "name": "stdout",
     "output_type": "stream",
     "text": [
      "count    327.000000\n",
      "mean      38.874618\n",
      "std        9.014620\n",
      "min        9.000000\n",
      "25%       32.000000\n",
      "50%       40.000000\n",
      "75%       45.000000\n",
      "max       54.000000\n",
      "Name: pcv, dtype: float64\n",
      "missing pcv:  11.38211382113821 %\n",
      "Average of pcv 38.87461773700306\n"
     ]
    },
    {
     "data": {
      "image/png": "[encoded data removed]",
      "text/plain": [
       "<Figure size 432x288 with 1 Axes>"
      ]
     },
     "metadata": {},
     "output_type": "display_data"
    }
   ],
   "source": [
    "# PCV\n",
    "\n",
    "df_ckd_1[\"pcv\"].replace(\"\\t43\", \"43\", inplace=True)\n",
    "df_ckd_1[\"pcv\"].replace(\"\\t?\",np.nan, inplace=True)\n",
    "df_ckd_1['pcv'].value_counts()\n",
    "\n",
    "df_ckd_1[\"pcv\"] = df_ckd_1[\"pcv\"].astype(float)\n",
    "pcv = df_ckd_1['pcv']\n",
    "print(pcv.describe()) #calculate the amount of missing data\n",
    "missing_pcv = (pcv.isnull().sum()/len(pcv)) * 100\n",
    "print(\"missing pcv: \", missing_pcv, \"%\" )\n",
    "sns.distplot(pcv)\n",
    "\n",
    "\n",
    "avg_pcv=df_ckd_1[\"pcv\"].mean(axis=0)\n",
    "print(\"Average of pcv\", avg_pcv)\n",
    "# Replace the \"pcv\" with the mean \n",
    "df_ckd_1[\"pcv\"].replace(np.nan, avg_pcv, inplace=True)"
   ]
  },
  {
   "cell_type": "code",
   "execution_count": 54,
   "metadata": {},
   "outputs": [
    {
     "name": "stdout",
     "output_type": "stream",
     "text": [
      "count        325\n",
      "unique         2\n",
      "top       normal\n",
      "freq         253\n",
      "Name: pc, dtype: object\n",
      "missing pc:  7.317073170731707 %\n",
      "normal      253\n",
      "abnormal     72\n",
      "Name: pc, dtype: int64\n"
     ]
    }
   ],
   "source": [
    "# pc variable \n",
    "\n",
    "pc = df_ckd_1['pc']\n",
    "print(pc.describe())\n",
    "# calculate the amount of missing data\n",
    "missing_pc = (pc.isnull().sum()/len(pc)) * 100\n",
    "print(\"missing pc: \", missing_al, \"%\" )\n",
    "\n",
    "\n",
    "print(df_ckd_1['pc'].value_counts())\n",
    "# Replace the \"pc\" with the most frequent density\n",
    "df_ckd_1[\"pc\"].replace(np.nan, \"normal\", inplace=True)"
   ]
  },
  {
   "cell_type": "code",
   "execution_count": 55,
   "metadata": {},
   "outputs": [
    {
     "name": "stdout",
     "output_type": "stream",
     "text": [
      "<class 'pandas.core.frame.DataFrame'>\n",
      "RangeIndex: 369 entries, 0 to 368\n",
      "Data columns (total 26 columns):\n",
      " #   Column           Non-Null Count  Dtype  \n",
      "---  ------           --------------  -----  \n",
      " 0   id               369 non-null    int64  \n",
      " 1   age              369 non-null    float64\n",
      " 2   bp               369 non-null    float64\n",
      " 3   sg               369 non-null    object \n",
      " 4   al               369 non-null    object \n",
      " 5   su               369 non-null    object \n",
      " 6   rbc              245 non-null    object \n",
      " 7   pc               369 non-null    object \n",
      " 8   pcc              369 non-null    object \n",
      " 9   ba               369 non-null    object \n",
      " 10  bgr              369 non-null    float64\n",
      " 11  bu               369 non-null    float64\n",
      " 12  sc               369 non-null    float64\n",
      " 13  sod              302 non-null    float64\n",
      " 14  hemo             369 non-null    float64\n",
      " 15  pcv              369 non-null    float64\n",
      " 16  wc               292 non-null    float64\n",
      " 17  rc               269 non-null    float64\n",
      " 18  htn              369 non-null    object \n",
      " 19  dm               369 non-null    object \n",
      " 20  cad              369 non-null    object \n",
      " 21  appet            369 non-null    object \n",
      " 22  pe               369 non-null    object \n",
      " 23  ane              369 non-null    object \n",
      " 24  classification   369 non-null    object \n",
      " 25  percent_missing  369 non-null    float64\n",
      "dtypes: float64(11), int64(1), object(14)\n",
      "memory usage: 75.1+ KB\n"
     ]
    },
    {
     "data": {
      "text/plain": [
       "id                   0\n",
       "age                  0\n",
       "bp                   0\n",
       "sg                   0\n",
       "al                   0\n",
       "su                   0\n",
       "rbc                124\n",
       "pc                   0\n",
       "pcc                  0\n",
       "ba                   0\n",
       "bgr                  0\n",
       "bu                   0\n",
       "sc                   0\n",
       "sod                 67\n",
       "hemo                 0\n",
       "pcv                  0\n",
       "wc                  77\n",
       "rc                 100\n",
       "htn                  0\n",
       "dm                   0\n",
       "cad                  0\n",
       "appet                0\n",
       "pe                   0\n",
       "ane                  0\n",
       "classification       0\n",
       "percent_missing      0\n",
       "dtype: int64"
      ]
     },
     "execution_count": 55,
     "metadata": {},
     "output_type": "execute_result"
    }
   ],
   "source": [
    "#inspect data following changes\n",
    "df_ckd_1.info()\n",
    "df_ckd_1.isnull().sum()"
   ]
  },
  {
   "cell_type": "markdown",
   "metadata": {},
   "source": [
    "## Addressing missing data for variables with >12% missing"
   ]
  },
  {
   "cell_type": "code",
   "execution_count": 56,
   "metadata": {},
   "outputs": [],
   "source": [
    "# Getting the Data ready for the Linear Regression for Sodium based on Blood pressure and Coronary Artery Disease\n",
    "data = df_ckd_1[['id','bp','cad','sod']]\n",
    "# changing the cad\n",
    "data = pd.get_dummies(data, columns = ['cad'])\n",
    "del data['cad_no']\n",
    "missing_data = data['sod'].isnull()\n",
    "missing_data_tip = pd.DataFrame(data[['bp','cad_yes']][missing_data])\n",
    "data_nomissing = data.dropna()\n",
    "x = data_nomissing[['bp','cad_yes']]\n",
    "y = data_nomissing['sod']"
   ]
  },
  {
   "cell_type": "code",
   "execution_count": 57,
   "metadata": {},
   "outputs": [
    {
     "name": "stdout",
     "output_type": "stream",
     "text": [
      "r_sqaured:  0.26\n",
      "mse:  62.86\n"
     ]
    }
   ],
   "source": [
    "X_train, X_test, y_train, y_test = train_test_split(x, y, test_size=0.2, random_state=9)\n",
    "lm = LinearRegression().fit(X_train, y_train)\n",
    "# Descriptive statistic for evaluating the model\n",
    "yhat = lm.predict(X_test)\n",
    "SS_R = sum((yhat-np.mean(y_test))**2)       \n",
    "SS_Total = sum((y_test-np.mean(y_test))**2) \n",
    "r_squared = (float(SS_R))/SS_Total\n",
    "mse = mean_squared_error(y_test, yhat)\n",
    "\n",
    "print(\"r_sqaured: \",round(r_squared,2))\n",
    "print(\"mse: \", round(mse,2))"
   ]
  },
  {
   "cell_type": "code",
   "execution_count": 58,
   "metadata": {},
   "outputs": [
    {
     "name": "stderr",
     "output_type": "stream",
     "text": [
      "C:\\Users\\iting\\anaconda3\\lib\\site-packages\\ipykernel_launcher.py:8: SettingWithCopyWarning: \n",
      "A value is trying to be set on a copy of a slice from a DataFrame.\n",
      "Try using .loc[row_indexer,col_indexer] = value instead\n",
      "\n",
      "See the caveats in the documentation: https://pandas.pydata.org/pandas-docs/stable/user_guide/indexing.html#returning-a-view-versus-a-copy\n",
      "  \n"
     ]
    }
   ],
   "source": [
    "# Replacing on to the orginal dataframe\n",
    "data_pred = lm.predict(missing_data_tip)\n",
    "missing_data_tip['data_pred'] = data_pred\n",
    "data[\"data_pred\"] = missing_data_tip[\"data_pred\"]\n",
    "data[\"sod\"].replace(np.nan, 0, inplace=True)\n",
    "data[\"data_pred\"].replace(np.nan, 0, inplace=True)\n",
    "data[\"sod\"] = data[\"sod\"]+data[\"data_pred\"]\n",
    "df_ckd_1[\"sod\"]=data[\"sod\"]"
   ]
  },
  {
   "cell_type": "markdown",
   "metadata": {},
   "source": [
    "Replacing with the mean average (NOT USED ANYMORE)"
   ]
  },
  {
   "cell_type": "code",
   "execution_count": 59,
   "metadata": {},
   "outputs": [],
   "source": [
    "# sod \n",
    "\n",
    "# sod = df_ckd_1['sod']\n",
    "# print(sod.describe()) #calculate the amount of missing data\n",
    "# missing_sod = (sod.isnull().sum()/len(sod)) * 100\n",
    "# print(\"missing sod: \", missing_sod, \"%\" )\n",
    "# sns.distplot(sod)\n",
    "\n",
    "# # Changing sod\n",
    "# avg_sod=df_ckd_1[\"sod\"].mean(axis=0)\n",
    "# print(\"Average of sod\", avg_sod)\n",
    "# df_ckd_1[\"sod\"].replace(np.nan, avg_sod, inplace=True)"
   ]
  },
  {
   "cell_type": "markdown",
   "metadata": {},
   "source": [
    "WC\n",
    "\n",
    "* We found an article that htn has a high correlation with the wc. \n",
    "* htn: yes has an average of 8094\n",
    "* htn: no has an average 8988"
   ]
  },
  {
   "cell_type": "code",
   "execution_count": 60,
   "metadata": {},
   "outputs": [
    {
     "name": "stdout",
     "output_type": "stream",
     "text": [
      "missing wc:  20.867208672086722 %\n"
     ]
    },
    {
     "name": "stderr",
     "output_type": "stream",
     "text": [
      "C:\\Users\\iting\\anaconda3\\lib\\site-packages\\pandas\\core\\generic.py:6746: SettingWithCopyWarning: \n",
      "A value is trying to be set on a copy of a slice from a DataFrame\n",
      "\n",
      "See the caveats in the documentation: https://pandas.pydata.org/pandas-docs/stable/user_guide/indexing.html#returning-a-view-versus-a-copy\n",
      "  self._update_inplace(new_data)\n",
      "C:\\Users\\iting\\anaconda3\\lib\\site-packages\\pandas\\core\\frame.py:2963: SettingWithCopyWarning: \n",
      "A value is trying to be set on a copy of a slice from a DataFrame.\n",
      "Try using .loc[row_indexer,col_indexer] = value instead\n",
      "\n",
      "See the caveats in the documentation: https://pandas.pydata.org/pandas-docs/stable/user_guide/indexing.html#returning-a-view-versus-a-copy\n",
      "  self[k1] = value[k2]\n"
     ]
    },
    {
     "data": {
      "text/plain": [
       "count      292.000000\n",
       "mean      8406.506849\n",
       "std       2952.125239\n",
       "min       2200.000000\n",
       "25%       6500.000000\n",
       "50%       8000.000000\n",
       "75%       9800.000000\n",
       "max      26400.000000\n",
       "Name: wc, dtype: float64"
      ]
     },
     "execution_count": 60,
     "metadata": {},
     "output_type": "execute_result"
    }
   ],
   "source": [
    "# wc\n",
    "\n",
    "df_ckd_1[\"wc\"].describe\n",
    "wc = df_ckd_1['wc']\n",
    "missing_wc = (wc.isnull().sum()/len(wc)) * 100\n",
    "print(\"missing wc: \", missing_wc, \"%\" )\n",
    "wc.describe()\n",
    "\n",
    "# Correct the wc from missing data and into float\n",
    "df_ckd_1[\"wc\"].replace(\"\\t?\",np.nan, inplace=True)\n",
    "df_ckd_1[['wc']]=df_ckd_1[['wc']].astype(float)\n",
    "wc.describe()\n",
    "\n",
    "# Need to replace the missing values for wc"
   ]
  },
  {
   "cell_type": "code",
   "execution_count": 61,
   "metadata": {},
   "outputs": [
    {
     "data": {
      "text/plain": [
       "htn\n",
       "no     8094.210526\n",
       "yes    8988.235294\n",
       "Name: wc, dtype: float64"
      ]
     },
     "execution_count": 61,
     "metadata": {},
     "output_type": "execute_result"
    }
   ],
   "source": [
    "df_ckd_1.groupby('htn').wc.agg('mean')"
   ]
  },
  {
   "cell_type": "code",
   "execution_count": 62,
   "metadata": {},
   "outputs": [
    {
     "name": "stdout",
     "output_type": "stream",
     "text": [
      "6\n",
      "10\n",
      "15\n",
      "25\n",
      "28\n",
      "29\n",
      "31\n",
      "33\n",
      "38\n",
      "39\n",
      "45\n",
      "49\n",
      "52\n",
      "53\n",
      "55\n",
      "56\n",
      "57\n",
      "58\n",
      "62\n",
      "65\n",
      "68\n",
      "72\n",
      "76\n",
      "82\n",
      "83\n",
      "87\n",
      "97\n",
      "100\n",
      "102\n",
      "103\n",
      "104\n",
      "105\n",
      "111\n",
      "117\n",
      "118\n",
      "120\n",
      "121\n",
      "122\n",
      "124\n",
      "127\n",
      "129\n",
      "131\n",
      "132\n",
      "134\n",
      "136\n",
      "138\n",
      "147\n",
      "155\n",
      "157\n",
      "158\n",
      "160\n",
      "161\n",
      "163\n",
      "164\n",
      "169\n",
      "171\n",
      "177\n",
      "178\n",
      "179\n",
      "180\n",
      "184\n",
      "188\n",
      "193\n",
      "195\n",
      "201\n",
      "202\n",
      "205\n",
      "207\n",
      "208\n",
      "216\n",
      "242\n",
      "243\n",
      "256\n",
      "271\n",
      "288\n",
      "293\n",
      "299\n"
     ]
    },
    {
     "name": "stderr",
     "output_type": "stream",
     "text": [
      "C:\\Users\\iting\\anaconda3\\lib\\site-packages\\pandas\\core\\indexing.py:965: SettingWithCopyWarning: \n",
      "A value is trying to be set on a copy of a slice from a DataFrame.\n",
      "Try using .loc[row_indexer,col_indexer] = value instead\n",
      "\n",
      "See the caveats in the documentation: https://pandas.pydata.org/pandas-docs/stable/user_guide/indexing.html#returning-a-view-versus-a-copy\n",
      "  self.obj[item] = s\n"
     ]
    }
   ],
   "source": [
    "# From the above results, we need to replace 8094 for htn is no , and replace 8988 for htn is yes\n",
    "for i in range(len(df_ckd_1['wc'])):\n",
    "    if pd.isnull(df_ckd_1.iloc[i,df_ckd_1.columns.get_loc('wc')]) == True and df_ckd_1.iloc[i,df_ckd_1.columns.get_loc('htn')] == 'yes':\n",
    "        df_ckd_1.iloc[i,df_ckd_1.columns.get_loc('wc')]= 8988\n",
    "        print(i)\n",
    "    elif pd.isnull(df_ckd_1.iloc[i,df_ckd_1.columns.get_loc('wc')]) == True and df_ckd_1.iloc[i,df_ckd_1.columns.get_loc('htn')] == 'no':\n",
    "        df_ckd_1.iloc[i,df_ckd_1.columns.get_loc('wc')]= 8094\n",
    "        print(i)\n",
    "\n"
   ]
  },
  {
   "cell_type": "markdown",
   "metadata": {},
   "source": [
    "Now dealing with RC"
   ]
  },
  {
   "cell_type": "code",
   "execution_count": 63,
   "metadata": {},
   "outputs": [
    {
     "name": "stdout",
     "output_type": "stream",
     "text": [
      "                       id       age        bp       bgr        bu        sc  \\\n",
      "id               1.000000 -0.189930 -0.254607 -0.334984 -0.297291 -0.281258   \n",
      "age             -0.189930  1.000000  0.149087  0.232231  0.205979  0.126974   \n",
      "bp              -0.254607  0.149087  1.000000  0.145657  0.181782  0.183013   \n",
      "bgr             -0.334984  0.232231  0.145657  1.000000  0.158018  0.094219   \n",
      "bu              -0.297291  0.205979  0.181782  0.158018  1.000000  0.644363   \n",
      "sc              -0.281258  0.126974  0.183013  0.094219  0.644363  1.000000   \n",
      "sod              0.324354 -0.100930 -0.128829 -0.154343 -0.307361 -0.682997   \n",
      "hemo             0.620061 -0.190239 -0.283338 -0.286761 -0.542505 -0.366955   \n",
      "pcv              0.602265 -0.225537 -0.299020 -0.280896 -0.543699 -0.376971   \n",
      "wc              -0.186000  0.114905  0.027366  0.137095  0.048589 -0.003440   \n",
      "rc               0.605072 -0.267853 -0.259441 -0.272270 -0.573523 -0.398029   \n",
      "percent_missing -0.386779  0.065928  0.110246  0.117041  0.028677  0.132439   \n",
      "\n",
      "                      sod      hemo       pcv        wc        rc  \\\n",
      "id               0.324354  0.620061  0.602265 -0.186000  0.605072   \n",
      "age             -0.100930 -0.190239 -0.225537  0.114905 -0.267853   \n",
      "bp              -0.128829 -0.283338 -0.299020  0.027366 -0.259441   \n",
      "bgr             -0.154343 -0.286761 -0.280896  0.137095 -0.272270   \n",
      "bu              -0.307361 -0.542505 -0.543699  0.048589 -0.573523   \n",
      "sc              -0.682997 -0.366955 -0.376971 -0.003440 -0.398029   \n",
      "sod              1.000000  0.340696  0.352676  0.009731  0.339190   \n",
      "hemo             0.340696  1.000000  0.873299 -0.168103  0.786871   \n",
      "pcv              0.352676  0.873299  1.000000 -0.192129  0.782021   \n",
      "wc               0.009731 -0.168103 -0.192129  1.000000 -0.158499   \n",
      "rc               0.339190  0.786871  0.782021 -0.158499  1.000000   \n",
      "percent_missing -0.134458 -0.276609 -0.215195 -0.038736 -0.160206   \n",
      "\n",
      "                 percent_missing  \n",
      "id                     -0.386779  \n",
      "age                     0.065928  \n",
      "bp                      0.110246  \n",
      "bgr                     0.117041  \n",
      "bu                      0.028677  \n",
      "sc                      0.132439  \n",
      "sod                    -0.134458  \n",
      "hemo                   -0.276609  \n",
      "pcv                    -0.215195  \n",
      "wc                     -0.038736  \n",
      "rc                     -0.160206  \n",
      "percent_missing         1.000000  \n"
     ]
    }
   ],
   "source": [
    "# RC\n",
    "corrMatrix = df_ckd_1.corr()\n",
    "print (corrMatrix)\n",
    "\n",
    "# From the correlatoin matrix. PCV and RC are highly correlated\n"
   ]
  },
  {
   "cell_type": "code",
   "execution_count": 64,
   "metadata": {},
   "outputs": [],
   "source": [
    "# Getting the Data ready for the Linear Regression\n",
    "data = df_ckd_1[['id','rc','hemo']]\n",
    "\n",
    "missing_data = data['rc'].isnull()\n",
    "missing_data_tip = pd.DataFrame(data[['hemo']][missing_data])\n",
    "data_nomissing = data.dropna()\n",
    "x = data_nomissing[['hemo']]\n",
    "y = data_nomissing['rc']"
   ]
  },
  {
   "cell_type": "code",
   "execution_count": 65,
   "metadata": {},
   "outputs": [
    {
     "name": "stdout",
     "output_type": "stream",
     "text": [
      "r_sqaured:  0.65\n",
      "mse:  0.39\n"
     ]
    }
   ],
   "source": [
    "X_train, X_test, y_train, y_test = train_test_split(x, y, test_size=0.2, random_state=9)\n",
    "lm = LinearRegression().fit(X_train, y_train)\n",
    "# Descriptive statistic for evaluating the model\n",
    "yhat = lm.predict(X_test)\n",
    "SS_R = sum((yhat-np.mean(y_test))**2)       \n",
    "SS_Total = sum((y_test-np.mean(y_test))**2) \n",
    "r_squared = (float(SS_R))/SS_Total\n",
    "mse = mean_squared_error(y_test, yhat)\n",
    "\n",
    "print(\"r_sqaured: \",round(r_squared,2))\n",
    "print(\"mse: \", round(mse,2))"
   ]
  },
  {
   "cell_type": "code",
   "execution_count": 66,
   "metadata": {},
   "outputs": [
    {
     "name": "stderr",
     "output_type": "stream",
     "text": [
      "C:\\Users\\iting\\anaconda3\\lib\\site-packages\\ipykernel_launcher.py:4: SettingWithCopyWarning: \n",
      "A value is trying to be set on a copy of a slice from a DataFrame.\n",
      "Try using .loc[row_indexer,col_indexer] = value instead\n",
      "\n",
      "See the caveats in the documentation: https://pandas.pydata.org/pandas-docs/stable/user_guide/indexing.html#returning-a-view-versus-a-copy\n",
      "  after removing the cwd from sys.path.\n",
      "C:\\Users\\iting\\anaconda3\\lib\\site-packages\\pandas\\core\\generic.py:6746: SettingWithCopyWarning: \n",
      "A value is trying to be set on a copy of a slice from a DataFrame\n",
      "\n",
      "See the caveats in the documentation: https://pandas.pydata.org/pandas-docs/stable/user_guide/indexing.html#returning-a-view-versus-a-copy\n",
      "  self._update_inplace(new_data)\n",
      "C:\\Users\\iting\\anaconda3\\lib\\site-packages\\ipykernel_launcher.py:7: SettingWithCopyWarning: \n",
      "A value is trying to be set on a copy of a slice from a DataFrame.\n",
      "Try using .loc[row_indexer,col_indexer] = value instead\n",
      "\n",
      "See the caveats in the documentation: https://pandas.pydata.org/pandas-docs/stable/user_guide/indexing.html#returning-a-view-versus-a-copy\n",
      "  import sys\n",
      "C:\\Users\\iting\\anaconda3\\lib\\site-packages\\ipykernel_launcher.py:8: SettingWithCopyWarning: \n",
      "A value is trying to be set on a copy of a slice from a DataFrame.\n",
      "Try using .loc[row_indexer,col_indexer] = value instead\n",
      "\n",
      "See the caveats in the documentation: https://pandas.pydata.org/pandas-docs/stable/user_guide/indexing.html#returning-a-view-versus-a-copy\n",
      "  \n"
     ]
    }
   ],
   "source": [
    "# Replacing on to the orginal dataframe\n",
    "data_pred = lm.predict(missing_data_tip)\n",
    "missing_data_tip['data_pred'] = data_pred\n",
    "data[\"data_pred\"] = missing_data_tip[\"data_pred\"]\n",
    "data[\"rc\"].replace(np.nan, 0, inplace=True)\n",
    "data[\"data_pred\"].replace(np.nan, 0, inplace=True)\n",
    "data[\"rc\"] = data[\"rc\"]+data[\"data_pred\"]\n",
    "df_ckd_1[\"rc\"]=data[\"rc\"]"
   ]
  },
  {
   "cell_type": "markdown",
   "metadata": {},
   "source": [
    "The Code below no longer needed."
   ]
  },
  {
   "cell_type": "code",
   "execution_count": 67,
   "metadata": {},
   "outputs": [],
   "source": [
    "# RC \n",
    "\n",
    "# df_ckd_1[\"rc\"].astype(float)\n",
    "\n",
    "# #calculate the amount of missing data\n",
    "# rc = df_ckd_1['rc']\n",
    "# missing_rc = (rc.isnull().sum()/len(rc)) * 100\n",
    "# print(\"missing rc: \", missing_rc, \"%\" )\n",
    "# print(df_ckd_1['rc'].describe())\n",
    "\n",
    "# # Replace it with mean \n",
    "# avg_rc=df_ckd_1[\"rc\"].mean(axis=0)\n",
    "# print(\"Average of rc\", avg_rc)\n",
    "# df_ckd_1[\"rc\"].replace(np.nan, avg_rc, inplace=True)"
   ]
  },
  {
   "cell_type": "markdown",
   "metadata": {},
   "source": [
    "Now focus on RBC"
   ]
  },
  {
   "cell_type": "code",
   "execution_count": 68,
   "metadata": {},
   "outputs": [
    {
     "name": "stdout",
     "output_type": "stream",
     "text": [
      "missing rbc:  33.60433604336043 %\n",
      "Number of missing:  124\n",
      "normal      199\n",
      "abnormal     46\n",
      "Name: rbc, dtype: int64\n"
     ]
    }
   ],
   "source": [
    "#RBC was replaced with abnormal or normal based on the linear regression results with rc. Article was used to determine\n",
    "#the normal range of RBC\n",
    "\n",
    "#calculate the amount of missing data\n",
    "rbc = df_ckd_1['rbc']\n",
    "missing_rbc = (rbc.isnull().sum()/len(rbc)) * 100\n",
    "print(\"missing rbc: \", missing_rbc, \"%\" )\n",
    "\n",
    "number_of_missing_data=rbc.isnull().sum()\n",
    "print(\"Number of missing: \", number_of_missing_data)\n",
    "\n",
    "print(df_ckd_1['rbc'].value_counts())"
   ]
  },
  {
   "cell_type": "code",
   "execution_count": 69,
   "metadata": {},
   "outputs": [
    {
     "name": "stderr",
     "output_type": "stream",
     "text": [
      "C:\\Users\\iting\\anaconda3\\lib\\site-packages\\pandas\\core\\indexing.py:965: SettingWithCopyWarning: \n",
      "A value is trying to be set on a copy of a slice from a DataFrame.\n",
      "Try using .loc[row_indexer,col_indexer] = value instead\n",
      "\n",
      "See the caveats in the documentation: https://pandas.pydata.org/pandas-docs/stable/user_guide/indexing.html#returning-a-view-versus-a-copy\n",
      "  self.obj[item] = s\n"
     ]
    }
   ],
   "source": [
    "for i in range(len(df_ckd_1)):\n",
    "    if pd.isnull(df_ckd_1.iloc[i,df_ckd_1.columns.get_loc('rbc')]) == True and df_ckd_1.iloc[i]['rc'] > 3.92 and df_ckd_1.iloc[i]['rc'] < 5.65:\n",
    "        df_ckd_1.iloc[i, df_ckd_1.columns.get_loc('rbc')] = 'normal'\n",
    "        \n",
    "    elif pd.isnull(df_ckd_1.iloc[i,df_ckd_1.columns.get_loc('rbc')]) == True:\n",
    "        df_ckd_1.iloc[i, df_ckd_1.columns.get_loc('rbc')] = 'abnormal'"
   ]
  },
  {
   "cell_type": "code",
   "execution_count": 70,
   "metadata": {},
   "outputs": [
    {
     "data": {
      "text/plain": [
       "id                 0\n",
       "age                0\n",
       "bp                 0\n",
       "sg                 0\n",
       "al                 0\n",
       "su                 0\n",
       "rbc                0\n",
       "pc                 0\n",
       "pcc                0\n",
       "ba                 0\n",
       "bgr                0\n",
       "bu                 0\n",
       "sc                 0\n",
       "sod                0\n",
       "hemo               0\n",
       "pcv                0\n",
       "wc                 0\n",
       "rc                 0\n",
       "htn                0\n",
       "dm                 0\n",
       "cad                0\n",
       "appet              0\n",
       "pe                 0\n",
       "ane                0\n",
       "classification     0\n",
       "percent_missing    0\n",
       "dtype: int64"
      ]
     },
     "execution_count": 70,
     "metadata": {},
     "output_type": "execute_result"
    }
   ],
   "source": [
    "#verify missing data was handled\n",
    "df_ckd_1.isnull().sum()"
   ]
  },
  {
   "cell_type": "code",
   "execution_count": 71,
   "metadata": {},
   "outputs": [
    {
     "name": "stdout",
     "output_type": "stream",
     "text": [
      "<class 'pandas.core.frame.DataFrame'>\n",
      "RangeIndex: 369 entries, 0 to 368\n",
      "Data columns (total 26 columns):\n",
      " #   Column           Non-Null Count  Dtype  \n",
      "---  ------           --------------  -----  \n",
      " 0   id               369 non-null    int64  \n",
      " 1   age              369 non-null    float64\n",
      " 2   bp               369 non-null    float64\n",
      " 3   sg               369 non-null    object \n",
      " 4   al               369 non-null    object \n",
      " 5   su               369 non-null    object \n",
      " 6   rbc              369 non-null    object \n",
      " 7   pc               369 non-null    object \n",
      " 8   pcc              369 non-null    object \n",
      " 9   ba               369 non-null    object \n",
      " 10  bgr              369 non-null    float64\n",
      " 11  bu               369 non-null    float64\n",
      " 12  sc               369 non-null    float64\n",
      " 13  sod              369 non-null    float64\n",
      " 14  hemo             369 non-null    float64\n",
      " 15  pcv              369 non-null    float64\n",
      " 16  wc               369 non-null    float64\n",
      " 17  rc               369 non-null    float64\n",
      " 18  htn              369 non-null    object \n",
      " 19  dm               369 non-null    object \n",
      " 20  cad              369 non-null    object \n",
      " 21  appet            369 non-null    object \n",
      " 22  pe               369 non-null    object \n",
      " 23  ane              369 non-null    object \n",
      " 24  classification   369 non-null    object \n",
      " 25  percent_missing  369 non-null    float64\n",
      "dtypes: float64(11), int64(1), object(14)\n",
      "memory usage: 75.1+ KB\n"
     ]
    }
   ],
   "source": [
    "#inspect data\n",
    "df_ckd_1.info()"
   ]
  },
  {
   "cell_type": "markdown",
   "metadata": {},
   "source": [
    "# Removing outliers for the continous variable\n",
    "It deleted too many variables. So this section was not run."
   ]
  },
  {
   "cell_type": "code",
   "execution_count": 72,
   "metadata": {},
   "outputs": [],
   "source": [
    "# Q1 = df_ckd_1.quantile(0.25)\n",
    "# Q3 = df_ckd_1.quantile(0.75)\n",
    "# IQR = Q3 - Q1\n",
    "# print(IQR)"
   ]
  },
  {
   "cell_type": "code",
   "execution_count": 73,
   "metadata": {},
   "outputs": [],
   "source": [
    "# df_ckd_2 = df_ckd_1[~((df_ckd_1 < (Q1 - 1.5 * IQR)) |(df_ckd_1 > (Q3 + 1.5 * IQR))).any(axis=1)]\n",
    "# df_ckd_2.shape\n"
   ]
  },
  {
   "cell_type": "code",
   "execution_count": 74,
   "metadata": {},
   "outputs": [],
   "source": [
    "# df_ckd_2"
   ]
  },
  {
   "cell_type": "markdown",
   "metadata": {},
   "source": [
    "## Dummy Coding Categorical Variables"
   ]
  },
  {
   "cell_type": "code",
   "execution_count": 75,
   "metadata": {},
   "outputs": [],
   "source": [
    "# Dummy Code the categorical Variables"
   ]
  },
  {
   "cell_type": "code",
   "execution_count": 76,
   "metadata": {},
   "outputs": [],
   "source": [
    "# changing the sg\n",
    "df_ckd_1 = pd.get_dummies(df_ckd_1, columns = ['sg'])"
   ]
  },
  {
   "cell_type": "code",
   "execution_count": 77,
   "metadata": {},
   "outputs": [],
   "source": [
    "# changing the al\n",
    "df_ckd_1 = pd.get_dummies(df_ckd_1, columns = ['al'])"
   ]
  },
  {
   "cell_type": "code",
   "execution_count": 78,
   "metadata": {},
   "outputs": [],
   "source": [
    "# changing the su\n",
    "df_ckd_1 = pd.get_dummies(df_ckd_1, columns = ['su'])"
   ]
  },
  {
   "cell_type": "code",
   "execution_count": 79,
   "metadata": {},
   "outputs": [],
   "source": [
    "# changing the rbc\n",
    "df_ckd_1 = pd.get_dummies(df_ckd_1, columns = ['rbc'])"
   ]
  },
  {
   "cell_type": "code",
   "execution_count": 80,
   "metadata": {},
   "outputs": [],
   "source": [
    "# changing the pc\n",
    "df_ckd_1 = pd.get_dummies(df_ckd_1, columns = ['pc'])"
   ]
  },
  {
   "cell_type": "code",
   "execution_count": 81,
   "metadata": {},
   "outputs": [],
   "source": [
    "# changing the pcc\n",
    "df_ckd_1 = pd.get_dummies(df_ckd_1, columns = ['pcc'])"
   ]
  },
  {
   "cell_type": "code",
   "execution_count": 82,
   "metadata": {},
   "outputs": [],
   "source": [
    "# changing the ba\n",
    "df_ckd_1 = pd.get_dummies(df_ckd_1, columns = ['ba'])"
   ]
  },
  {
   "cell_type": "code",
   "execution_count": 83,
   "metadata": {},
   "outputs": [],
   "source": [
    "# changing the htn\n",
    "df_ckd_1 = pd.get_dummies(df_ckd_1, columns = ['htn'])"
   ]
  },
  {
   "cell_type": "code",
   "execution_count": 84,
   "metadata": {},
   "outputs": [],
   "source": [
    "# changing the dm\n",
    "df_ckd_1 = pd.get_dummies(df_ckd_1, columns = ['dm'])"
   ]
  },
  {
   "cell_type": "code",
   "execution_count": 85,
   "metadata": {},
   "outputs": [],
   "source": [
    "# changing the cad\n",
    "df_ckd_1 = pd.get_dummies(df_ckd_1, columns = ['cad'])"
   ]
  },
  {
   "cell_type": "code",
   "execution_count": 86,
   "metadata": {},
   "outputs": [],
   "source": [
    "# changing the appet\n",
    "df_ckd_1 = pd.get_dummies(df_ckd_1, columns = ['appet'])"
   ]
  },
  {
   "cell_type": "code",
   "execution_count": 87,
   "metadata": {},
   "outputs": [],
   "source": [
    "# changing the pe\n",
    "df_ckd_1 = pd.get_dummies(df_ckd_1, columns = ['pe'])"
   ]
  },
  {
   "cell_type": "code",
   "execution_count": 88,
   "metadata": {},
   "outputs": [],
   "source": [
    "# changing the ane\n",
    "df_ckd_1 = pd.get_dummies(df_ckd_1, columns = ['ane'])"
   ]
  },
  {
   "cell_type": "code",
   "execution_count": 89,
   "metadata": {},
   "outputs": [],
   "source": [
    "# changing the classification\n",
    "df_ckd_1 = pd.get_dummies(df_ckd_1, columns = ['classification'])"
   ]
  },
  {
   "cell_type": "markdown",
   "metadata": {},
   "source": [
    "############################################################################################"
   ]
  },
  {
   "cell_type": "code",
   "execution_count": 90,
   "metadata": {},
   "outputs": [
    {
     "name": "stdout",
     "output_type": "stream",
     "text": [
      "<class 'pandas.core.frame.DataFrame'>\n",
      "RangeIndex: 369 entries, 0 to 368\n",
      "Data columns (total 54 columns):\n",
      " #   Column                 Non-Null Count  Dtype  \n",
      "---  ------                 --------------  -----  \n",
      " 0   id                     369 non-null    int64  \n",
      " 1   age                    369 non-null    float64\n",
      " 2   bp                     369 non-null    float64\n",
      " 3   bgr                    369 non-null    float64\n",
      " 4   bu                     369 non-null    float64\n",
      " 5   sc                     369 non-null    float64\n",
      " 6   sod                    369 non-null    float64\n",
      " 7   hemo                   369 non-null    float64\n",
      " 8   pcv                    369 non-null    float64\n",
      " 9   wc                     369 non-null    float64\n",
      " 10  rc                     369 non-null    float64\n",
      " 11  percent_missing        369 non-null    float64\n",
      " 12  sg_1.005               369 non-null    uint8  \n",
      " 13  sg_1.01                369 non-null    uint8  \n",
      " 14  sg_1.015               369 non-null    uint8  \n",
      " 15  sg_1.02                369 non-null    uint8  \n",
      " 16  sg_1.025               369 non-null    uint8  \n",
      " 17  sg_1.020               369 non-null    uint8  \n",
      " 18  al_0.0                 369 non-null    uint8  \n",
      " 19  al_1.0                 369 non-null    uint8  \n",
      " 20  al_2.0                 369 non-null    uint8  \n",
      " 21  al_3.0                 369 non-null    uint8  \n",
      " 22  al_4.0                 369 non-null    uint8  \n",
      " 23  al_5.0                 369 non-null    uint8  \n",
      " 24  al_0.0                 369 non-null    uint8  \n",
      " 25  su_0.0                 369 non-null    uint8  \n",
      " 26  su_1.0                 369 non-null    uint8  \n",
      " 27  su_2.0                 369 non-null    uint8  \n",
      " 28  su_3.0                 369 non-null    uint8  \n",
      " 29  su_4.0                 369 non-null    uint8  \n",
      " 30  su_5.0                 369 non-null    uint8  \n",
      " 31  su_0.0                 369 non-null    uint8  \n",
      " 32  rbc_abnormal           369 non-null    uint8  \n",
      " 33  rbc_normal             369 non-null    uint8  \n",
      " 34  pc_abnormal            369 non-null    uint8  \n",
      " 35  pc_normal              369 non-null    uint8  \n",
      " 36  pcc_notpresent         369 non-null    uint8  \n",
      " 37  pcc_present            369 non-null    uint8  \n",
      " 38  ba_notpresent          369 non-null    uint8  \n",
      " 39  ba_present             369 non-null    uint8  \n",
      " 40  htn_no                 369 non-null    uint8  \n",
      " 41  htn_yes                369 non-null    uint8  \n",
      " 42  dm_no                  369 non-null    uint8  \n",
      " 43  dm_yes                 369 non-null    uint8  \n",
      " 44  cad_no                 369 non-null    uint8  \n",
      " 45  cad_yes                369 non-null    uint8  \n",
      " 46  appet_good             369 non-null    uint8  \n",
      " 47  appet_poor             369 non-null    uint8  \n",
      " 48  pe_no                  369 non-null    uint8  \n",
      " 49  pe_yes                 369 non-null    uint8  \n",
      " 50  ane_no                 369 non-null    uint8  \n",
      " 51  ane_yes                369 non-null    uint8  \n",
      " 52  classification_ckd     369 non-null    uint8  \n",
      " 53  classification_notckd  369 non-null    uint8  \n",
      "dtypes: float64(11), int64(1), uint8(42)\n",
      "memory usage: 49.9 KB\n"
     ]
    }
   ],
   "source": [
    "#inspect data\n",
    "df_ckd_1.info()"
   ]
  },
  {
   "cell_type": "code",
   "execution_count": 91,
   "metadata": {},
   "outputs": [],
   "source": [
    "### Dropping unused column"
   ]
  },
  {
   "cell_type": "code",
   "execution_count": 92,
   "metadata": {},
   "outputs": [],
   "source": [
    "# Removing percent_missing\n",
    "del df_ckd_1['percent_missing']"
   ]
  },
  {
   "cell_type": "code",
   "execution_count": 93,
   "metadata": {},
   "outputs": [
    {
     "data": {
      "text/html": [
       "<div>\n",
       "<style scoped>\n",
       "    .dataframe tbody tr th:only-of-type {\n",
       "        vertical-align: middle;\n",
       "    }\n",
       "\n",
       "    .dataframe tbody tr th {\n",
       "        vertical-align: top;\n",
       "    }\n",
       "\n",
       "    .dataframe thead th {\n",
       "        text-align: right;\n",
       "    }\n",
       "</style>\n",
       "<table border=\"1\" class=\"dataframe\">\n",
       "  <thead>\n",
       "    <tr style=\"text-align: right;\">\n",
       "      <th></th>\n",
       "      <th>id</th>\n",
       "      <th>age</th>\n",
       "      <th>bp</th>\n",
       "      <th>bgr</th>\n",
       "      <th>bu</th>\n",
       "      <th>sc</th>\n",
       "      <th>sod</th>\n",
       "      <th>hemo</th>\n",
       "      <th>pcv</th>\n",
       "      <th>wc</th>\n",
       "      <th>...</th>\n",
       "      <th>cad_no</th>\n",
       "      <th>cad_yes</th>\n",
       "      <th>appet_good</th>\n",
       "      <th>appet_poor</th>\n",
       "      <th>pe_no</th>\n",
       "      <th>pe_yes</th>\n",
       "      <th>ane_no</th>\n",
       "      <th>ane_yes</th>\n",
       "      <th>classification_ckd</th>\n",
       "      <th>classification_notckd</th>\n",
       "    </tr>\n",
       "  </thead>\n",
       "  <tbody>\n",
       "    <tr>\n",
       "      <th>0</th>\n",
       "      <td>0</td>\n",
       "      <td>48.0</td>\n",
       "      <td>80.0</td>\n",
       "      <td>121.000000</td>\n",
       "      <td>36.0</td>\n",
       "      <td>1.2</td>\n",
       "      <td>138.351399</td>\n",
       "      <td>15.4</td>\n",
       "      <td>44.0</td>\n",
       "      <td>7800.0</td>\n",
       "      <td>...</td>\n",
       "      <td>1</td>\n",
       "      <td>0</td>\n",
       "      <td>1</td>\n",
       "      <td>0</td>\n",
       "      <td>1</td>\n",
       "      <td>0</td>\n",
       "      <td>1</td>\n",
       "      <td>0</td>\n",
       "      <td>1</td>\n",
       "      <td>0</td>\n",
       "    </tr>\n",
       "    <tr>\n",
       "      <th>1</th>\n",
       "      <td>1</td>\n",
       "      <td>7.0</td>\n",
       "      <td>50.0</td>\n",
       "      <td>147.190476</td>\n",
       "      <td>18.0</td>\n",
       "      <td>0.8</td>\n",
       "      <td>141.550387</td>\n",
       "      <td>11.3</td>\n",
       "      <td>38.0</td>\n",
       "      <td>6000.0</td>\n",
       "      <td>...</td>\n",
       "      <td>1</td>\n",
       "      <td>0</td>\n",
       "      <td>1</td>\n",
       "      <td>0</td>\n",
       "      <td>1</td>\n",
       "      <td>0</td>\n",
       "      <td>1</td>\n",
       "      <td>0</td>\n",
       "      <td>1</td>\n",
       "      <td>0</td>\n",
       "    </tr>\n",
       "    <tr>\n",
       "      <th>2</th>\n",
       "      <td>2</td>\n",
       "      <td>62.0</td>\n",
       "      <td>80.0</td>\n",
       "      <td>423.000000</td>\n",
       "      <td>53.0</td>\n",
       "      <td>1.8</td>\n",
       "      <td>138.351399</td>\n",
       "      <td>9.6</td>\n",
       "      <td>31.0</td>\n",
       "      <td>7500.0</td>\n",
       "      <td>...</td>\n",
       "      <td>1</td>\n",
       "      <td>0</td>\n",
       "      <td>0</td>\n",
       "      <td>1</td>\n",
       "      <td>1</td>\n",
       "      <td>0</td>\n",
       "      <td>0</td>\n",
       "      <td>1</td>\n",
       "      <td>1</td>\n",
       "      <td>0</td>\n",
       "    </tr>\n",
       "    <tr>\n",
       "      <th>3</th>\n",
       "      <td>3</td>\n",
       "      <td>48.0</td>\n",
       "      <td>70.0</td>\n",
       "      <td>117.000000</td>\n",
       "      <td>56.0</td>\n",
       "      <td>3.8</td>\n",
       "      <td>111.000000</td>\n",
       "      <td>11.2</td>\n",
       "      <td>32.0</td>\n",
       "      <td>6700.0</td>\n",
       "      <td>...</td>\n",
       "      <td>1</td>\n",
       "      <td>0</td>\n",
       "      <td>0</td>\n",
       "      <td>1</td>\n",
       "      <td>0</td>\n",
       "      <td>1</td>\n",
       "      <td>0</td>\n",
       "      <td>1</td>\n",
       "      <td>1</td>\n",
       "      <td>0</td>\n",
       "    </tr>\n",
       "    <tr>\n",
       "      <th>4</th>\n",
       "      <td>4</td>\n",
       "      <td>51.0</td>\n",
       "      <td>80.0</td>\n",
       "      <td>106.000000</td>\n",
       "      <td>26.0</td>\n",
       "      <td>1.4</td>\n",
       "      <td>138.351399</td>\n",
       "      <td>11.6</td>\n",
       "      <td>35.0</td>\n",
       "      <td>7300.0</td>\n",
       "      <td>...</td>\n",
       "      <td>1</td>\n",
       "      <td>0</td>\n",
       "      <td>1</td>\n",
       "      <td>0</td>\n",
       "      <td>1</td>\n",
       "      <td>0</td>\n",
       "      <td>1</td>\n",
       "      <td>0</td>\n",
       "      <td>1</td>\n",
       "      <td>0</td>\n",
       "    </tr>\n",
       "  </tbody>\n",
       "</table>\n",
       "<p>5 rows × 53 columns</p>\n",
       "</div>"
      ],
      "text/plain": [
       "   id   age    bp         bgr    bu   sc         sod  hemo   pcv      wc  ...  \\\n",
       "0   0  48.0  80.0  121.000000  36.0  1.2  138.351399  15.4  44.0  7800.0  ...   \n",
       "1   1   7.0  50.0  147.190476  18.0  0.8  141.550387  11.3  38.0  6000.0  ...   \n",
       "2   2  62.0  80.0  423.000000  53.0  1.8  138.351399   9.6  31.0  7500.0  ...   \n",
       "3   3  48.0  70.0  117.000000  56.0  3.8  111.000000  11.2  32.0  6700.0  ...   \n",
       "4   4  51.0  80.0  106.000000  26.0  1.4  138.351399  11.6  35.0  7300.0  ...   \n",
       "\n",
       "   cad_no  cad_yes  appet_good  appet_poor  pe_no  pe_yes  ane_no  ane_yes  \\\n",
       "0       1        0           1           0      1       0       1        0   \n",
       "1       1        0           1           0      1       0       1        0   \n",
       "2       1        0           0           1      1       0       0        1   \n",
       "3       1        0           0           1      0       1       0        1   \n",
       "4       1        0           1           0      1       0       1        0   \n",
       "\n",
       "   classification_ckd  classification_notckd  \n",
       "0                   1                      0  \n",
       "1                   1                      0  \n",
       "2                   1                      0  \n",
       "3                   1                      0  \n",
       "4                   1                      0  \n",
       "\n",
       "[5 rows x 53 columns]"
      ]
     },
     "execution_count": 93,
     "metadata": {},
     "output_type": "execute_result"
    }
   ],
   "source": [
    "df_ckd_1.head()"
   ]
  },
  {
   "cell_type": "markdown",
   "metadata": {},
   "source": [
    "Make the categorical n-1 variable "
   ]
  },
  {
   "cell_type": "code",
   "execution_count": 94,
   "metadata": {},
   "outputs": [],
   "source": [
    "del df_ckd_1['sg_1.005']"
   ]
  },
  {
   "cell_type": "code",
   "execution_count": 95,
   "metadata": {},
   "outputs": [],
   "source": [
    "del df_ckd_1['al_0.0']"
   ]
  },
  {
   "cell_type": "code",
   "execution_count": 96,
   "metadata": {},
   "outputs": [],
   "source": [
    "del df_ckd_1['su_0.0']"
   ]
  },
  {
   "cell_type": "code",
   "execution_count": 97,
   "metadata": {},
   "outputs": [],
   "source": [
    "del df_ckd_1['rbc_normal']"
   ]
  },
  {
   "cell_type": "code",
   "execution_count": 98,
   "metadata": {},
   "outputs": [],
   "source": [
    "del df_ckd_1['pc_normal']"
   ]
  },
  {
   "cell_type": "code",
   "execution_count": 99,
   "metadata": {},
   "outputs": [],
   "source": [
    "del df_ckd_1['pcc_notpresent']"
   ]
  },
  {
   "cell_type": "code",
   "execution_count": 100,
   "metadata": {},
   "outputs": [],
   "source": [
    "del df_ckd_1['ba_notpresent']"
   ]
  },
  {
   "cell_type": "code",
   "execution_count": 101,
   "metadata": {},
   "outputs": [],
   "source": [
    "del df_ckd_1['htn_no']"
   ]
  },
  {
   "cell_type": "code",
   "execution_count": 102,
   "metadata": {},
   "outputs": [],
   "source": [
    "del df_ckd_1['dm_no']"
   ]
  },
  {
   "cell_type": "code",
   "execution_count": 103,
   "metadata": {},
   "outputs": [],
   "source": [
    "del df_ckd_1['cad_no']"
   ]
  },
  {
   "cell_type": "code",
   "execution_count": 104,
   "metadata": {},
   "outputs": [],
   "source": [
    "del df_ckd_1['appet_poor']"
   ]
  },
  {
   "cell_type": "code",
   "execution_count": 105,
   "metadata": {},
   "outputs": [],
   "source": [
    "del df_ckd_1['pe_no']"
   ]
  },
  {
   "cell_type": "code",
   "execution_count": 106,
   "metadata": {},
   "outputs": [],
   "source": [
    "del df_ckd_1['ane_no']"
   ]
  },
  {
   "cell_type": "code",
   "execution_count": 107,
   "metadata": {},
   "outputs": [],
   "source": [
    "del df_ckd_1['classification_notckd']"
   ]
  },
  {
   "cell_type": "code",
   "execution_count": 108,
   "metadata": {},
   "outputs": [],
   "source": [
    "del df_ckd_1['id']"
   ]
  },
  {
   "cell_type": "code",
   "execution_count": 109,
   "metadata": {},
   "outputs": [
    {
     "name": "stdout",
     "output_type": "stream",
     "text": [
      "<class 'pandas.core.frame.DataFrame'>\n",
      "RangeIndex: 369 entries, 0 to 368\n",
      "Data columns (total 36 columns):\n",
      " #   Column              Non-Null Count  Dtype  \n",
      "---  ------              --------------  -----  \n",
      " 0   age                 369 non-null    float64\n",
      " 1   bp                  369 non-null    float64\n",
      " 2   bgr                 369 non-null    float64\n",
      " 3   bu                  369 non-null    float64\n",
      " 4   sc                  369 non-null    float64\n",
      " 5   sod                 369 non-null    float64\n",
      " 6   hemo                369 non-null    float64\n",
      " 7   pcv                 369 non-null    float64\n",
      " 8   wc                  369 non-null    float64\n",
      " 9   rc                  369 non-null    float64\n",
      " 10  sg_1.01             369 non-null    uint8  \n",
      " 11  sg_1.015            369 non-null    uint8  \n",
      " 12  sg_1.02             369 non-null    uint8  \n",
      " 13  sg_1.025            369 non-null    uint8  \n",
      " 14  sg_1.020            369 non-null    uint8  \n",
      " 15  al_1.0              369 non-null    uint8  \n",
      " 16  al_2.0              369 non-null    uint8  \n",
      " 17  al_3.0              369 non-null    uint8  \n",
      " 18  al_4.0              369 non-null    uint8  \n",
      " 19  al_5.0              369 non-null    uint8  \n",
      " 20  su_1.0              369 non-null    uint8  \n",
      " 21  su_2.0              369 non-null    uint8  \n",
      " 22  su_3.0              369 non-null    uint8  \n",
      " 23  su_4.0              369 non-null    uint8  \n",
      " 24  su_5.0              369 non-null    uint8  \n",
      " 25  rbc_abnormal        369 non-null    uint8  \n",
      " 26  pc_abnormal         369 non-null    uint8  \n",
      " 27  pcc_present         369 non-null    uint8  \n",
      " 28  ba_present          369 non-null    uint8  \n",
      " 29  htn_yes             369 non-null    uint8  \n",
      " 30  dm_yes              369 non-null    uint8  \n",
      " 31  cad_yes             369 non-null    uint8  \n",
      " 32  appet_good          369 non-null    uint8  \n",
      " 33  pe_yes              369 non-null    uint8  \n",
      " 34  ane_yes             369 non-null    uint8  \n",
      " 35  classification_ckd  369 non-null    uint8  \n",
      "dtypes: float64(10), uint8(26)\n",
      "memory usage: 38.3 KB\n"
     ]
    }
   ],
   "source": [
    "df_ckd_1.info()"
   ]
  },
  {
   "cell_type": "markdown",
   "metadata": {},
   "source": [
    "###########################################\n",
    "* Rename the variable names:"
   ]
  },
  {
   "cell_type": "code",
   "execution_count": 110,
   "metadata": {},
   "outputs": [],
   "source": [
    "df_ckd_1.rename(columns={'rbc_abnormal':'rbc'}, inplace=True)\n",
    "df_ckd_1.rename(columns={'ba_present':'ba'}, inplace=True)\n",
    "df_ckd_1.rename(columns={'pc_abnormal':'pc'}, inplace=True)\n",
    "df_ckd_1.rename(columns={'pcc_present':'pcc'}, inplace=True)\n",
    "df_ckd_1.rename(columns={'htn_yes':'htn'}, inplace=True)\n",
    "df_ckd_1.rename(columns={'dm_yes':'dm'}, inplace=True)\n",
    "df_ckd_1.rename(columns={'cad_yes':'cad'}, inplace=True)\n",
    "df_ckd_1.rename(columns={'appet_good':'appet'}, inplace=True)\n",
    "df_ckd_1.rename(columns={'pe_yes':'pe'}, inplace=True)\n",
    "df_ckd_1.rename(columns={'ane_yes':'ane'}, inplace=True)\n",
    "df_ckd_1.rename(columns={'classification_ckd':'classification'}, inplace=True)"
   ]
  },
  {
   "cell_type": "code",
   "execution_count": 111,
   "metadata": {},
   "outputs": [
    {
     "name": "stdout",
     "output_type": "stream",
     "text": [
      "<class 'pandas.core.frame.DataFrame'>\n",
      "RangeIndex: 369 entries, 0 to 368\n",
      "Data columns (total 36 columns):\n",
      " #   Column          Non-Null Count  Dtype  \n",
      "---  ------          --------------  -----  \n",
      " 0   age             369 non-null    float64\n",
      " 1   bp              369 non-null    float64\n",
      " 2   bgr             369 non-null    float64\n",
      " 3   bu              369 non-null    float64\n",
      " 4   sc              369 non-null    float64\n",
      " 5   sod             369 non-null    float64\n",
      " 6   hemo            369 non-null    float64\n",
      " 7   pcv             369 non-null    float64\n",
      " 8   wc              369 non-null    float64\n",
      " 9   rc              369 non-null    float64\n",
      " 10  sg_1.01         369 non-null    uint8  \n",
      " 11  sg_1.015        369 non-null    uint8  \n",
      " 12  sg_1.02         369 non-null    uint8  \n",
      " 13  sg_1.025        369 non-null    uint8  \n",
      " 14  sg_1.020        369 non-null    uint8  \n",
      " 15  al_1.0          369 non-null    uint8  \n",
      " 16  al_2.0          369 non-null    uint8  \n",
      " 17  al_3.0          369 non-null    uint8  \n",
      " 18  al_4.0          369 non-null    uint8  \n",
      " 19  al_5.0          369 non-null    uint8  \n",
      " 20  su_1.0          369 non-null    uint8  \n",
      " 21  su_2.0          369 non-null    uint8  \n",
      " 22  su_3.0          369 non-null    uint8  \n",
      " 23  su_4.0          369 non-null    uint8  \n",
      " 24  su_5.0          369 non-null    uint8  \n",
      " 25  rbc             369 non-null    uint8  \n",
      " 26  pc              369 non-null    uint8  \n",
      " 27  pcc             369 non-null    uint8  \n",
      " 28  ba              369 non-null    uint8  \n",
      " 29  htn             369 non-null    uint8  \n",
      " 30  dm              369 non-null    uint8  \n",
      " 31  cad             369 non-null    uint8  \n",
      " 32  appet           369 non-null    uint8  \n",
      " 33  pe              369 non-null    uint8  \n",
      " 34  ane             369 non-null    uint8  \n",
      " 35  classification  369 non-null    uint8  \n",
      "dtypes: float64(10), uint8(26)\n",
      "memory usage: 38.3 KB\n"
     ]
    }
   ],
   "source": [
    "df_ckd_1.info()"
   ]
  },
  {
   "cell_type": "markdown",
   "metadata": {},
   "source": [
    "############################################\n",
    "* Complete data wrangling\n",
    "* Next, set training and testing dataset"
   ]
  },
  {
   "cell_type": "code",
   "execution_count": 112,
   "metadata": {},
   "outputs": [],
   "source": [
    "# Creating the dataset for predictors\n",
    "df_ckd_predictors = df_ckd_1.loc[:, df_ckd_1.columns != 'classification']"
   ]
  },
  {
   "cell_type": "code",
   "execution_count": 113,
   "metadata": {},
   "outputs": [],
   "source": [
    "# Creating the dataset for response\n",
    "df_ckd_response = df_ckd_1['classification']"
   ]
  },
  {
   "cell_type": "code",
   "execution_count": 114,
   "metadata": {},
   "outputs": [],
   "source": [
    "# 60% trainning and 40% testing\n",
    "X_train, X_test, y_train, y_test = train_test_split(df_ckd_predictors, df_ckd_response, test_size=0.4, random_state=9)"
   ]
  },
  {
   "cell_type": "markdown",
   "metadata": {},
   "source": [
    "# Downloading the training and testing dataset"
   ]
  },
  {
   "cell_type": "code",
   "execution_count": 115,
   "metadata": {},
   "outputs": [],
   "source": [
    "X_train.to_csv(\"X_train.csv\",index = False)"
   ]
  },
  {
   "cell_type": "code",
   "execution_count": 116,
   "metadata": {},
   "outputs": [],
   "source": [
    "X_test.to_csv(\"X_test.csv\",index = False)"
   ]
  },
  {
   "cell_type": "code",
   "execution_count": 117,
   "metadata": {},
   "outputs": [],
   "source": [
    "y_train.to_csv(\"y_train.csv\",index = False)"
   ]
  },
  {
   "cell_type": "code",
   "execution_count": 118,
   "metadata": {},
   "outputs": [],
   "source": [
    "y_test.to_csv(\"y_test.csv\",index = False)"
   ]
  },
  {
   "cell_type": "markdown",
   "metadata": {},
   "source": [
    "#################################################\n",
    "Model Comparison ######################################\n",
    "1. Logistic: Taylor, Rachel \n",
    "2. Nearest Neighbor: Peter, Juilan\n",
    "3. Random Forest: Gabby, "
   ]
  },
  {
   "cell_type": "markdown",
   "metadata": {},
   "source": [
    "To determine the performance of model\n",
    "1) Beat the naive rule \n",
    "2) validation hitrate and trainning hitrate within 3%"
   ]
  },
  {
   "cell_type": "markdown",
   "metadata": {},
   "source": [
    "# Naive Rule"
   ]
  },
  {
   "cell_type": "code",
   "execution_count": 119,
   "metadata": {},
   "outputs": [
    {
     "name": "stdout",
     "output_type": "stream",
     "text": [
      "Naive Rule:  60.81 %\n"
     ]
    }
   ],
   "source": [
    "naive_count = y_test.sum()\n",
    "naive_length = len(y_test)\n",
    "\n",
    "Naive_rule = naive_count/naive_length * 100\n",
    "print(\"Naive Rule: \", round(Naive_rule, 2) ,\"%\")"
   ]
  },
  {
   "cell_type": "markdown",
   "metadata": {},
   "source": [
    "# Metrics for measuring our model performance used in function"
   ]
  },
  {
   "cell_type": "code",
   "execution_count": 120,
   "metadata": {},
   "outputs": [],
   "source": [
    "# Hitrate: just pass in the confusion matrix of either validation data or training data\n",
    "def calcHR(conf):\n",
    "    hey=conf[0,0]\n",
    "    ho=conf[1,1]\n",
    "    result=(hey+ho)/conf.sum()*100\n",
    "    return result\n",
    "# False Positive: input confusion matrix to calculate the false positives in the data set. return a %\n",
    "def calcFP(conf):\n",
    "    result=(conf[0,1].astype('float'))/(conf[0,1].astype('float')+conf[1,1].astype('float')) * 100\n",
    "    return result\n",
    "# False Negative: input confusion matrix to calculate the false positives in the data set. returns a %\n",
    "def calcFN(conf):\n",
    "    result=(conf[1,0].astype('float'))/(conf[0,0].astype('float')+conf[1,0].astype('float')) * 100\n",
    "    return result\n",
    "# Sensitivity: input confusion matrix to calculate the false positives in the data set. returns a %\n",
    "def calcSens(conf):\n",
    "    result=(conf[1,1].astype('float'))/(conf[1,0].astype('float')+conf[1,1].astype('float')) * 100\n",
    "    return result\n",
    "# Specificity: input confusion matrix to calculate the false positives in the data set. returns a %\n",
    "def calcSpec(conf):\n",
    "    result=(conf[0,0].astype('float'))/(conf[0,0].astype('float')+conf[0,1].astype('float')) * 100\n",
    "    return result"
   ]
  },
  {
   "cell_type": "markdown",
   "metadata": {},
   "source": [
    "## Nearest Neighbor"
   ]
  },
  {
   "cell_type": "markdown",
   "metadata": {},
   "source": [
    "Use this website as reference: \n",
    "https://towardsdatascience.com/k-nearest-neighbor-python-2fccc47d2a55"
   ]
  },
  {
   "cell_type": "code",
   "execution_count": 121,
   "metadata": {},
   "outputs": [],
   "source": [
    "# Use K = 15\n",
    "# Classifier with Euclidean distance for determining the proximity between neighboring points\n",
    "\n",
    "knn = KNeighborsClassifier(n_neighbors=15, metric='euclidean')\n",
    "knn.fit(X_train, y_train)\n",
    "y_pred_validate = knn.predict(X_test)\n",
    "y_pred_train = knn.predict(X_train)"
   ]
  },
  {
   "cell_type": "code",
   "execution_count": 122,
   "metadata": {},
   "outputs": [],
   "source": [
    "# Confusion matrix\n",
    "\n",
    "confValid = confusion_matrix(y_test, y_pred_validate)\n",
    "confTrain = confusion_matrix(y_train, y_pred_train)"
   ]
  },
  {
   "cell_type": "code",
   "execution_count": 123,
   "metadata": {},
   "outputs": [
    {
     "name": "stdout",
     "output_type": "stream",
     "text": [
      "\u001b[1m Naive Rule: \u001b[0m 60.81%\n",
      "\u001b[1m Training hitrate: \u001b[0m71.49%\n",
      "\u001b[1m Validation hitrate: \u001b[0m64.19%\n",
      " \n",
      "\u001b[1m False Positives: \u001b[0m25.33%\n",
      "\u001b[1m False Negatives: \u001b[0m46.58%\n",
      " \n",
      "\u001b[1m Sensitivity: \u001b[0m62.22%\n",
      "\u001b[1m Specificity: \u001b[0m67.24%\n",
      " \n",
      "\u001b[1m 1 - Specficity: \u001b[0m32.76%\n"
     ]
    }
   ],
   "source": [
    "#Output Model Metrics\n",
    "print(\"\\033[1m Naive Rule: \\033[0m\", str(round(Naive_rule,2)) + \"%\")\n",
    "print(\"\\033[1m Training hitrate: \\033[0m\" + str(round(calcHR(confTrain),2)) + \"%\")\n",
    "print(\"\\033[1m Validation hitrate: \\033[0m\"+ str(round(calcHR(confValid),2)) + \"%\")\n",
    "print(\" \")\n",
    "print(\"\\033[1m False Positives: \\033[0m\"+ str(round(calcFP(confValid),2)) + \"%\")\n",
    "print(\"\\033[1m False Negatives: \\033[0m\"+ str(round(calcFN(confValid),2)) + \"%\")\n",
    "print(\" \")\n",
    "print(\"\\033[1m Sensitivity: \\033[0m\"+ str(round(calcSens(confValid),2)) + \"%\")\n",
    "print(\"\\033[1m Specificity: \\033[0m\"+ str(round(calcSpec(confValid),2)) + \"%\")\n",
    "print(\" \")\n",
    "print(\"\\033[1m 1 - Specficity: \\033[0m\"+ str(round(100-calcSpec(confValid),2)) + \"%\")"
   ]
  },
  {
   "cell_type": "markdown",
   "metadata": {},
   "source": [
    "Create a ROC curve"
   ]
  },
  {
   "cell_type": "code",
   "execution_count": 124,
   "metadata": {},
   "outputs": [
    {
     "name": "stdout",
     "output_type": "stream",
     "text": [
      "Naive Rule: ROC AUC=0.500\n",
      "NNA: ROC AUC=0.711\n"
     ]
    },
    {
     "data": {
      "image/png": "[encoded data removed]",
      "text/plain": [
       "<Figure size 432x288 with 1 Axes>"
      ]
     },
     "metadata": {},
     "output_type": "display_data"
    }
   ],
   "source": [
    "# generate a no skill prediction (majority class) or the Naive rule\n",
    "ns_probs = [0 for _ in range(len(y_test))]\n",
    "# predict probabilities\n",
    "lr_probs = knn.predict_proba(X_test)\n",
    "# keep probabilities for the positive outcome only\n",
    "lr_probs = lr_probs[:, 1]\n",
    "# calculate scores\n",
    "ns_auc = roc_auc_score(y_test, ns_probs)\n",
    "lr_auc = roc_auc_score(y_test, lr_probs)\n",
    "# summarize scores\n",
    "print('Naive Rule: ROC AUC=%.3f' % (ns_auc))\n",
    "print('NNA: ROC AUC=%.3f' % (lr_auc))\n",
    "# calculate roc curves\n",
    "ns_fpr, ns_tpr, _ = roc_curve(y_test, ns_probs)\n",
    "lr_fpr, lr_tpr, _ = roc_curve(y_test, lr_probs)\n",
    "# plot the roc curve for the model\n",
    "plt.plot(ns_fpr, ns_tpr, linestyle='--', label='Naive Rule')\n",
    "plt.plot(lr_fpr, lr_tpr, marker='.', label='Nearest Neighbor')\n",
    "\n",
    "# axis labels\n",
    "plt.xlabel('1 - Specficity')\n",
    "plt.ylabel('Sensitivity')\n",
    "# show the legend\n",
    "plt.legend()\n",
    "# show the plot\n",
    "plt.show()"
   ]
  },
  {
   "cell_type": "markdown",
   "metadata": {},
   "source": [
    "Varying different nearest neighbor number from 1 to 9\n",
    "\n",
    "\n",
    "Writing the for loop through different k "
   ]
  },
  {
   "cell_type": "code",
   "execution_count": 125,
   "metadata": {},
   "outputs": [],
   "source": [
    "# Setup arrays to store train and test accuracies\n",
    "dep = np.arange(1, 20,2)\n",
    "train_accuracy = np.empty(len(dep))\n",
    "test_accuracy = np.empty(len(dep))\n",
    "test_hitrate = np.empty(len(dep))\n",
    "test_false_pos = np.empty(len(dep))\n",
    "test_false_neg = np.empty(len(dep))\n",
    "test_sens = np.empty(len(dep))\n",
    "test_spec = np.empty(len(dep))\n",
    "test_one_minus_spec = np.empty(len(dep))\n"
   ]
  },
  {
   "cell_type": "code",
   "execution_count": 126,
   "metadata": {},
   "outputs": [
    {
     "data": {
      "image/png": "[encoded data removed]",
      "text/plain": [
       "<Figure size 432x288 with 1 Axes>"
      ]
     },
     "metadata": {},
     "output_type": "display_data"
    }
   ],
   "source": [
    "# Loop over different values of k\n",
    "for i, k in enumerate(dep):\n",
    "    # Setup a k-NN Classifier with k neighbors: knn\n",
    "    knn = KNeighborsClassifier(n_neighbors=k, metric='euclidean')\n",
    "\n",
    "\n",
    "    # Fit the classifier to the training data\n",
    "    knn.fit(X_train, y_train)\n",
    "    \n",
    "    #Compute accuracy on the training set\n",
    "    train_accuracy[i] = knn.score(X_train, y_train)\n",
    "\n",
    "    #Compute accuracy on the testing set\n",
    "    test_accuracy[i] = knn.score(X_test, y_test)\n",
    "    \n",
    "\n",
    "# Generate plot\n",
    "plt.title('Different k')\n",
    "plt.plot(dep, test_accuracy, label = 'Testing Accuracy')\n",
    "plt.plot(dep, train_accuracy, label = 'Training Accuracy')\n",
    "plt.legend()\n",
    "plt.xlabel('Different k values')\n",
    "plt.ylabel('Accuracy')\n",
    "plt.show()"
   ]
  },
  {
   "cell_type": "code",
   "execution_count": 127,
   "metadata": {},
   "outputs": [
    {
     "name": "stdout",
     "output_type": "stream",
     "text": [
      "[-1, 0, 1]\n"
     ]
    }
   ],
   "source": [
    "# Create a function to create a list\n",
    "def createList(r1, r2): \n",
    "    return [item for item in range(r1, r2+1)] \n",
    "      \n",
    "# testing it out:\n",
    "r1, r2 = -1, 1\n",
    "print(createList(r1, r2))"
   ]
  },
  {
   "cell_type": "code",
   "execution_count": 128,
   "metadata": {},
   "outputs": [],
   "source": [
    "#creating a hitrate chart\n",
    "NNA_hitrate_summary = pd.DataFrame(train_accuracy)\n",
    "NNA_hitrate_summary.rename(columns={0:'train_accuracy'},inplace = True)\n",
    "NNA_hitrate_summary['test_accuracy'] =test_accuracy\n",
    "NNA_hitrate_summary['Check_for_vaild'] = NNA_hitrate_summary['train_accuracy']-NNA_hitrate_summary['test_accuracy']\n",
    "NNA_hitrate_summary['k_value']=np.arange(1, 20,2)\n",
    "\n",
    "# Moving the last column to the front\n",
    "cols = NNA_hitrate_summary.columns.tolist()\n",
    "cols = cols[-1:] + cols[:-1]\n",
    "NNA_hitrate_summary = NNA_hitrate_summary[cols]"
   ]
  },
  {
   "cell_type": "code",
   "execution_count": 129,
   "metadata": {},
   "outputs": [
    {
     "data": {
      "text/html": [
       "<div>\n",
       "<style scoped>\n",
       "    .dataframe tbody tr th:only-of-type {\n",
       "        vertical-align: middle;\n",
       "    }\n",
       "\n",
       "    .dataframe tbody tr th {\n",
       "        vertical-align: top;\n",
       "    }\n",
       "\n",
       "    .dataframe thead th {\n",
       "        text-align: right;\n",
       "    }\n",
       "</style>\n",
       "<table border=\"1\" class=\"dataframe\">\n",
       "  <thead>\n",
       "    <tr style=\"text-align: right;\">\n",
       "      <th></th>\n",
       "      <th>k_value</th>\n",
       "      <th>train_accuracy</th>\n",
       "      <th>test_accuracy</th>\n",
       "      <th>Check_for_vaild</th>\n",
       "    </tr>\n",
       "  </thead>\n",
       "  <tbody>\n",
       "    <tr>\n",
       "      <th>0</th>\n",
       "      <td>1</td>\n",
       "      <td>1.000000</td>\n",
       "      <td>0.777027</td>\n",
       "      <td>0.222973</td>\n",
       "    </tr>\n",
       "    <tr>\n",
       "      <th>1</th>\n",
       "      <td>3</td>\n",
       "      <td>0.841629</td>\n",
       "      <td>0.722973</td>\n",
       "      <td>0.118656</td>\n",
       "    </tr>\n",
       "    <tr>\n",
       "      <th>2</th>\n",
       "      <td>5</td>\n",
       "      <td>0.787330</td>\n",
       "      <td>0.668919</td>\n",
       "      <td>0.118411</td>\n",
       "    </tr>\n",
       "    <tr>\n",
       "      <th>3</th>\n",
       "      <td>7</td>\n",
       "      <td>0.773756</td>\n",
       "      <td>0.682432</td>\n",
       "      <td>0.091323</td>\n",
       "    </tr>\n",
       "    <tr>\n",
       "      <th>4</th>\n",
       "      <td>9</td>\n",
       "      <td>0.764706</td>\n",
       "      <td>0.662162</td>\n",
       "      <td>0.102544</td>\n",
       "    </tr>\n",
       "    <tr>\n",
       "      <th>5</th>\n",
       "      <td>11</td>\n",
       "      <td>0.751131</td>\n",
       "      <td>0.655405</td>\n",
       "      <td>0.095726</td>\n",
       "    </tr>\n",
       "    <tr>\n",
       "      <th>6</th>\n",
       "      <td>13</td>\n",
       "      <td>0.710407</td>\n",
       "      <td>0.628378</td>\n",
       "      <td>0.082029</td>\n",
       "    </tr>\n",
       "    <tr>\n",
       "      <th>7</th>\n",
       "      <td>15</td>\n",
       "      <td>0.714932</td>\n",
       "      <td>0.641892</td>\n",
       "      <td>0.073040</td>\n",
       "    </tr>\n",
       "    <tr>\n",
       "      <th>8</th>\n",
       "      <td>17</td>\n",
       "      <td>0.719457</td>\n",
       "      <td>0.635135</td>\n",
       "      <td>0.084322</td>\n",
       "    </tr>\n",
       "    <tr>\n",
       "      <th>9</th>\n",
       "      <td>19</td>\n",
       "      <td>0.701357</td>\n",
       "      <td>0.628378</td>\n",
       "      <td>0.072979</td>\n",
       "    </tr>\n",
       "  </tbody>\n",
       "</table>\n",
       "</div>"
      ],
      "text/plain": [
       "   k_value  train_accuracy  test_accuracy  Check_for_vaild\n",
       "0        1        1.000000       0.777027         0.222973\n",
       "1        3        0.841629       0.722973         0.118656\n",
       "2        5        0.787330       0.668919         0.118411\n",
       "3        7        0.773756       0.682432         0.091323\n",
       "4        9        0.764706       0.662162         0.102544\n",
       "5       11        0.751131       0.655405         0.095726\n",
       "6       13        0.710407       0.628378         0.082029\n",
       "7       15        0.714932       0.641892         0.073040\n",
       "8       17        0.719457       0.635135         0.084322\n",
       "9       19        0.701357       0.628378         0.072979"
      ]
     },
     "execution_count": 129,
     "metadata": {},
     "output_type": "execute_result"
    }
   ],
   "source": [
    "NNA_hitrate_summary"
   ]
  },
  {
   "cell_type": "markdown",
   "metadata": {},
   "source": [
    "## Logistic Regression"
   ]
  },
  {
   "cell_type": "code",
   "execution_count": 130,
   "metadata": {},
   "outputs": [
    {
     "name": "stderr",
     "output_type": "stream",
     "text": [
      "C:\\Users\\iting\\anaconda3\\lib\\site-packages\\sklearn\\linear_model\\_logistic.py:940: ConvergenceWarning: lbfgs failed to converge (status=1):\n",
      "STOP: TOTAL NO. of ITERATIONS REACHED LIMIT.\n",
      "\n",
      "Increase the number of iterations (max_iter) or scale the data as shown in:\n",
      "    https://scikit-learn.org/stable/modules/preprocessing.html\n",
      "Please also refer to the documentation for alternative solver options:\n",
      "    https://scikit-learn.org/stable/modules/linear_model.html#logistic-regression\n",
      "  extra_warning_msg=_LOGISTIC_SOLVER_CONVERGENCE_MSG)\n"
     ]
    }
   ],
   "source": [
    "logreg = linear_model.LogisticRegression()\n",
    "logreg.fit(X_train,y_train)\n",
    "y_pred_validate1=logreg.predict(X_test)\n",
    "y_pred_train1 = logreg.predict(X_train)\n"
   ]
  },
  {
   "cell_type": "code",
   "execution_count": 131,
   "metadata": {},
   "outputs": [],
   "source": [
    "# Displaying Confusion_matrix\n",
    "confValid1 = confusion_matrix(y_test, y_pred_validate1)\n",
    "confTrain1 = confusion_matrix(y_train, y_pred_train1)"
   ]
  },
  {
   "cell_type": "code",
   "execution_count": 132,
   "metadata": {},
   "outputs": [
    {
     "name": "stdout",
     "output_type": "stream",
     "text": [
      "\u001b[1m Naive Rule: \u001b[0m 60.81%\n",
      "\u001b[1m Training hitrate: \u001b[0m92.76%\n",
      "\u001b[1m Validation hitrate: \u001b[0m92.57%\n",
      " \n",
      "\u001b[1m False Positives: \u001b[0m4.6%\n",
      "\u001b[1m False Negatives: \u001b[0m11.48%\n",
      " \n",
      "\u001b[1m Sensitivity: \u001b[0m92.22%\n",
      "\u001b[1m Specificity: \u001b[0m93.1%\n",
      " \n",
      "\u001b[1m 1 - Specficity: \u001b[0m6.9%\n"
     ]
    }
   ],
   "source": [
    "#Output Model Metrics\n",
    "print(\"\\033[1m Naive Rule: \\033[0m\", str(round(Naive_rule,2)) + \"%\")\n",
    "print(\"\\033[1m Training hitrate: \\033[0m\" + str(round(calcHR(confTrain1),2)) + \"%\")\n",
    "print(\"\\033[1m Validation hitrate: \\033[0m\"+ str(round(calcHR(confValid1),2)) + \"%\")\n",
    "print(\" \")\n",
    "print(\"\\033[1m False Positives: \\033[0m\"+ str(round(calcFP(confValid1),2)) + \"%\")\n",
    "print(\"\\033[1m False Negatives: \\033[0m\"+ str(round(calcFN(confValid1),2)) + \"%\")\n",
    "print(\" \")\n",
    "print(\"\\033[1m Sensitivity: \\033[0m\"+ str(round(calcSens(confValid1),2)) + \"%\")\n",
    "print(\"\\033[1m Specificity: \\033[0m\"+ str(round(calcSpec(confValid1),2)) + \"%\")\n",
    "print(\" \")\n",
    "print(\"\\033[1m 1 - Specficity: \\033[0m\"+ str(round(100-calcSpec(confValid1),2)) + \"%\")"
   ]
  },
  {
   "cell_type": "markdown",
   "metadata": {},
   "source": [
    "Logistic Model's ROC Curve"
   ]
  },
  {
   "cell_type": "code",
   "execution_count": 133,
   "metadata": {},
   "outputs": [
    {
     "name": "stdout",
     "output_type": "stream",
     "text": [
      "Naive Rule: AUROC = 0.500\n",
      "Logistic: AUROC = 0.977\n"
     ]
    },
    {
     "data": {
      "image/png": "[encoded data removed]",
      "text/plain": [
       "<Figure size 432x288 with 1 Axes>"
      ]
     },
     "metadata": {},
     "output_type": "display_data"
    }
   ],
   "source": [
    "r_probs = [0 for _ in range(len(y_test))]\n",
    "rf_probs = logreg.predict_proba(X_test)\n",
    "\n",
    "rf_probs = rf_probs[:, 1]\n",
    "\n",
    "r_auc = roc_auc_score(y_test, r_probs)\n",
    "rf_auc = roc_auc_score(y_test, rf_probs)\n",
    "\n",
    "print('Naive Rule: AUROC = %.3f' % (r_auc))\n",
    "print('Logistic: AUROC = %.3f' % (rf_auc))\n",
    "\n",
    "r_fpr, r_tpr, _ = roc_curve(y_test, r_probs)\n",
    "rf_fpr, rf_tpr, _ = roc_curve(y_test, rf_probs)\n",
    "\n",
    "plt.plot(r_fpr, r_tpr, linestyle='--', label='Naive Rule')\n",
    "plt.plot(rf_fpr, rf_tpr, marker='.', label='Logistic')\n",
    "plt.title('ROC Plot')\n",
    "plt.xlabel('1 - Specficity')\n",
    "plt.ylabel('Sensitivity')\n",
    "plt.legend() #\n",
    "plt.show()"
   ]
  },
  {
   "cell_type": "code",
   "execution_count": 134,
   "metadata": {},
   "outputs": [],
   "source": [
    "#develop odds ratio\n",
    "base = np.exp(logreg.intercept_).astype('float')\n",
    "model_odds = pd.DataFrame(df_ckd_predictors.columns)\n",
    "model_odds['odds-ratio'] = pd.DataFrame(np.exp(logreg.coef_ * 1 + logreg.intercept_)).transpose()/base\n",
    "model_odds.rename(columns={0:'predictors'},inplace = True)"
   ]
  },
  {
   "cell_type": "code",
   "execution_count": 135,
   "metadata": {},
   "outputs": [
    {
     "data": {
      "text/html": [
       "<div>\n",
       "<style scoped>\n",
       "    .dataframe tbody tr th:only-of-type {\n",
       "        vertical-align: middle;\n",
       "    }\n",
       "\n",
       "    .dataframe tbody tr th {\n",
       "        vertical-align: top;\n",
       "    }\n",
       "\n",
       "    .dataframe thead th {\n",
       "        text-align: right;\n",
       "    }\n",
       "</style>\n",
       "<table border=\"1\" class=\"dataframe\">\n",
       "  <thead>\n",
       "    <tr style=\"text-align: right;\">\n",
       "      <th></th>\n",
       "      <th>predictors</th>\n",
       "      <th>odds-ratio</th>\n",
       "    </tr>\n",
       "  </thead>\n",
       "  <tbody>\n",
       "    <tr>\n",
       "      <th>0</th>\n",
       "      <td>age</td>\n",
       "      <td>0.998406</td>\n",
       "    </tr>\n",
       "    <tr>\n",
       "      <th>1</th>\n",
       "      <td>bp</td>\n",
       "      <td>1.105774</td>\n",
       "    </tr>\n",
       "    <tr>\n",
       "      <th>2</th>\n",
       "      <td>bgr</td>\n",
       "      <td>1.056121</td>\n",
       "    </tr>\n",
       "    <tr>\n",
       "      <th>3</th>\n",
       "      <td>bu</td>\n",
       "      <td>1.009467</td>\n",
       "    </tr>\n",
       "    <tr>\n",
       "      <th>4</th>\n",
       "      <td>sc</td>\n",
       "      <td>1.135440</td>\n",
       "    </tr>\n",
       "    <tr>\n",
       "      <th>5</th>\n",
       "      <td>sod</td>\n",
       "      <td>1.049262</td>\n",
       "    </tr>\n",
       "    <tr>\n",
       "      <th>6</th>\n",
       "      <td>hemo</td>\n",
       "      <td>0.802711</td>\n",
       "    </tr>\n",
       "    <tr>\n",
       "      <th>7</th>\n",
       "      <td>pcv</td>\n",
       "      <td>0.614318</td>\n",
       "    </tr>\n",
       "    <tr>\n",
       "      <th>8</th>\n",
       "      <td>wc</td>\n",
       "      <td>1.000241</td>\n",
       "    </tr>\n",
       "    <tr>\n",
       "      <th>9</th>\n",
       "      <td>rc</td>\n",
       "      <td>0.936803</td>\n",
       "    </tr>\n",
       "    <tr>\n",
       "      <th>10</th>\n",
       "      <td>sg_1.01</td>\n",
       "      <td>1.020330</td>\n",
       "    </tr>\n",
       "    <tr>\n",
       "      <th>11</th>\n",
       "      <td>sg_1.015</td>\n",
       "      <td>1.037082</td>\n",
       "    </tr>\n",
       "    <tr>\n",
       "      <th>12</th>\n",
       "      <td>sg_1.02</td>\n",
       "      <td>0.976526</td>\n",
       "    </tr>\n",
       "    <tr>\n",
       "      <th>13</th>\n",
       "      <td>sg_1.025</td>\n",
       "      <td>0.966414</td>\n",
       "    </tr>\n",
       "    <tr>\n",
       "      <th>14</th>\n",
       "      <td>sg_1.020</td>\n",
       "      <td>1.001624</td>\n",
       "    </tr>\n",
       "    <tr>\n",
       "      <th>15</th>\n",
       "      <td>al_1.0</td>\n",
       "      <td>1.026677</td>\n",
       "    </tr>\n",
       "    <tr>\n",
       "      <th>16</th>\n",
       "      <td>al_2.0</td>\n",
       "      <td>1.006605</td>\n",
       "    </tr>\n",
       "    <tr>\n",
       "      <th>17</th>\n",
       "      <td>al_3.0</td>\n",
       "      <td>1.022310</td>\n",
       "    </tr>\n",
       "    <tr>\n",
       "      <th>18</th>\n",
       "      <td>al_4.0</td>\n",
       "      <td>1.007732</td>\n",
       "    </tr>\n",
       "    <tr>\n",
       "      <th>19</th>\n",
       "      <td>al_5.0</td>\n",
       "      <td>1.000027</td>\n",
       "    </tr>\n",
       "    <tr>\n",
       "      <th>20</th>\n",
       "      <td>su_1.0</td>\n",
       "      <td>1.000204</td>\n",
       "    </tr>\n",
       "    <tr>\n",
       "      <th>21</th>\n",
       "      <td>su_2.0</td>\n",
       "      <td>1.000757</td>\n",
       "    </tr>\n",
       "    <tr>\n",
       "      <th>22</th>\n",
       "      <td>su_3.0</td>\n",
       "      <td>1.000054</td>\n",
       "    </tr>\n",
       "    <tr>\n",
       "      <th>23</th>\n",
       "      <td>su_4.0</td>\n",
       "      <td>1.000662</td>\n",
       "    </tr>\n",
       "    <tr>\n",
       "      <th>24</th>\n",
       "      <td>su_5.0</td>\n",
       "      <td>1.000080</td>\n",
       "    </tr>\n",
       "    <tr>\n",
       "      <th>25</th>\n",
       "      <td>rbc</td>\n",
       "      <td>1.024289</td>\n",
       "    </tr>\n",
       "    <tr>\n",
       "      <th>26</th>\n",
       "      <td>pc</td>\n",
       "      <td>1.013315</td>\n",
       "    </tr>\n",
       "    <tr>\n",
       "      <th>27</th>\n",
       "      <td>pcc</td>\n",
       "      <td>1.007987</td>\n",
       "    </tr>\n",
       "    <tr>\n",
       "      <th>28</th>\n",
       "      <td>ba</td>\n",
       "      <td>1.005613</td>\n",
       "    </tr>\n",
       "    <tr>\n",
       "      <th>29</th>\n",
       "      <td>htn</td>\n",
       "      <td>1.026252</td>\n",
       "    </tr>\n",
       "    <tr>\n",
       "      <th>30</th>\n",
       "      <td>dm</td>\n",
       "      <td>1.025289</td>\n",
       "    </tr>\n",
       "    <tr>\n",
       "      <th>31</th>\n",
       "      <td>cad</td>\n",
       "      <td>1.002902</td>\n",
       "    </tr>\n",
       "    <tr>\n",
       "      <th>32</th>\n",
       "      <td>appet</td>\n",
       "      <td>0.981176</td>\n",
       "    </tr>\n",
       "    <tr>\n",
       "      <th>33</th>\n",
       "      <td>pe</td>\n",
       "      <td>1.030267</td>\n",
       "    </tr>\n",
       "    <tr>\n",
       "      <th>34</th>\n",
       "      <td>ane</td>\n",
       "      <td>1.007786</td>\n",
       "    </tr>\n",
       "  </tbody>\n",
       "</table>\n",
       "</div>"
      ],
      "text/plain": [
       "   predictors  odds-ratio\n",
       "0         age    0.998406\n",
       "1          bp    1.105774\n",
       "2         bgr    1.056121\n",
       "3          bu    1.009467\n",
       "4          sc    1.135440\n",
       "5         sod    1.049262\n",
       "6        hemo    0.802711\n",
       "7         pcv    0.614318\n",
       "8          wc    1.000241\n",
       "9          rc    0.936803\n",
       "10    sg_1.01    1.020330\n",
       "11   sg_1.015    1.037082\n",
       "12    sg_1.02    0.976526\n",
       "13   sg_1.025    0.966414\n",
       "14   sg_1.020    1.001624\n",
       "15     al_1.0    1.026677\n",
       "16     al_2.0    1.006605\n",
       "17     al_3.0    1.022310\n",
       "18     al_4.0    1.007732\n",
       "19     al_5.0    1.000027\n",
       "20     su_1.0    1.000204\n",
       "21     su_2.0    1.000757\n",
       "22     su_3.0    1.000054\n",
       "23     su_4.0    1.000662\n",
       "24     su_5.0    1.000080\n",
       "25        rbc    1.024289\n",
       "26         pc    1.013315\n",
       "27        pcc    1.007987\n",
       "28         ba    1.005613\n",
       "29        htn    1.026252\n",
       "30         dm    1.025289\n",
       "31        cad    1.002902\n",
       "32      appet    0.981176\n",
       "33         pe    1.030267\n",
       "34        ane    1.007786"
      ]
     },
     "execution_count": 135,
     "metadata": {},
     "output_type": "execute_result"
    }
   ],
   "source": [
    "model_odds"
   ]
  },
  {
   "cell_type": "markdown",
   "metadata": {},
   "source": [
    "## Random Forest"
   ]
  },
  {
   "cell_type": "code",
   "execution_count": 136,
   "metadata": {},
   "outputs": [],
   "source": [
    "model = RandomForestClassifier(n_estimators=100, max_depth=5, bootstrap=True)\n",
    "model.fit(X_train, y_train.values.ravel())\n",
    "y_pred_validate2=model.predict(X_test)\n",
    "y_pred_train2 = model.predict(X_train)\n"
   ]
  },
  {
   "cell_type": "markdown",
   "metadata": {},
   "source": [
    "Finding the most important variables."
   ]
  },
  {
   "cell_type": "code",
   "execution_count": 137,
   "metadata": {},
   "outputs": [
    {
     "data": {
      "image/png": "[encoded data removed]",
      "text/plain": [
       "<Figure size 864x504 with 1 Axes>"
      ]
     },
     "metadata": {},
     "output_type": "display_data"
    }
   ],
   "source": [
    "fi = pd.DataFrame({'feature': list(X_train.columns),\n",
    "'importance': model.feature_importances_}).\\\n",
    "sort_values('importance', ascending = False)\n",
    "fi.head()\n",
    "\n",
    "def plot_fi(fi):\n",
    "    return fi.plot('feature','importance','barh', figsize=(12,7), legend=False)\n",
    "\n",
    "# fi[:15] label the number of variable cutoff\n",
    "plot_fi(fi[:15]);"
   ]
  },
  {
   "cell_type": "code",
   "execution_count": 138,
   "metadata": {},
   "outputs": [],
   "source": [
    "# Displaying Confusion_matrix\n",
    "confValid2 = confusion_matrix(y_test, y_pred_validate2)\n",
    "confTrain2 = confusion_matrix(y_train, y_pred_train2)"
   ]
  },
  {
   "cell_type": "code",
   "execution_count": 139,
   "metadata": {},
   "outputs": [
    {
     "data": {
      "text/plain": [
       "array([[55,  3],\n",
       "       [ 2, 88]], dtype=int64)"
      ]
     },
     "execution_count": 139,
     "metadata": {},
     "output_type": "execute_result"
    }
   ],
   "source": [
    "confValid2"
   ]
  },
  {
   "cell_type": "code",
   "execution_count": 140,
   "metadata": {},
   "outputs": [
    {
     "name": "stdout",
     "output_type": "stream",
     "text": [
      "\u001b[1m Naive Rule: \u001b[0m 60.81%\n",
      "\u001b[1m Training hitrate: \u001b[0m100.0%\n",
      "\u001b[1m Validation hitrate: \u001b[0m96.62%\n",
      " \n",
      "\u001b[1m False Positives: \u001b[0m3.3%\n",
      "\u001b[1m False Negatives: \u001b[0m3.51%\n",
      " \n",
      "\u001b[1m Sensitivity: \u001b[0m97.78%\n",
      "\u001b[1m Specificity: \u001b[0m94.83%\n",
      " \n",
      "\u001b[1m 1 - Specficity: \u001b[0m5.17%\n"
     ]
    }
   ],
   "source": [
    "#Output Model Metrics\n",
    "print(\"\\033[1m Naive Rule: \\033[0m\", str(round(Naive_rule,2)) + \"%\")\n",
    "print(\"\\033[1m Training hitrate: \\033[0m\" + str(round(calcHR(confTrain2),2)) + \"%\")\n",
    "print(\"\\033[1m Validation hitrate: \\033[0m\"+ str(round(calcHR(confValid2),2)) + \"%\")\n",
    "print(\" \")\n",
    "print(\"\\033[1m False Positives: \\033[0m\"+ str(round(calcFP(confValid2),2)) + \"%\")\n",
    "print(\"\\033[1m False Negatives: \\033[0m\"+ str(round(calcFN(confValid2),2)) + \"%\")\n",
    "print(\" \")\n",
    "print(\"\\033[1m Sensitivity: \\033[0m\"+ str(round(calcSens(confValid2),2)) + \"%\")\n",
    "print(\"\\033[1m Specificity: \\033[0m\"+ str(round(calcSpec(confValid2),2)) + \"%\")\n",
    "print(\" \")\n",
    "print(\"\\033[1m 1 - Specficity: \\033[0m\"+ str(round(100-calcSpec(confValid2),2)) + \"%\")"
   ]
  },
  {
   "cell_type": "markdown",
   "metadata": {},
   "source": [
    "Creating an ROC Curve"
   ]
  },
  {
   "cell_type": "code",
   "execution_count": 141,
   "metadata": {},
   "outputs": [
    {
     "name": "stdout",
     "output_type": "stream",
     "text": [
      "Naive Rule: AUROC = 0.500\n",
      "Random Forest: AUROC = 0.999\n"
     ]
    },
    {
     "data": {
      "image/png": "[encoded data removed]",
      "text/plain": [
       "<Figure size 432x288 with 1 Axes>"
      ]
     },
     "metadata": {},
     "output_type": "display_data"
    }
   ],
   "source": [
    "r_probs = [0 for _ in range(len(y_test))]\n",
    "rf_probs = model.predict_proba(X_test)\n",
    "\n",
    "rf_probs = rf_probs[:, 1]\n",
    "\n",
    "r_auc = roc_auc_score(y_test, r_probs)\n",
    "rf_auc = roc_auc_score(y_test, rf_probs)\n",
    "\n",
    "print('Naive Rule: AUROC = %.3f' % (r_auc))\n",
    "print('Random Forest: AUROC = %.3f' % (rf_auc))\n",
    "\n",
    "r_fpr, r_tpr, _ = roc_curve(y_test, r_probs)\n",
    "rf_fpr, rf_tpr, _ = roc_curve(y_test, rf_probs)\n",
    "\n",
    "plt.plot(r_fpr, r_tpr, linestyle='--', label='Naive Rule')\n",
    "plt.plot(rf_fpr, rf_tpr, marker='.', label='Random Forest')\n",
    "plt.title('ROC Plot')\n",
    "plt.xlabel('1 - Specficity')\n",
    "plt.ylabel('Sensitivity')\n",
    "plt.legend() #\n",
    "plt.show()"
   ]
  },
  {
   "cell_type": "markdown",
   "metadata": {},
   "source": [
    "Fine tuning the Random forest\n",
    "Varying the branches of the randomforest"
   ]
  },
  {
   "cell_type": "code",
   "execution_count": 142,
   "metadata": {},
   "outputs": [
    {
     "data": {
      "image/png": "[encoded data removed]",
      "text/plain": [
       "<Figure size 432x288 with 1 Axes>"
      ]
     },
     "metadata": {},
     "output_type": "display_data"
    }
   ],
   "source": [
    "dep = np.arange(1, 20)\n",
    "train_accuracy = np.empty(len(dep))\n",
    "test_accuracy = np.empty(len(dep))\n",
    "\n",
    "for i, k in enumerate(dep):\n",
    "    clf = RandomForestClassifier(max_depth=k)\n",
    "\n",
    "    clf.fit(X_train, y_train.values.ravel())\n",
    "\n",
    "    train_accuracy[i] = clf.score(X_train, y_train)\n",
    "\n",
    "    test_accuracy[i] = clf.score(X_test, y_test)\n",
    "\n",
    "plt.title('clf: Varying depth of forest branch')\n",
    "plt.plot(dep, test_accuracy, label = 'Testing Accuracy')\n",
    "plt.plot(dep, train_accuracy, label = 'Training Accuracy')\n",
    "plt.legend()\n",
    "plt.xlabel('Depth of tree')\n",
    "plt.ylabel('Accuracy')\n",
    "plt.show()"
   ]
  },
  {
   "cell_type": "code",
   "execution_count": 143,
   "metadata": {},
   "outputs": [],
   "source": [
    "RF_hitrate_summary = pd.DataFrame(train_accuracy)\n",
    "RF_hitrate_summary.rename(columns={0:'train_accuracy'},inplace = True)\n",
    "RF_hitrate_summary['test_accuracy'] =test_accuracy\n",
    "RF_hitrate_summary['Check_for_vaild'] = RF_hitrate_summary['train_accuracy']-RF_hitrate_summary['test_accuracy']\n",
    "RF_hitrate_summary['Depth of tree']=createList(1, 19)\n",
    "\n",
    "# Moving the last column to the front\n",
    "cols = RF_hitrate_summary.columns.tolist()\n",
    "cols = cols[-1:] + cols[:-1]\n",
    "RF_hitrate_summary = RF_hitrate_summary[cols]"
   ]
  },
  {
   "cell_type": "code",
   "execution_count": 144,
   "metadata": {},
   "outputs": [
    {
     "data": {
      "text/html": [
       "<div>\n",
       "<style scoped>\n",
       "    .dataframe tbody tr th:only-of-type {\n",
       "        vertical-align: middle;\n",
       "    }\n",
       "\n",
       "    .dataframe tbody tr th {\n",
       "        vertical-align: top;\n",
       "    }\n",
       "\n",
       "    .dataframe thead th {\n",
       "        text-align: right;\n",
       "    }\n",
       "</style>\n",
       "<table border=\"1\" class=\"dataframe\">\n",
       "  <thead>\n",
       "    <tr style=\"text-align: right;\">\n",
       "      <th></th>\n",
       "      <th>Depth of tree</th>\n",
       "      <th>train_accuracy</th>\n",
       "      <th>test_accuracy</th>\n",
       "      <th>Check_for_vaild</th>\n",
       "    </tr>\n",
       "  </thead>\n",
       "  <tbody>\n",
       "    <tr>\n",
       "      <th>0</th>\n",
       "      <td>1</td>\n",
       "      <td>0.932127</td>\n",
       "      <td>0.959459</td>\n",
       "      <td>-0.027333</td>\n",
       "    </tr>\n",
       "    <tr>\n",
       "      <th>1</th>\n",
       "      <td>2</td>\n",
       "      <td>0.963801</td>\n",
       "      <td>0.972973</td>\n",
       "      <td>-0.009172</td>\n",
       "    </tr>\n",
       "    <tr>\n",
       "      <th>2</th>\n",
       "      <td>3</td>\n",
       "      <td>0.986425</td>\n",
       "      <td>0.979730</td>\n",
       "      <td>0.006696</td>\n",
       "    </tr>\n",
       "    <tr>\n",
       "      <th>3</th>\n",
       "      <td>4</td>\n",
       "      <td>1.000000</td>\n",
       "      <td>0.979730</td>\n",
       "      <td>0.020270</td>\n",
       "    </tr>\n",
       "    <tr>\n",
       "      <th>4</th>\n",
       "      <td>5</td>\n",
       "      <td>1.000000</td>\n",
       "      <td>0.986486</td>\n",
       "      <td>0.013514</td>\n",
       "    </tr>\n",
       "    <tr>\n",
       "      <th>5</th>\n",
       "      <td>6</td>\n",
       "      <td>1.000000</td>\n",
       "      <td>0.986486</td>\n",
       "      <td>0.013514</td>\n",
       "    </tr>\n",
       "    <tr>\n",
       "      <th>6</th>\n",
       "      <td>7</td>\n",
       "      <td>1.000000</td>\n",
       "      <td>0.986486</td>\n",
       "      <td>0.013514</td>\n",
       "    </tr>\n",
       "    <tr>\n",
       "      <th>7</th>\n",
       "      <td>8</td>\n",
       "      <td>1.000000</td>\n",
       "      <td>0.979730</td>\n",
       "      <td>0.020270</td>\n",
       "    </tr>\n",
       "    <tr>\n",
       "      <th>8</th>\n",
       "      <td>9</td>\n",
       "      <td>1.000000</td>\n",
       "      <td>0.979730</td>\n",
       "      <td>0.020270</td>\n",
       "    </tr>\n",
       "    <tr>\n",
       "      <th>9</th>\n",
       "      <td>10</td>\n",
       "      <td>1.000000</td>\n",
       "      <td>0.972973</td>\n",
       "      <td>0.027027</td>\n",
       "    </tr>\n",
       "    <tr>\n",
       "      <th>10</th>\n",
       "      <td>11</td>\n",
       "      <td>1.000000</td>\n",
       "      <td>0.979730</td>\n",
       "      <td>0.020270</td>\n",
       "    </tr>\n",
       "    <tr>\n",
       "      <th>11</th>\n",
       "      <td>12</td>\n",
       "      <td>1.000000</td>\n",
       "      <td>0.979730</td>\n",
       "      <td>0.020270</td>\n",
       "    </tr>\n",
       "    <tr>\n",
       "      <th>12</th>\n",
       "      <td>13</td>\n",
       "      <td>1.000000</td>\n",
       "      <td>0.979730</td>\n",
       "      <td>0.020270</td>\n",
       "    </tr>\n",
       "    <tr>\n",
       "      <th>13</th>\n",
       "      <td>14</td>\n",
       "      <td>1.000000</td>\n",
       "      <td>0.979730</td>\n",
       "      <td>0.020270</td>\n",
       "    </tr>\n",
       "    <tr>\n",
       "      <th>14</th>\n",
       "      <td>15</td>\n",
       "      <td>1.000000</td>\n",
       "      <td>0.986486</td>\n",
       "      <td>0.013514</td>\n",
       "    </tr>\n",
       "    <tr>\n",
       "      <th>15</th>\n",
       "      <td>16</td>\n",
       "      <td>1.000000</td>\n",
       "      <td>0.986486</td>\n",
       "      <td>0.013514</td>\n",
       "    </tr>\n",
       "    <tr>\n",
       "      <th>16</th>\n",
       "      <td>17</td>\n",
       "      <td>1.000000</td>\n",
       "      <td>0.986486</td>\n",
       "      <td>0.013514</td>\n",
       "    </tr>\n",
       "    <tr>\n",
       "      <th>17</th>\n",
       "      <td>18</td>\n",
       "      <td>1.000000</td>\n",
       "      <td>0.986486</td>\n",
       "      <td>0.013514</td>\n",
       "    </tr>\n",
       "    <tr>\n",
       "      <th>18</th>\n",
       "      <td>19</td>\n",
       "      <td>1.000000</td>\n",
       "      <td>0.979730</td>\n",
       "      <td>0.020270</td>\n",
       "    </tr>\n",
       "  </tbody>\n",
       "</table>\n",
       "</div>"
      ],
      "text/plain": [
       "    Depth of tree  train_accuracy  test_accuracy  Check_for_vaild\n",
       "0               1        0.932127       0.959459        -0.027333\n",
       "1               2        0.963801       0.972973        -0.009172\n",
       "2               3        0.986425       0.979730         0.006696\n",
       "3               4        1.000000       0.979730         0.020270\n",
       "4               5        1.000000       0.986486         0.013514\n",
       "5               6        1.000000       0.986486         0.013514\n",
       "6               7        1.000000       0.986486         0.013514\n",
       "7               8        1.000000       0.979730         0.020270\n",
       "8               9        1.000000       0.979730         0.020270\n",
       "9              10        1.000000       0.972973         0.027027\n",
       "10             11        1.000000       0.979730         0.020270\n",
       "11             12        1.000000       0.979730         0.020270\n",
       "12             13        1.000000       0.979730         0.020270\n",
       "13             14        1.000000       0.979730         0.020270\n",
       "14             15        1.000000       0.986486         0.013514\n",
       "15             16        1.000000       0.986486         0.013514\n",
       "16             17        1.000000       0.986486         0.013514\n",
       "17             18        1.000000       0.986486         0.013514\n",
       "18             19        1.000000       0.979730         0.020270"
      ]
     },
     "execution_count": 144,
     "metadata": {},
     "output_type": "execute_result"
    }
   ],
   "source": [
    "RF_hitrate_summary"
   ]
  },
  {
   "cell_type": "markdown",
   "metadata": {},
   "source": [
    "## Model Improvement\n",
    "* Use the important variable identified from Random Forest\n",
    "* hemo, pcv, sc, rc"
   ]
  },
  {
   "cell_type": "code",
   "execution_count": 145,
   "metadata": {},
   "outputs": [],
   "source": [
    "df_ckd_response = df_ckd_1['classification']\n",
    "features=['hemo','pcv','sc','rc']\n",
    "df_ckd_predictors = df_ckd_1[features]\n",
    "X_train, X_test, y_train, y_test = train_test_split(df_ckd_predictors, df_ckd_response, test_size=0.4, random_state=9)"
   ]
  },
  {
   "cell_type": "markdown",
   "metadata": {},
   "source": [
    "K-NN"
   ]
  },
  {
   "cell_type": "code",
   "execution_count": 146,
   "metadata": {},
   "outputs": [
    {
     "data": {
      "image/png": "[encoded data removed]",
      "text/plain": [
       "<Figure size 432x288 with 1 Axes>"
      ]
     },
     "metadata": {},
     "output_type": "display_data"
    }
   ],
   "source": [
    "# Setup arrays to store train and test accuracies\n",
    "dep = np.arange(1, 20, 2)\n",
    "train_accuracy = np.empty(len(dep))\n",
    "test_accuracy = np.empty(len(dep))\n",
    "test_hitrate = np.empty(len(dep))\n",
    "test_false_pos = np.empty(len(dep))\n",
    "test_false_neg = np.empty(len(dep))\n",
    "test_sens = np.empty(len(dep))\n",
    "test_spec = np.empty(len(dep))\n",
    "test_one_minus_spec = np.empty(len(dep))\n",
    "# Loop over different values of k\n",
    "for i, k in enumerate(dep):\n",
    "    # Setup a k-NN Classifier with k neighbors: knn\n",
    "    knn = KNeighborsClassifier(n_neighbors=k, metric='euclidean')\n",
    "\n",
    "\n",
    "    # Fit the classifier to the training data\n",
    "    knn.fit(X_train, y_train)\n",
    "    \n",
    "    #Compute accuracy on the training set\n",
    "    train_accuracy[i] = knn.score(X_train, y_train)\n",
    "\n",
    "    #Compute accuracy on the testing set\n",
    "    test_accuracy[i] = knn.score(X_test, y_test)\n",
    "\n",
    "\n",
    "# Generate plot\n",
    "plt.title('Different k')\n",
    "plt.plot(dep, test_accuracy, label = 'Testing Accuracy')\n",
    "plt.plot(dep, train_accuracy, label = 'Training Accuracy')\n",
    "plt.legend()\n",
    "plt.xlabel('Different k values')\n",
    "plt.ylabel('Accuracy')\n",
    "plt.show()"
   ]
  },
  {
   "cell_type": "code",
   "execution_count": 147,
   "metadata": {},
   "outputs": [],
   "source": [
    "NNA_hitrate_summary = pd.DataFrame(train_accuracy)\n",
    "NNA_hitrate_summary.rename(columns={0:'train_accuracy'},inplace = True)\n",
    "NNA_hitrate_summary['test_accuracy'] =test_accuracy\n",
    "NNA_hitrate_summary['Check_for_vaild'] = NNA_hitrate_summary['train_accuracy']-NNA_hitrate_summary['test_accuracy']\n",
    "NNA_hitrate_summary['k_value']=np.arange(1, 20, 2)\n",
    "\n",
    "# Moving the last column to the front\n",
    "cols = NNA_hitrate_summary.columns.tolist()\n",
    "cols = cols[-1:] + cols[:-1]\n",
    "NNA_hitrate_summary = NNA_hitrate_summary[cols]"
   ]
  },
  {
   "cell_type": "code",
   "execution_count": 148,
   "metadata": {},
   "outputs": [
    {
     "data": {
      "text/html": [
       "<div>\n",
       "<style scoped>\n",
       "    .dataframe tbody tr th:only-of-type {\n",
       "        vertical-align: middle;\n",
       "    }\n",
       "\n",
       "    .dataframe tbody tr th {\n",
       "        vertical-align: top;\n",
       "    }\n",
       "\n",
       "    .dataframe thead th {\n",
       "        text-align: right;\n",
       "    }\n",
       "</style>\n",
       "<table border=\"1\" class=\"dataframe\">\n",
       "  <thead>\n",
       "    <tr style=\"text-align: right;\">\n",
       "      <th></th>\n",
       "      <th>k_value</th>\n",
       "      <th>train_accuracy</th>\n",
       "      <th>test_accuracy</th>\n",
       "      <th>Check_for_vaild</th>\n",
       "    </tr>\n",
       "  </thead>\n",
       "  <tbody>\n",
       "    <tr>\n",
       "      <th>0</th>\n",
       "      <td>1</td>\n",
       "      <td>0.986425</td>\n",
       "      <td>0.905405</td>\n",
       "      <td>0.081020</td>\n",
       "    </tr>\n",
       "    <tr>\n",
       "      <th>1</th>\n",
       "      <td>3</td>\n",
       "      <td>0.954751</td>\n",
       "      <td>0.925676</td>\n",
       "      <td>0.029075</td>\n",
       "    </tr>\n",
       "    <tr>\n",
       "      <th>2</th>\n",
       "      <td>5</td>\n",
       "      <td>0.932127</td>\n",
       "      <td>0.939189</td>\n",
       "      <td>-0.007062</td>\n",
       "    </tr>\n",
       "    <tr>\n",
       "      <th>3</th>\n",
       "      <td>7</td>\n",
       "      <td>0.932127</td>\n",
       "      <td>0.945946</td>\n",
       "      <td>-0.013819</td>\n",
       "    </tr>\n",
       "    <tr>\n",
       "      <th>4</th>\n",
       "      <td>9</td>\n",
       "      <td>0.932127</td>\n",
       "      <td>0.952703</td>\n",
       "      <td>-0.020576</td>\n",
       "    </tr>\n",
       "    <tr>\n",
       "      <th>5</th>\n",
       "      <td>11</td>\n",
       "      <td>0.932127</td>\n",
       "      <td>0.952703</td>\n",
       "      <td>-0.020576</td>\n",
       "    </tr>\n",
       "    <tr>\n",
       "      <th>6</th>\n",
       "      <td>13</td>\n",
       "      <td>0.936652</td>\n",
       "      <td>0.945946</td>\n",
       "      <td>-0.009294</td>\n",
       "    </tr>\n",
       "    <tr>\n",
       "      <th>7</th>\n",
       "      <td>15</td>\n",
       "      <td>0.936652</td>\n",
       "      <td>0.945946</td>\n",
       "      <td>-0.009294</td>\n",
       "    </tr>\n",
       "    <tr>\n",
       "      <th>8</th>\n",
       "      <td>17</td>\n",
       "      <td>0.936652</td>\n",
       "      <td>0.945946</td>\n",
       "      <td>-0.009294</td>\n",
       "    </tr>\n",
       "    <tr>\n",
       "      <th>9</th>\n",
       "      <td>19</td>\n",
       "      <td>0.941176</td>\n",
       "      <td>0.945946</td>\n",
       "      <td>-0.004769</td>\n",
       "    </tr>\n",
       "  </tbody>\n",
       "</table>\n",
       "</div>"
      ],
      "text/plain": [
       "   k_value  train_accuracy  test_accuracy  Check_for_vaild\n",
       "0        1        0.986425       0.905405         0.081020\n",
       "1        3        0.954751       0.925676         0.029075\n",
       "2        5        0.932127       0.939189        -0.007062\n",
       "3        7        0.932127       0.945946        -0.013819\n",
       "4        9        0.932127       0.952703        -0.020576\n",
       "5       11        0.932127       0.952703        -0.020576\n",
       "6       13        0.936652       0.945946        -0.009294\n",
       "7       15        0.936652       0.945946        -0.009294\n",
       "8       17        0.936652       0.945946        -0.009294\n",
       "9       19        0.941176       0.945946        -0.004769"
      ]
     },
     "execution_count": 148,
     "metadata": {},
     "output_type": "execute_result"
    }
   ],
   "source": [
    "NNA_hitrate_summary"
   ]
  },
  {
   "cell_type": "code",
   "execution_count": 149,
   "metadata": {},
   "outputs": [],
   "source": [
    "# Use K = 3\n",
    "# Classifier with Euclidean distance for determining the proximity between neighboring points\n",
    "\n",
    "knn = KNeighborsClassifier(n_neighbors=3, metric='euclidean')\n",
    "knn.fit(X_train, y_train)\n",
    "y_pred_validate = knn.predict(X_test)\n",
    "y_pred_train = knn.predict(X_train)"
   ]
  },
  {
   "cell_type": "code",
   "execution_count": 150,
   "metadata": {},
   "outputs": [],
   "source": [
    "# Confusion matrix\n",
    "\n",
    "confValid = confusion_matrix(y_test, y_pred_validate)\n",
    "confTrain = confusion_matrix(y_train, y_pred_train)"
   ]
  },
  {
   "cell_type": "code",
   "execution_count": 151,
   "metadata": {},
   "outputs": [
    {
     "name": "stdout",
     "output_type": "stream",
     "text": [
      "\u001b[1m Naive Rule: \u001b[0m 60.81%\n",
      "\u001b[1m Training hitrate: \u001b[0m95.48%\n",
      "\u001b[1m Validation hitrate: \u001b[0m92.57%\n",
      " \n",
      "\u001b[1m False Positives: \u001b[0m3.53%\n",
      "\u001b[1m False Negatives: \u001b[0m12.7%\n",
      " \n",
      "\u001b[1m Sensitivity: \u001b[0m91.11%\n",
      "\u001b[1m Specificity: \u001b[0m94.83%\n",
      " \n",
      "\u001b[1m 1 - Specficity: \u001b[0m5.17%\n"
     ]
    }
   ],
   "source": [
    "#Output Model Metrics\n",
    "print(\"\\033[1m Naive Rule: \\033[0m\", str(round(Naive_rule,2)) + \"%\")\n",
    "print(\"\\033[1m Training hitrate: \\033[0m\" + str(round(calcHR(confTrain),2)) + \"%\")\n",
    "print(\"\\033[1m Validation hitrate: \\033[0m\"+ str(round(calcHR(confValid),2)) + \"%\")\n",
    "print(\" \")\n",
    "print(\"\\033[1m False Positives: \\033[0m\"+ str(round(calcFP(confValid),2)) + \"%\")\n",
    "print(\"\\033[1m False Negatives: \\033[0m\"+ str(round(calcFN(confValid),2)) + \"%\")\n",
    "print(\" \")\n",
    "print(\"\\033[1m Sensitivity: \\033[0m\"+ str(round(calcSens(confValid),2)) + \"%\")\n",
    "print(\"\\033[1m Specificity: \\033[0m\"+ str(round(calcSpec(confValid),2)) + \"%\")\n",
    "print(\" \")\n",
    "print(\"\\033[1m 1 - Specficity: \\033[0m\"+ str(round(100-calcSpec(confValid),2)) + \"%\")"
   ]
  },
  {
   "cell_type": "code",
   "execution_count": 152,
   "metadata": {},
   "outputs": [
    {
     "name": "stdout",
     "output_type": "stream",
     "text": [
      "Naive Rule: ROC AUC=0.500\n",
      "NNA: ROC AUC=0.969\n"
     ]
    },
    {
     "data": {
      "image/png": "[encoded data removed]",
      "text/plain": [
       "<Figure size 432x288 with 1 Axes>"
      ]
     },
     "metadata": {},
     "output_type": "display_data"
    }
   ],
   "source": [
    "# generate a no skill prediction (majority class) or the Naive rule\n",
    "ns_probs = [0 for _ in range(len(y_test))]\n",
    "# predict probabilities\n",
    "lr_probs = knn.predict_proba(X_test)\n",
    "# keep probabilities for the positive outcome only\n",
    "lr_probs = lr_probs[:, 1]\n",
    "# calculate scores\n",
    "ns_auc = roc_auc_score(y_test, ns_probs)\n",
    "lr_auc = roc_auc_score(y_test, lr_probs)\n",
    "# summarize scores\n",
    "print('Naive Rule: ROC AUC=%.3f' % (ns_auc))\n",
    "print('NNA: ROC AUC=%.3f' % (lr_auc))\n",
    "# calculate roc curves\n",
    "ns_fpr, ns_tpr, _ = roc_curve(y_test, ns_probs)\n",
    "lr_fpr, lr_tpr, _ = roc_curve(y_test, lr_probs)\n",
    "# plot the roc curve for the model\n",
    "plt.plot(ns_fpr, ns_tpr, linestyle='--', label='Naive Rule')\n",
    "plt.plot(lr_fpr, lr_tpr, marker='.', label='Nearest Neighbor')\n",
    "\n",
    "# axis labels\n",
    "plt.xlabel('1 - Specficity')\n",
    "plt.ylabel('Sensitivity')\n",
    "# show the legend\n",
    "plt.legend()\n",
    "# show the plot\n",
    "plt.show()"
   ]
  },
  {
   "cell_type": "markdown",
   "metadata": {},
   "source": [
    "Logistic Regression"
   ]
  },
  {
   "cell_type": "code",
   "execution_count": 153,
   "metadata": {},
   "outputs": [],
   "source": [
    "logreg = linear_model.LogisticRegression()\n",
    "logreg.fit(X_train,y_train)\n",
    "y_pred_validate1=logreg.predict(X_test)\n",
    "y_pred_train1 = logreg.predict(X_train)\n"
   ]
  },
  {
   "cell_type": "code",
   "execution_count": 154,
   "metadata": {},
   "outputs": [],
   "source": [
    "# Displaying Confusion_matrix\n",
    "confValid4 = confusion_matrix(y_test, y_pred_validate1)\n",
    "confTrain4 = confusion_matrix(y_train, y_pred_train1)"
   ]
  },
  {
   "cell_type": "code",
   "execution_count": 155,
   "metadata": {},
   "outputs": [
    {
     "name": "stdout",
     "output_type": "stream",
     "text": [
      "\u001b[1m Naive Rule: \u001b[0m 60.81%\n",
      "\u001b[1m Training hitrate: \u001b[0m94.57%\n",
      "\u001b[1m Validation hitrate: \u001b[0m93.92%\n",
      " \n",
      "\u001b[1m False Positives: \u001b[0m3.45%\n",
      "\u001b[1m False Negatives: \u001b[0m9.84%\n",
      " \n",
      "\u001b[1m Sensitivity: \u001b[0m93.33%\n",
      "\u001b[1m Specificity: \u001b[0m94.83%\n",
      " \n",
      "\u001b[1m 1 - Specficity: \u001b[0m5.17%\n"
     ]
    }
   ],
   "source": [
    "#Output Model Metrics\n",
    "print(\"\\033[1m Naive Rule: \\033[0m\", str(round(Naive_rule,2)) + \"%\")\n",
    "print(\"\\033[1m Training hitrate: \\033[0m\" + str(round(calcHR(confTrain4),2)) + \"%\")\n",
    "print(\"\\033[1m Validation hitrate: \\033[0m\"+ str(round(calcHR(confValid4),2)) + \"%\")\n",
    "print(\" \")\n",
    "print(\"\\033[1m False Positives: \\033[0m\"+ str(round(calcFP(confValid4),2)) + \"%\")\n",
    "print(\"\\033[1m False Negatives: \\033[0m\"+ str(round(calcFN(confValid4),2)) + \"%\")\n",
    "print(\" \")\n",
    "print(\"\\033[1m Sensitivity: \\033[0m\"+ str(round(calcSens(confValid4),2)) + \"%\")\n",
    "print(\"\\033[1m Specificity: \\033[0m\"+ str(round(calcSpec(confValid4),2)) + \"%\")\n",
    "print(\" \")\n",
    "print(\"\\033[1m 1 - Specficity: \\033[0m\"+ str(round(100-calcSpec(confValid4),2)) + \"%\")"
   ]
  },
  {
   "cell_type": "code",
   "execution_count": 156,
   "metadata": {},
   "outputs": [
    {
     "name": "stdout",
     "output_type": "stream",
     "text": [
      "Naive Rule: AUROC = 0.500\n",
      "Logistic: AUROC = 0.977\n"
     ]
    },
    {
     "data": {
      "image/png": "[encoded data removed]",
      "text/plain": [
       "<Figure size 432x288 with 1 Axes>"
      ]
     },
     "metadata": {},
     "output_type": "display_data"
    }
   ],
   "source": [
    "r_probs = [0 for _ in range(len(y_test))]\n",
    "rf_probs = logreg.predict_proba(X_test)\n",
    "\n",
    "rf_probs = rf_probs[:, 1]\n",
    "\n",
    "r_auc = roc_auc_score(y_test, r_probs)\n",
    "rf_auc = roc_auc_score(y_test, rf_probs)\n",
    "\n",
    "print('Naive Rule: AUROC = %.3f' % (r_auc))\n",
    "print('Logistic: AUROC = %.3f' % (rf_auc))\n",
    "\n",
    "r_fpr, r_tpr, _ = roc_curve(y_test, r_probs)\n",
    "rf_fpr, rf_tpr, _ = roc_curve(y_test, rf_probs)\n",
    "\n",
    "plt.plot(r_fpr, r_tpr, linestyle='--', label='Naive Rule')\n",
    "plt.plot(rf_fpr, rf_tpr, marker='.', label='Logistic')\n",
    "plt.title('ROC Plot')\n",
    "plt.xlabel('1 - Specficity')\n",
    "plt.ylabel('Sensitivity')\n",
    "plt.legend() #\n",
    "plt.show()"
   ]
  },
  {
   "cell_type": "code",
   "execution_count": 157,
   "metadata": {},
   "outputs": [],
   "source": [
    "base = np.exp(logreg.intercept_).astype('float')\n",
    "model_odds = pd.DataFrame(df_ckd_predictors.columns)\n",
    "model_odds['odds-ratio'] = pd.DataFrame(np.exp(logreg.coef_ * 1 + logreg.intercept_)).transpose()/base\n",
    "model_odds.rename(columns={0:'predictors'},inplace = True)"
   ]
  },
  {
   "cell_type": "code",
   "execution_count": 158,
   "metadata": {},
   "outputs": [
    {
     "data": {
      "text/html": [
       "<div>\n",
       "<style scoped>\n",
       "    .dataframe tbody tr th:only-of-type {\n",
       "        vertical-align: middle;\n",
       "    }\n",
       "\n",
       "    .dataframe tbody tr th {\n",
       "        vertical-align: top;\n",
       "    }\n",
       "\n",
       "    .dataframe thead th {\n",
       "        text-align: right;\n",
       "    }\n",
       "</style>\n",
       "<table border=\"1\" class=\"dataframe\">\n",
       "  <thead>\n",
       "    <tr style=\"text-align: right;\">\n",
       "      <th></th>\n",
       "      <th>predictors</th>\n",
       "      <th>odds-ratio</th>\n",
       "    </tr>\n",
       "  </thead>\n",
       "  <tbody>\n",
       "    <tr>\n",
       "      <th>0</th>\n",
       "      <td>hemo</td>\n",
       "      <td>0.476568</td>\n",
       "    </tr>\n",
       "    <tr>\n",
       "      <th>1</th>\n",
       "      <td>pcv</td>\n",
       "      <td>0.815287</td>\n",
       "    </tr>\n",
       "    <tr>\n",
       "      <th>2</th>\n",
       "      <td>sc</td>\n",
       "      <td>4.005836</td>\n",
       "    </tr>\n",
       "    <tr>\n",
       "      <th>3</th>\n",
       "      <td>rc</td>\n",
       "      <td>0.479937</td>\n",
       "    </tr>\n",
       "  </tbody>\n",
       "</table>\n",
       "</div>"
      ],
      "text/plain": [
       "  predictors  odds-ratio\n",
       "0       hemo    0.476568\n",
       "1        pcv    0.815287\n",
       "2         sc    4.005836\n",
       "3         rc    0.479937"
      ]
     },
     "execution_count": 158,
     "metadata": {},
     "output_type": "execute_result"
    }
   ],
   "source": [
    "model_odds"
   ]
  }
 ],
 "metadata": {
  "kernelspec": {
   "display_name": "Python 3",
   "language": "python",
   "name": "python3"
  },
  "language_info": {
   "codemirror_mode": {
    "name": "ipython",
    "version": 3
   },
   "file_extension": ".py",
   "mimetype": "text/x-python",
   "name": "python",
   "nbconvert_exporter": "python",
   "pygments_lexer": "ipython3",
   "version": "3.7.6"
  }
 },
 "nbformat": 4,
 "nbformat_minor": 4
}
